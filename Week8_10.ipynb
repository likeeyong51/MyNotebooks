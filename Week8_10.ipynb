{
  "nbformat": 4,
  "nbformat_minor": 0,
  "metadata": {
    "colab": {
      "provenance": [],
      "authorship_tag": "ABX9TyNYUEl6dv56tT0ildWWplS5",
      "include_colab_link": true
    },
    "kernelspec": {
      "name": "python3",
      "display_name": "Python 3"
    },
    "language_info": {
      "name": "python"
    }
  },
  "cells": [
    {
      "cell_type": "markdown",
      "metadata": {
        "id": "view-in-github",
        "colab_type": "text"
      },
      "source": [
        "<a href=\"https://colab.research.google.com/github/likeeyong51/MyNotebooks/blob/main/Week8_10.ipynb\" target=\"_parent\"><img src=\"https://colab.research.google.com/assets/colab-badge.svg\" alt=\"Open In Colab\"/></a>"
      ]
    },
    {
      "cell_type": "markdown",
      "source": [
        "# Week `8`-`10`\n",
        "* Functions, procedures and modules\n",
        "* Lists, tuples and dictionaries\n",
        "---"
      ],
      "metadata": {
        "id": "179fzFTLm9-W"
      }
    },
    {
      "cell_type": "markdown",
      "source": [
        "###Activity `1`\n",
        "Code in Python a function that `receives two numbers`, `calculates and returns the sum of the numbers`.<br>Use the following to test your function:\n",
        "* add 5 and 6, store  in and print x\n",
        "* add 10 and 20, store in and print  y\n",
        "* Then, add x and y, store in and print z"
      ],
      "metadata": {
        "id": "b8s6mNAim9OW"
      }
    },
    {
      "cell_type": "code",
      "source": [
        "# non-modularised\n",
        "# first set of test data\n",
        "n1, n2 = 5, 6\n",
        "sum = n1 + n2\n",
        "print(sum)\n",
        "# second set of test data\n",
        "n1, n2 = 10, 20\n",
        "sum = n1 + n2\n",
        "print(sum)"
      ],
      "metadata": {
        "id": "4tbu08qnF-TM"
      },
      "execution_count": null,
      "outputs": []
    },
    {
      "cell_type": "code",
      "source": [
        "# modularised\n",
        "# add two numbers\n",
        "def main():\n",
        "  # test 1\n",
        "  n1, n2 = 5, 6\n",
        "  sum = add(n1, n2)\n",
        "  print(sum)\n",
        "\n",
        "  # test 2\n",
        "  n1, n2 = 10, 20\n",
        "  sum = add(n1, n2)\n",
        "  print(sum)\n",
        "\n",
        "# a function that received two number, calculates and returns the sum of the numbers\n",
        "def add(n1, n2):\n",
        "  sum = n1 + n2\n",
        "  return sum\n",
        "\n",
        "main()"
      ],
      "metadata": {
        "id": "jziUTa2opUsO"
      },
      "execution_count": null,
      "outputs": []
    },
    {
      "cell_type": "markdown",
      "source": [
        "###Activity `2`\n",
        "Code in Python a program that prints the first ten multiples of 52. Use a `function` that calculates and returns a multiple of 52.\n"
      ],
      "metadata": {
        "id": "IjGs1LTKpBMM"
      }
    },
    {
      "cell_type": "code",
      "source": [
        "# non-modularised\n",
        "for i in range(10):\n",
        "    print(52 * i)"
      ],
      "metadata": {
        "id": "9v4lzT_MGV2C"
      },
      "execution_count": null,
      "outputs": []
    },
    {
      "cell_type": "code",
      "source": [
        "# modularised\n",
        "def main():\n",
        "    for m in range(10):\n",
        "        print(multiple(m, 12))\n",
        "\n",
        "# a function that calculates and returns a multiple of 52\n",
        "def multiple(m, r=52): # default value of r is 52\n",
        "    return r*m\n",
        "\n",
        "main()"
      ],
      "metadata": {
        "id": "o3Ohfk6APKVl"
      },
      "execution_count": null,
      "outputs": []
    },
    {
      "cell_type": "markdown",
      "source": [
        "###Activity `3`\n",
        "Design a `function` that `randomly generates and returns a number`.<br>\n",
        "Then code and test the function by getting it to `generate and then print ten random numbers` (between `[0, 1)`).\n",
        "\n",
        "`START`\n",
        "```\n",
        "    // write your pseudocode here\n",
        "    FUNCTION generate_random_number()\n",
        "      GENERATE and RETURN random_num\n",
        "    ENDFUNCTION\n",
        "\n",
        "    SET counter TO 1\n",
        "\n",
        "    WHILE counter <= 10 LOOP\n",
        "      SET x to generate_random_number()\n",
        "      PRINT x\n",
        "      SET counter TO counter + 1\n",
        "    ENDWHILE\n",
        "```\n",
        "`STOP`\n"
      ],
      "metadata": {
        "id": "gE1a7Z0SpGdH"
      }
    },
    {
      "cell_type": "code",
      "source": [
        "# a function that generates a number between [0, 1)\n",
        "import random as rd\n",
        "# from random import random\n",
        "\n",
        "def main():\n",
        "  for i in range(10):\n",
        "    print(generate())\n",
        "\n",
        "# define a function that generates and returns a random number\n",
        "# challenge: what scaling and shifting factor would you need to apply\n",
        "#    to generate a random number in the range e.g. 1 to 6\n",
        "\n",
        "def generate():\n",
        "    return rd.random()\n",
        "    # return random()\n",
        "\n",
        "main()"
      ],
      "metadata": {
        "id": "q2Me8XCaQqUm"
      },
      "execution_count": null,
      "outputs": []
    },
    {
      "cell_type": "markdown",
      "source": [
        "###Activity `4`\n",
        "Code in python a function that generates and returns an integer number between 1 and 10 inclusive.  To test the function, call and print a random number.\n"
      ],
      "metadata": {
        "id": "LMfeaxPs8nqp"
      }
    },
    {
      "cell_type": "code",
      "source": [
        "# place your code here\n",
        "from random import random\n",
        "\n",
        "def main():\n",
        "    print(generate())\n",
        "\n",
        "def generate():\n",
        "    '''generate and return an integer between 1 and 10 inclusive'''\n",
        "    return round(random()*10 + 1)\n",
        "\n",
        "main()\n"
      ],
      "metadata": {
        "id": "pfdxXiDP8ItO"
      },
      "execution_count": null,
      "outputs": []
    },
    {
      "cell_type": "code",
      "source": [
        "# randint\n",
        "from random import randint\n",
        "\n",
        "def main():\n",
        "    print(generate())\n",
        "\n",
        "def generate():\n",
        "    '''generate and return an integer between 1 and 10 inclusive'''\n",
        "    return randint(1, 10)\n",
        "\n",
        "main()"
      ],
      "metadata": {
        "id": "a2xbCE8bve8_"
      },
      "execution_count": null,
      "outputs": []
    },
    {
      "cell_type": "markdown",
      "source": [
        "###Activity `5`\n",
        "Modify the function to generate and return an integer number between 25 and 50 inclusive.  To test the function, call and print a random number."
      ],
      "metadata": {
        "id": "0uEqLijf79jc"
      }
    },
    {
      "cell_type": "code",
      "source": [
        "# place your code here\n"
      ],
      "metadata": {
        "id": "Pgxt4Avf8Lyd"
      },
      "execution_count": null,
      "outputs": []
    },
    {
      "cell_type": "markdown",
      "source": [
        "###Activity `6`\n",
        "Design a program to random choose a letter from a pool of letters"
      ],
      "metadata": {
        "id": "Epib2QxBMyOp"
      }
    },
    {
      "cell_type": "code",
      "source": [
        "# place your code here\n"
      ],
      "metadata": {
        "id": "KEJa11T6M-Ck"
      },
      "execution_count": null,
      "outputs": []
    },
    {
      "cell_type": "code",
      "source": [
        "#@title randomly choose a letter | an example\n",
        "import random\n",
        "\n",
        "def get_random_letter():\n",
        "    '''randomly return a letter between A and J'''\n",
        "    letters = 'ABCDEFGHIJ'\n",
        "    random_letter = random.choice(letters)\n",
        "    return random_letter\n",
        "\n",
        "def main():\n",
        "    previous = get_random_letter()\n",
        "    # print(previous)\n",
        "\n",
        "    # generate 10 random letters\n",
        "    for _ in range(10):\n",
        "        current = get_random_letter()\n",
        "        while current == previous:\n",
        "            current = get_random_letter()\n",
        "        # update previous\n",
        "        previous = current\n",
        "        print(current)\n",
        "\n",
        "if __name__ == \"__main__\":\n",
        "    main()"
      ],
      "metadata": {
        "id": "yOlyUqzXBVwc",
        "cellView": "form"
      },
      "execution_count": null,
      "outputs": []
    },
    {
      "cell_type": "code",
      "source": [
        "# based on the sample example, redesign this program\n",
        "# to randomly choose a letter using randint() instead\n"
      ],
      "metadata": {
        "id": "DfgcWF32NEl9"
      },
      "execution_count": null,
      "outputs": []
    },
    {
      "cell_type": "markdown",
      "source": [
        "###Challenge activity `1`\n",
        "* abstract the following code using functions"
      ],
      "metadata": {
        "id": "GQR-pito1-zN"
      }
    },
    {
      "cell_type": "code",
      "source": [
        "#@title challenge activity\n",
        "# abstract the following code using functions\n",
        "\n",
        "# dimensions of the shape\n",
        "n = 5\n",
        "m = 5\n",
        "\n",
        "# 1. print a square\n",
        "# version 1\n",
        "print(\"A square, version 1:\")\n",
        "for row in range(n):\n",
        "    # print a row of stars\n",
        "    for col in range(m):\n",
        "        print(\"*\", end=\" \")\n",
        "\n",
        "    # next step: go to a new line\n",
        "    print()\n",
        "\n",
        "print()\n",
        "\n",
        "# version 2\n",
        "print(\"A square, version 2:\")\n",
        "for row in range(n):\n",
        "    # print a row of stars of m columns\n",
        "    print(\"* \" * m)\n",
        "\n",
        "print()\n",
        "\n",
        "# 1.2: print a rhombus\n",
        "print(\"A Rhombus:\")\n",
        "for row in range(1, n+1):\n",
        "    # print padding\n",
        "    print(\"  \" * (n-row), end=\"\")\n",
        "    # print a row of stars of m columns\n",
        "    print(\"* \" * m)\n",
        "\n",
        "print()\n",
        "\n",
        "# 2. print a rectangle\n",
        "print(\"A Rectangle:\")\n",
        "m = 7\n",
        "\n",
        "for row in range(n):\n",
        "    # print a row of stars\n",
        "    for col in range(m):\n",
        "        print(\"*\", end=\" \")\n",
        "\n",
        "    # next step: go to a new line\n",
        "    print()\n",
        "\n",
        "print()\n",
        "\n",
        "# 2.2: print a parallelogram\n",
        "print(\"A Parallelogram:\")\n",
        "for row in range(1, n+1):\n",
        "    # print padding\n",
        "    print(\"  \" * (n-row), end=\"\")\n",
        "    # print a row of stars of m columns\n",
        "    print(\"* \" * m)\n",
        "\n",
        "print()\n",
        "\n",
        "# 3. print a right-angled triangle\n",
        "for row in range(n):\n",
        "    # print a row of stars\n",
        "    for col in range(row+1):\n",
        "        print(\"*\", end=\" \")\n",
        "\n",
        "    # next step: go to a new line\n",
        "    print()\n",
        "\n",
        "print()\n",
        "\n",
        "# 4. an inverted triangle\n",
        "print(\"An inverted triangle v1:\")\n",
        "\n",
        "# version 1\n",
        "for row in range(n):\n",
        "    # print a row of stars\n",
        "    for col in range(n-row):\n",
        "        print(\"*\", end=\" \")\n",
        "\n",
        "    # next step: go to a new line\n",
        "    print()\n",
        "\n",
        "print()\n",
        "\n",
        "# version 2\n",
        "print(\"An inverted triangle v2:\")\n",
        "for row in range(n, 0, -1):\n",
        "    # print a row of stars\n",
        "    for col in range(row):\n",
        "        print(\"*\", end=\" \")\n",
        "\n",
        "    # next step: go to a new line\n",
        "    print()\n",
        "\n",
        "print()\n",
        "\n",
        "# 5. a flipped triangle\n",
        "print(\"A flipped triangle:\")\n",
        "for row in range(1, n+1):\n",
        "    # print a row of blanks\n",
        "    for col in range(n-row):\n",
        "        print(\" \", end=\" \")\n",
        "\n",
        "    # print a row of stars\n",
        "    for col in range(row):\n",
        "        print(\"*\", end=\" \")\n",
        "\n",
        "    # next step: go to a new line\n",
        "    print()\n",
        "\n",
        "print()\n",
        "\n",
        "# 6. an inverted flipped triangle\n",
        "print(\"An inverted flipped triangle:\")\n",
        "for row in range(n):\n",
        "    # print a row of blacks\n",
        "    for col in range(row):\n",
        "        print(\" \", end=\" \")\n",
        "    # print a row of stars\n",
        "    for col in range(n-row):\n",
        "        print(\"*\", end=\" \")\n",
        "\n",
        "    # next step: go to a new line\n",
        "    print()\n",
        "\n",
        "# 7. an isosceles triangle\n",
        "print(\"An isosceles triangle:\")\n",
        "for row in range(1, n+1):\n",
        "    # print a row of blanks\n",
        "    for col in range(n-row):\n",
        "        print(\" \", end=\"\")\n",
        "\n",
        "    # print a row of stars\n",
        "    for col in range(row):\n",
        "        print(\"*\", end=\" \")\n",
        "\n",
        "    # next step: go to a new line\n",
        "    print()"
      ],
      "metadata": {
        "id": "KCI5G-Dcz5Ug",
        "cellView": "form"
      },
      "execution_count": null,
      "outputs": []
    },
    {
      "cell_type": "code",
      "source": [
        "#@title challenge activity | modularisation\n",
        "# function version: class demo\n",
        "# code to get you started\n",
        "# complete writing your code here\n",
        "\n",
        "def draw_a_line(of, n):\n",
        "    '''print a line of n chars'''\n",
        "    print(of * n)\n",
        "\n",
        "def draw_a_square(n, m):\n",
        "    '''draw a square/rectangle of n rows and m columns'''\n",
        "    for row in range(n):\n",
        "        draw_a_line(\"* \", m)\n",
        "\n",
        "def draw_a_triangle(n, m):\n",
        "    '''draw a triangle of n rows and n columns'''\n",
        "    for row in range(n):\n",
        "        draw_a_line(\"* \", row)\n",
        "\n",
        "# test the draw functions\n",
        "draw_a_square(5, 5)\n",
        "draw_a_triangle(5, 5)\n"
      ],
      "metadata": {
        "id": "_jfsFRB_Wid-"
      },
      "execution_count": null,
      "outputs": []
    },
    {
      "cell_type": "code",
      "source": [
        "# @title sample example\n",
        "# place your modified code here\n",
        "# here is some code to get you started\n",
        "\n",
        "def main():\n",
        "    # dimensions of the shape\n",
        "    w = 5\n",
        "    h = 5\n",
        "\n",
        "    # 1. 5x5 square\n",
        "    print_a_square(w, h)\n",
        "    print()\n",
        "\n",
        "# print a square\n",
        "def print_a_square(row, col):\n",
        "    print(\"\\n\".join(print_a_row(col, \"* \") for _ in range(row)))\n",
        "#   for row in range(row):\n",
        "#     print_a_row(col)\n",
        "\n",
        "# print a row of (stars)\n",
        "def print_a_row(col, char):\n",
        "  return char * col\n",
        "\n",
        "# check is main is run infile\n",
        "# will not run if the file containing this code is imported as module\n",
        "if __name__ == \"__main__\":\n",
        "    main()"
      ],
      "metadata": {
        "id": "bp6KWxI42EiJ",
        "cellView": "form"
      },
      "execution_count": null,
      "outputs": []
    },
    {
      "cell_type": "markdown",
      "source": [
        "###Challenge activitiy `2`\n",
        "* modify the following program to use iterations and functions"
      ],
      "metadata": {
        "id": "6rQjrNHA2IGw"
      }
    },
    {
      "cell_type": "code",
      "source": [
        "# modify the following program to use functions and iterations\n",
        "# A program that allows a user to enter the work hours\n",
        "# for each day of the second week and calculates and print\n",
        "# the total number of hours worked in week1 and week2.\n",
        "# Finally, it calculates and prints the difference in hours\n",
        "# of week 2 from week 1.\n",
        "# Bonus: If the value is negative, it prints \"You worked less hours in week 2\"\n",
        "# else it prints \"You worked more hours in week 2\"\n",
        "\n",
        "'''\n",
        "Week 1 work hours\n",
        "'''\n",
        "print(\"Enter week 1 data...\")\n",
        "# Prompt the user for hours worked for each weekday in week 1\n",
        "mon_hours_worked = int(input(\"Hours worked for Monday: \"))\n",
        "tue_hours_worked = int(input(\"Hours worked for Tuesday: \"))\n",
        "wed_hours_worked = int(input(\"Hours worked for Wednesday: \"))\n",
        "thu_hours_worked = int(input(\"Hours worked for Thursday: \"))\n",
        "fri_hours_worked = int(input(\"Hours worked for Friday: \"))\n",
        "\n",
        "# calculates the sum of hours worked for each weekday in week 1\n",
        "# Note: break up a statement into multiple lines:\n",
        "# By using a backslash (\\) at the end of a line to continue on the next line\n",
        "total_hours_week1 =    \\\n",
        "    mon_hours_worked + \\\n",
        "    tue_hours_worked + \\\n",
        "    wed_hours_worked + \\\n",
        "    thu_hours_worked + \\\n",
        "    fri_hours_worked\n",
        "\n",
        "# total hours worked in the first week\n",
        "print (f\"You worked {total_hours_week1} hours in week 1\")\n",
        "print()\n",
        "\n",
        "\n",
        "'''\n",
        "Week 2 work hours\n",
        "'''\n",
        "print(\"Enter week 2 data...\")\n",
        "# Prompt the user for hours worked for each weekday in week 2\n",
        "mon_hours_worked = int(input(\"Hours worked for Monday: \"))\n",
        "tue_hours_worked = int(input(\"Hours worked for Tuesday: \"))\n",
        "wed_hours_worked = int(input(\"Hours worked for Wednesday: \"))\n",
        "thu_hours_worked = int(input(\"Hours worked for Thursday: \"))\n",
        "fri_hours_worked = int(input(\"Hours worked for Friday: \"))\n",
        "\n",
        "# calculates the sum of hours worked for each weekday in week 2\n",
        "# Note:break up a statement into multiple lines:\n",
        "# By using a backslash (\\) at the end of a line to continue on the next line\n",
        "total_hours_week2 =    \\\n",
        "    mon_hours_worked + \\\n",
        "    tue_hours_worked + \\\n",
        "    wed_hours_worked + \\\n",
        "    thu_hours_worked + \\\n",
        "    fri_hours_worked\n",
        "\n",
        "# total hours worked in the second week\n",
        "print(f\"You worked {total_hours_week2} hours in week 2\")\n",
        "\n",
        "# calculate the difference of week2 from week1\n",
        "diff_hours = total_hours_week2 - total_hours_week1\n",
        "\n",
        "# prints the difference of hours worked in week 2 from week 1\n",
        "# abs() returns the absolute value of a number\n",
        "print()\n",
        "print(f\"The difference of week 2 hours from week 1 is {diff_hours} hours\")\n",
        "print(f\"You worked {abs(diff_hours)} \" + (\"less\" if diff_hours < 0 else \\\n",
        "      \"more\") + \" hours in week 2\")"
      ],
      "metadata": {
        "id": "_yFgLfhK0Fq7"
      },
      "execution_count": null,
      "outputs": []
    },
    {
      "cell_type": "code",
      "source": [
        "# write your modularised code here\n"
      ],
      "metadata": {
        "id": "K96ean-n8jkh"
      },
      "execution_count": null,
      "outputs": []
    },
    {
      "cell_type": "code",
      "source": [
        "# @title sample solution\n",
        "# place your modified code here\n",
        "# here's some code to get you started\n",
        "\n",
        "NUM_WEEKS = 2\n",
        "\n",
        "for w in range(1, NUM_WEEKS+1):\n",
        "    print(f\"Enter week {w} data...\")\n",
        "\n",
        "    # Prompt the user for hours worked for each weekday in week w\n",
        "    # calculates the sum of hours worked for each weekday in week w\n",
        "    total_hours_week = 0\n",
        "\n",
        "    for wd in [\"Monday\", \"Tuesday\", \"Wednesday\", \"Thursday\", \"Friday\"]:\n",
        "      hours_worked = int(input(f\"Hours worked for {wd}: \"))\n",
        "      total_hours_week +=  hours_worked\n",
        "\n",
        "    # total hours worked in the week w\n",
        "    if w == 1:\n",
        "        total_hours_week1 = total_hours_week\n",
        "\n",
        "    print (f\"\\nWeek {w}: You worked {total_hours_week} hours\")\n",
        "    print()\n",
        "\n",
        "# calculate the difference of week2 from week1\n",
        "diff_hours = total_hours_week - total_hours_week1\n",
        "\n",
        "# prints the difference of hours worked in week w from week 1\n",
        "# abs() returns the absolute value of a number\n",
        "print(f\"The difference of week 2 hours from week 1 is {diff_hours} hours\")\n",
        "\n",
        "if diff_hours == 0:\n",
        "    print(\"You worked the same number of hours in both weeks\")\n",
        "else:\n",
        "    print(f\"You worked {abs(diff_hours)} \" + (\"less\" if diff_hours < 0 else \\\n",
        "      \"more\") + \" hours in week 2\")"
      ],
      "metadata": {
        "id": "cnQEWMts2LxN",
        "cellView": "form"
      },
      "execution_count": null,
      "outputs": []
    },
    {
      "cell_type": "markdown",
      "source": [
        "---\n",
        "###Session `8.2` | `Anvil`.works\n",
        "Complete the following exercises as prescribed in this week's slides:\n",
        "* `Timer`\n",
        "* `Random number generator`\n",
        "* online tutorial [Build a feedback form](https://anvil.works/learn/tutorials/feedback-form)\n",
        "* online tutorial ref: [Multi-user app](https://anvil.works/learn/tutorials/multi-user-apps)\n",
        "* online tutorial ref: [data grids](https://anvil.works/learn/tutorials/data-grids)"
      ],
      "metadata": {
        "id": "ggUARnrq9vC0"
      }
    },
    {
      "cell_type": "markdown",
      "source": [
        "---\n",
        "##Week `9`-`10`\n",
        "* `Lists`\n",
        "* `Dictionaries`\n",
        "* Work on your `project`"
      ],
      "metadata": {
        "id": "5__PYSWM_RES"
      }
    },
    {
      "cell_type": "markdown",
      "source": [
        "###Activity `1`\n",
        "Create a program to `prompt the user for 5 integers` and `storing them in a list`.\n",
        "Then `print the list` of numbers.\n"
      ],
      "metadata": {
        "id": "Um_mCLDgBWLY"
      }
    },
    {
      "cell_type": "code",
      "source": [
        "7# start with an empty list\n",
        "num_list = []\n",
        "# populate my list with 5 numbers\n",
        "for _ in range(5):\n",
        "  num_list.append(input(\"Enter a number: \"))\n",
        "\n",
        "# print out every element in the number list\n",
        "print(\"Print the number list with a for-each loop: \")\n",
        "for n in num_list:\n",
        "  print(n, end=' ')\n",
        "\n",
        "# a list is mutable, i.e.\n",
        "# you can change the value of exisitng elements, e.g. the first element\n",
        "num_list[0] = 'first'\n",
        "\n",
        "# alternatively, you can also print every element using an inline list comprehension\n",
        "print(\"\\nUsing a list comphrehension (after changing the first element):\")\n",
        "print([n for n in num_list])\n",
        "\n",
        "# or just print the number list\n",
        "print(\"\\nPrint the number list\")\n",
        "print(num_list)\n",
        "\n",
        "# unpacked num_list\n",
        "print(\"\\nUnpack and print the list with *num_list\")\n",
        "print(*num_list)\n",
        "\n",
        "# remove first item\n",
        "num_list.remove('first')\n",
        "print(\"\\nPrint the list after removing the first element:\")\n",
        "print(num_list)\n",
        "\n",
        "# remove last item\n",
        "num_list.pop()\n",
        "print(\"\\nPrint the list after removing the last element with .pop():\")\n",
        "print(num_list)\n",
        "\n",
        "# remove second item\n",
        "num_list.pop(1)\n",
        "print(\"\\nPrint the list after removing the second element with .pop(1):\")\n",
        "print(num_list)\n",
        "\n",
        "# delete first item\n",
        "del num_list[0]\n",
        "print(\"\\nPrint the list after deleting the first element with del num_list[0]:\")\n",
        "print(num_list)"
      ],
      "metadata": {
        "id": "WVCOmI_6D6cm"
      },
      "execution_count": null,
      "outputs": []
    },
    {
      "cell_type": "code",
      "source": [
        "# create a tuple\n",
        "num_list2 = ()\n",
        "num_list2 = (1, 2, 3, 4, 'Five')\n",
        "print(num_list2)\n",
        "\n",
        "# a tuple is immutable i.e.\n",
        "# you cannot reassign a new value to an existing element\n",
        "# num_list2[0] = 10 # this will cause an error\n",
        "\n",
        "# however, you can reassign it to a new list\n",
        "num_list2 = (10, 2, 3, 4, 5)\n",
        "print(num_list2)"
      ],
      "metadata": {
        "id": "BuIrLPqA1MgF"
      },
      "execution_count": null,
      "outputs": []
    },
    {
      "cell_type": "code",
      "source": [
        "# list\n",
        "myList = [1, 2, 3, 4, 5]\n",
        "a = b = myList\n",
        "# a = myList\n",
        "# b = myList\n",
        "# b = [1, 2, 3, 4, 5]\n",
        "c = [5, 6, 7, 8, 9]\n",
        "\n",
        "# print(id(a), id(b))\n",
        "\n",
        "# test identity\n",
        "print(\"Is a and b are the same object?\", \"Yes\" if a is b else \"No\")\n",
        "print(\"a is not c?\", \"Yes\" if a is not c else \"No\")"
      ],
      "metadata": {
        "id": "iMYWOnNcZxX9"
      },
      "execution_count": null,
      "outputs": []
    },
    {
      "cell_type": "code",
      "source": [
        "# @title more examples\n",
        "# version: string array with numpy\n",
        "import numpy as np\n",
        "import array\n",
        "\n",
        "# allocate an array of 10 elements\n",
        "name_list = np.array(['']*10) #, dtype=str) # optional str datatype specification\n",
        "\n",
        "for i in range(10):\n",
        "  name_list[i] = input(\"Enter a name: \")\n",
        "\n",
        "# print out the array as is\n",
        "print(name_list)\n",
        "# print out the unpacked array i.e. just the elements of the array\n",
        "print(*name_list)\n",
        "\n",
        "# slicing an array/list [start_index:stop_index)\n",
        "print(name_list[2:5])\n",
        "\n",
        "# using array comprehension - except 'b'\n",
        "new_name_list = array.array('u', [name for name in name_list if name != 'b'])\n",
        "print(*new_name_list)"
      ],
      "metadata": {
        "id": "7w5Z2oNxJ5DK",
        "cellView": "form"
      },
      "execution_count": null,
      "outputs": []
    },
    {
      "cell_type": "markdown",
      "source": [
        "###Activity `2`\n",
        "Create a program to `prompt the user for 10 names` and `storing them in a list`.\n",
        "Then `print the list` of names.\n"
      ],
      "metadata": {
        "id": "elC16InPD66-"
      }
    },
    {
      "cell_type": "code",
      "source": [
        "# place your code here\n",
        "# use a repeat..until style iteration to read in and store a name in a list until the user enter 'done'\n",
        "# print the list of names\n",
        "# store the name_list in a name_array of str data type and print it out again\n",
        "\n",
        "def get_names(names):\n",
        "    for _ in range(10):\n",
        "        # prompt user for a name\n",
        "        name = input(\"Enter a name: \")\n",
        "\n",
        "        if name == 'done': # early exit point\n",
        "            break\n",
        "        # add name to the name list\n",
        "        names.append(name)\n",
        "\n",
        "def main():\n",
        "    names = []\n",
        "    # get up to 10 names\n",
        "    get_names(names)\n",
        "\n",
        "    # print the name list\n",
        "    print(*names)\n",
        "\n",
        "if __name__ == \"__main__\":\n",
        "    main()"
      ],
      "metadata": {
        "id": "mT_tl4NwF0Xk"
      },
      "execution_count": null,
      "outputs": []
    },
    {
      "cell_type": "markdown",
      "source": [
        "### <mark>Hurdle Task</mark> `3`\n",
        "    Complete this hurdle task in Anvil.works\n",
        "    Instructions are found in the Assessment section in the Moodle site.\n",
        "\n",
        "\n"
      ],
      "metadata": {
        "id": "WR5vMyIfF3SN"
      }
    },
    {
      "cell_type": "markdown",
      "source": [
        "---\n",
        "##Week `10`\n",
        "* `Dictionaries`\n",
        "* Work on your `project`"
      ],
      "metadata": {
        "id": "eggbvNnvOJqm"
      }
    },
    {
      "cell_type": "markdown",
      "source": [
        "**Creating a Dictionary**\n",
        "    \n",
        "    You can create a dictionary using curly braces {} with key-value pairs separated by colons :.\n",
        "\n",
        "**Accessing Values**\n",
        "    \n",
        "    You can access values by using their corresponding keys.\n",
        "\n",
        "**Adding or Updating Key-Value Pairs**\n",
        "    \n",
        "    You can add new key-value pairs or update existing ones by assigning a value to a key."
      ],
      "metadata": {
        "id": "YykXWsLAck9g"
      }
    },
    {
      "cell_type": "code",
      "source": [
        "# to create an empty dictionary:\n",
        "my_dict = {}\n",
        "\n",
        "# you can create and initialise a dictionary with one or more\n",
        "# comma-separated skey-value pairs\n",
        "my_dict = {\n",
        "    \"name\": \"Ben\",\n",
        "    \"age\" : 25,\n",
        "    \"city\": \"Melbourne\"\n",
        "}\n",
        "\n",
        "print(my_dict[\"name\"])  # Output: Ben\n",
        "print(my_dict[\"age\"])   # Output: 25\n",
        "\n",
        "# Adding a new key-value pair\n",
        "my_dict[\"email\"] = \"ben@example.com\"\n",
        "\n",
        "# Updating an existing key-value pair\n",
        "my_dict[\"age\"] = 26\n",
        "\n",
        "# print the dictionary\n",
        "print(my_dict)\n",
        "# unpack the dictionary keys\n",
        "print(*my_dict) # default to the keys only\n",
        "# unpack the dictionary keys\n",
        "print(*my_dict.keys())\n",
        "# unpack the dictionary values\n",
        "print(*my_dict.values())\n",
        "# unpack the dictionary keys and values\n",
        "# print(**my_dict) # unpack both but print does not support printing the unpack key-value pairs\n",
        "print(*my_dict.items()) # use this instead"
      ],
      "metadata": {
        "id": "6mPyOuPmOSmV"
      },
      "execution_count": null,
      "outputs": []
    },
    {
      "cell_type": "markdown",
      "source": [
        "**Removing Key-Value Pairs**\n",
        "\n",
        "    You can remove key-value pairs using the del statement or the pop method."
      ],
      "metadata": {
        "id": "wuiwxSu9cTw6"
      }
    },
    {
      "cell_type": "code",
      "source": [
        "# Using del\n",
        "del my_dict[\"city\"]\n",
        "\n",
        "# Using pop\n",
        "email = my_dict.pop(\"email\")\n",
        "\n",
        "print(my_dict)  # Output: {'name': 'Ben', 'age': 26}\n",
        "print(email)    # Output: ben@example.com"
      ],
      "metadata": {
        "id": "iYoQfssTc6DL"
      },
      "execution_count": null,
      "outputs": []
    },
    {
      "cell_type": "markdown",
      "source": [
        "**Checking for Keys**\n",
        "\n",
        "    You can check if a key exists in the dictionary using the in keyword."
      ],
      "metadata": {
        "id": "ZKytjhO8c0km"
      }
    },
    {
      "cell_type": "code",
      "source": [
        "# check if a key exists in my_dict\n",
        "if \"name\" in my_dict: # case-sensitive\n",
        "    print(\"Name is present\")\n",
        "else:\n",
        "    print(\"Name is not present\")"
      ],
      "metadata": {
        "id": "m5lPrsdpYmuY"
      },
      "execution_count": null,
      "outputs": []
    },
    {
      "cell_type": "code",
      "source": [
        "# check if a value exists in my_dict\n",
        "if \"Ben\" in my_dict.values(): # case-sensitive\n",
        "    print(\"Ben is present\")\n",
        "else:\n",
        "    print(\"Ben is not present\")"
      ],
      "metadata": {
        "id": "6JeA3cDhXl3U"
      },
      "execution_count": null,
      "outputs": []
    },
    {
      "cell_type": "markdown",
      "source": [
        "**Iterating Over a Dictionary**\n",
        "\n",
        "    You can iterate over keys, values, or key-value pairs using loops."
      ],
      "metadata": {
        "id": "J418ZJlOdE1S"
      }
    },
    {
      "cell_type": "code",
      "source": [
        "# Iterating over keys\n",
        "print('Keys in my dictionary:')\n",
        "\n",
        "for key in my_dict: # the reference of my_dict default to the list of keys\n",
        "    print(key)\n",
        "\n",
        "# Iterating over values\n",
        "print('\\nValues in my dictionary:')\n",
        "\n",
        "for value in my_dict.values():\n",
        "    print(value)\n",
        "\n",
        "# Iterating over key-value pairs\n",
        "print('\\nKey-value pairs in my dictionary')\n",
        "\n",
        "for key, value in my_dict.items():\n",
        "    print(f\"{key}:{value}\")\n",
        "\n",
        "# Unpack and print dictionary in a single line of\n",
        "# comma-separated list of key-value pairs\n",
        "print(\"\\nUnpacked dictionary:\")\n",
        "print(\", \".join(f\"{key}:{value}\" for key, value in my_dict.items()))"
      ],
      "metadata": {
        "id": "8LToCoP4Ywrb"
      },
      "execution_count": null,
      "outputs": []
    },
    {
      "cell_type": "markdown",
      "source": [
        "###Dictionary `Methods`\n",
        "Dictionaries come with several useful methods.\n",
        "\n",
        "Here are a few:\n",
        "\n",
        "* **keys()**:\n",
        "      Returns a view object of all keys.\n",
        "* **values()**:\n",
        "      Returns a view object of all values.\n",
        "* **items()**:\n",
        "      Returns a view object of all key-value pairs.\n",
        "* **get(key, default)**:\n",
        "      Returns the value for key if key is in the dictionary, else default."
      ],
      "metadata": {
        "id": "myuCLsznZaN4"
      }
    },
    {
      "cell_type": "code",
      "source": [
        "print(my_dict.keys())    # Output: dict_keys(['name', 'age'])\n",
        "print(my_dict.values())  # Output: dict_values(['Ben', 26])\n",
        "print(my_dict.items())   # Output: dict_items([('name', 'Ben'), ('age', 26)])\n",
        "\n",
        "# Using get method\n",
        "print(my_dict.get(\"name\"))               # Output: Ben\n",
        "print(my_dict.get(\"city\", \"Not Found\"))  # Output: Not Found\n",
        "# print(my_dict['city'])                 # this statement will result in an error"
      ],
      "metadata": {
        "id": "4gH-a-4IZlgt"
      },
      "execution_count": null,
      "outputs": []
    },
    {
      "cell_type": "code",
      "source": [
        "my_dict = {\n",
        "    'twelve'  : 12,\n",
        "    'fourteen': 14\n",
        "    }\n",
        "\n",
        "# a function that prints the key of the dictionary\n",
        "def my_function(fourteen, twelve):\n",
        "    print(f\"twelve is {twelve}\")\n",
        "    print(f\"fourteen is {fourteen}\")\n",
        "\n",
        "# pass and unpack a dictionary\n",
        "my_function(**my_dict)\n"
      ],
      "metadata": {
        "id": "32T4X82O2LlG"
      },
      "execution_count": null,
      "outputs": []
    },
    {
      "cell_type": "code",
      "source": [
        "dict_1 = {'meow': 12,  'mi': 14}\n",
        "dict_2 = {'moo' : 16, 'koo': 18}\n",
        "\n",
        "# combine multiple dictionaries into one\n",
        "new_dict = {**dict_1, **dict_2}\n",
        "print(new_dict)  # Output: {'meow': 12, 'mi': 14, 'moo': 16, 'koo': 18}\n"
      ],
      "metadata": {
        "id": "PfJmbJw92ZJO"
      },
      "execution_count": null,
      "outputs": []
    },
    {
      "cell_type": "markdown",
      "source": [
        "---\n",
        "###Challenge Activity\n",
        "    Modify the previous code to include either one or more of the following:\n",
        "    * list\n",
        "    * dictionary\n",
        "\n",
        "    Note: use the data structure to capture the inputs independently of the data manipulation process"
      ],
      "metadata": {
        "id": "IHP4lMto_5Uy"
      }
    },
    {
      "cell_type": "code",
      "source": [
        "# @title Challenge activity | start code {display-mode: \"form\"}\n",
        "# place your modified code here\n",
        "# here's some code to get you started\n",
        "\n",
        "NUM_WEEKS = 2\n",
        "\n",
        "def main():\n",
        "    # get and sum weekly hours\n",
        "    week1_hours, week2_hours = sum_weekly_hours(NUM_WEEKS)\n",
        "\n",
        "    # process and compare weekly hours\n",
        "    process_weekly_hours(week1_hours, week2_hours)\n",
        "\n",
        "\n",
        "def get_weekly_hours():\n",
        "    # initialised total hours work per week\n",
        "    total_hours_week = 0\n",
        "\n",
        "    for wd in [\"Monday\", \"Tuesday\", \"Wednesday\", \"Thursday\", \"Friday\"]:\n",
        "        hours_worked = int(input(f\"Hours worked for {wd}: \"))\n",
        "        total_hours_week +=  hours_worked\n",
        "\n",
        "    return total_hours_week\n",
        "\n",
        "def sum_weekly_hours(total_weeks):\n",
        "    for w in range(1, total_weeks+1):\n",
        "        print(f\"Enter week {w} data...\")\n",
        "\n",
        "        # Prompt the user for hours worked for each weekday in week w\n",
        "        # calculates the sum of hours worked for each weekday in week w\n",
        "        total_hours_week = get_weekly_hours()\n",
        "\n",
        "        # total hours worked in the week w\n",
        "        if w == 1:\n",
        "            total_hours_week1 = total_hours_week\n",
        "\n",
        "        print (f\"\\nWeek {w}: You worked {total_hours_week} hours\")\n",
        "        print()\n",
        "\n",
        "    return total_hours_week1, total_hours_week\n",
        "\n",
        "def process_weekly_hours(total_hours_week1, total_hours_week2):\n",
        "    # calculate the difference of week2 from week1\n",
        "    diff_hours = total_hours_week2 - total_hours_week1\n",
        "\n",
        "    # prints the difference of hours worked in week 2 from week 1\n",
        "    print(f\"The difference of week 2 hours from week 1 is {diff_hours} hours\")\n",
        "\n",
        "    # compare and print the difference in hours worked\n",
        "    if diff_hours == 0:\n",
        "        print(\"You worked the same number of hours in both weeks\")\n",
        "    else:\n",
        "        print(f\"You worked {abs(diff_hours)} less hour(s) in week 2\" if diff_hours < 0 else \\\n",
        "            f\"You worked {abs(diff_hours)} more hour(s) in week 2\")\n",
        "\n",
        "if __name__ == \"__main__\":\n",
        "    main()"
      ],
      "metadata": {
        "id": "twMl9Hjl_4AH"
      },
      "execution_count": null,
      "outputs": []
    },
    {
      "cell_type": "code",
      "source": [
        "# write your code here\n"
      ],
      "metadata": {
        "id": "OsWCm5G-yYZM"
      },
      "execution_count": null,
      "outputs": []
    },
    {
      "cell_type": "markdown",
      "source": [
        "###Anvil Activity\n",
        "    Complete this task in Anvil.works\n",
        "\n",
        "    Deakin College is a reputable education provider in the industry.\n",
        "    The academic director is planning to create a simple Student Gradebook generator for each subject.\n",
        "\n",
        "    You have been assigned the task of creating the Student Gradebook generator.\n",
        "    The program will allow a teacher to enter a student name, subject and related marks.  It will then determine the student grade based on the marks.\n",
        "    \n",
        "    In this hurdle task, code in Python using one or more of these components:\n",
        "    •\tloops,\n",
        "    •\tconditional statements, and/or\n",
        "    •\tlists or dictionaries\n",
        "    to determine the final grade of one or many students.\n",
        "\n",
        "    Requirements\n",
        "    Input Data:\n",
        "    •\tStudent name\n",
        "    •\tSubject\n",
        "    •\tMarks\n",
        "    \n",
        "    Use the following grade scale:\n",
        "    •\t>= 80   -> Higher Distinction (HD)\n",
        "    •\t79 – 75 -> Distinction (D)\n",
        "    •\t74 – 65 -> Credit (C)\n",
        "    •\t64 – 50 -> Pass (P)\n",
        "    •\t<50     -> Fail (F)\n",
        "    \n",
        "    Output:\n",
        "    •\tSubject\n",
        "    •\tStudent names with marks and grade\n"
      ],
      "metadata": {
        "id": "uditA6U3JUAl"
      }
    }
  ]
}