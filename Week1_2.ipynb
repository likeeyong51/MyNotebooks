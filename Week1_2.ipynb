{
  "cells": [
    {
      "cell_type": "markdown",
      "metadata": {
        "id": "view-in-github",
        "colab_type": "text"
      },
      "source": [
        "<a href=\"https://colab.research.google.com/github/likeeyong51/MyNotebooks/blob/main/Week1_2.ipynb\" target=\"_parent\"><img src=\"https://colab.research.google.com/assets/colab-badge.svg\" alt=\"Open In Colab\"/></a>"
      ]
    },
    {
      "cell_type": "markdown",
      "metadata": {
        "id": "zpTolPWkNuUd"
      },
      "source": [
        "## Week 1\n",
        "> Introduction\n",
        "- Class activities"
      ]
    },
    {
      "cell_type": "markdown",
      "metadata": {
        "notebookRunGroups": {
          "groupValue": "1"
        },
        "id": "KSJ-X4m8NuUe"
      },
      "source": [
        "### Python comments\n",
        "* single-line\n",
        "* inline\n",
        "* multi-line"
      ]
    },
    {
      "cell_type": "code",
      "execution_count": null,
      "metadata": {
        "id": "5oomA0L9NuUe"
      },
      "outputs": [],
      "source": [
        "'''\n",
        "This is a multi-line comment,\n",
        "which means I can write my comments one or more lines.\n",
        "* It is important to always document your thoughts and rationale\n",
        "for your program:\n",
        "1. Write the outline of your program in pseudocode first using the IPO model.\n",
        "2. Then, expand on each key step into smaller steps, essentially teaching the computer how to perform the key steps.\n",
        "3. Finally, translate the steps into python.\n",
        "'''\n",
        "\n",
        "\"\"\"\n",
        "This is also a multi-line comment.\n",
        "Anything I place in between the pair of triple-quotes (single or double)\n",
        "will be ignored by the python interpreter.\n",
        "\"\"\""
      ]
    },
    {
      "cell_type": "markdown",
      "metadata": {
        "id": "d7FGN5G2NuUf"
      },
      "source": [
        "### Writing your first Python program\n",
        "> Hello World! - press ctrl-enter to run the program"
      ]
    },
    {
      "cell_type": "code",
      "execution_count": null,
      "metadata": {
        "id": "iy6Yym6xNuUf"
      },
      "outputs": [],
      "source": [
        "# get python to say hello to the world\n",
        "print(\"Hello, world!\") # this outputs the message to the console screen\n",
        "# output: Hello, world!"
      ]
    },
    {
      "cell_type": "markdown",
      "metadata": {
        "id": "a2_KV7HINuUf"
      },
      "source": [
        "### Variables\n",
        "> Python is awesome!"
      ]
    },
    {
      "cell_type": "code",
      "execution_count": null,
      "metadata": {
        "id": "bkbBaIhuNuUf"
      },
      "outputs": [],
      "source": [
        "# create a variable and store a message\n",
        "# a variable is a named memory location\n",
        "msg = \"Python is awesome!\" # this assigns (stores) the messsage to the variable 'msg'\n",
        "# print the message\n",
        "print(msg) # then, print the content of 'msg' that contents the message\n",
        "# output: Roll a die!"
      ]
    },
    {
      "cell_type": "markdown",
      "metadata": {
        "id": "50mSFeQ3NuUf"
      },
      "source": [
        "### Random number generation\n",
        "* Let's add the numpy library package, **numpy**, to give it the ability to *generate a random number*"
      ]
    },
    {
      "cell_type": "code",
      "execution_count": null,
      "metadata": {
        "id": "Kcpeid0sNuUf"
      },
      "outputs": [],
      "source": [
        "# import a library containing a random number generator\n",
        "import numpy as np\n",
        "\n",
        "msg = \"Roll a die...\"\n",
        "print(msg)\n",
        "\n",
        "# generate a number between 1 and 6\n",
        "print('Die:', np.random.randint(1,6))\n",
        "\n",
        "\"\"\"\n",
        "Output:\n",
        "Roll a die...\n",
        "Die: 3\n",
        "\"\"\""
      ]
    },
    {
      "cell_type": "markdown",
      "metadata": {
        "notebookRunGroups": {
          "groupValue": "1"
        },
        "id": "8iKwWBS1NuUf"
      },
      "source": [
        "### Week 2\n",
        "> Class Activity #1"
      ]
    },
    {
      "cell_type": "code",
      "execution_count": null,
      "metadata": {
        "notebookRunGroups": {
          "groupValue": "2"
        },
        "id": "foo5yNeiNuUf"
      },
      "outputs": [],
      "source": [
        "# print a message\n",
        "print(\"Hello, I am a Python programmer.\\nThis is program number: 1\")\n",
        "# prints a multi-line message verbatim\n",
        "print(\"\"\"\n",
        "Hello, I am a Python programmer.\n",
        "This is program number: 1\n",
        "\"\"\")\n",
        "'''\n",
        "Output:\n",
        "Hello, I am a Python programmer.\n",
        "This is program number: 1\n",
        "\n",
        "Hello, I am a Python programmer.\n",
        "This is program number: 1\n",
        "'''"
      ]
    },
    {
      "cell_type": "code",
      "execution_count": null,
      "metadata": {
        "id": "02HlaCcvNuUf"
      },
      "outputs": [],
      "source": [
        "# print can also output several parts, replacing each comma with a space\n",
        "print(\"Hello, I am a Python programmer.\", \"This is program number:\", 1)\n",
        "# output: Hello, I am a Python programmer. This is program number: 1"
      ]
    },
    {
      "cell_type": "code",
      "execution_count": null,
      "metadata": {
        "id": "6rF3j9h7NuUf"
      },
      "outputs": [],
      "source": [
        "# get a name from the user\n",
        "name = input(\"Enter a name: \") # keeyong\n",
        "print('Your name is', name)\n",
        "# output: Your name is Keeyong"
      ]
    },
    {
      "cell_type": "code",
      "execution_count": null,
      "metadata": {
        "id": "0SBMqnHfNuUg"
      },
      "outputs": [],
      "source": [
        "# get a number from the user\n",
        "number = input('Enter your lucky number: ') # 7\n",
        "print('Your number is', number)\n",
        "# output: Your number is 7"
      ]
    },
    {
      "cell_type": "code",
      "execution_count": null,
      "metadata": {
        "id": "i7vSsXQDNuUg"
      },
      "outputs": [],
      "source": [
        "# get firstname, lastname and student ID\n",
        "firstinitial = input('Enter firstinitial: ') # ky\n",
        "lastinitial  = input('Enter lastinitial: ')  # l\n",
        "studentID = input('Enter student ID: ')      # 123567\n",
        "\n",
        "# output result by combining the initials and ID into a username\n",
        "print('Your username:',firstinitial + lastinitial + studentID)\n",
        "# output: Your username: ky123567"
      ]
    },
    {
      "cell_type": "code",
      "execution_count": null,
      "metadata": {
        "id": "n734tYruNuUg"
      },
      "outputs": [],
      "source": [
        "# convert a number explicitly usering str() before printing it to the screen\n",
        "pi = 3.14159\n",
        "pi_str = str(pi)\n",
        "# pi_str = str(f'{pi:.3f}') # round to 3 decimal place\n",
        "print(f\"Float as string: {pi_str}\")\n",
        "# output: Float as string: 3.14159"
      ]
    },
    {
      "cell_type": "code",
      "execution_count": null,
      "metadata": {
        "id": "vq5Dg0SbNuUg"
      },
      "outputs": [],
      "source": [
        "# convert a boolean value to a string\n",
        "is_true = True\n",
        "is_true_str = str(is_true)\n",
        "print(f\"Boolean as string: {is_true_str}\")\n",
        "# output: Boolean as string: True"
      ]
    },
    {
      "cell_type": "code",
      "execution_count": null,
      "metadata": {
        "id": "XGn7F90TNuUg"
      },
      "outputs": [],
      "source": [
        "my_list = [1, 2, 3]\n",
        "list_str = str(my_list)\n",
        "print(f\"List as string: {list_str}\")\n",
        "# List as string: [1, 2, 3]"
      ]
    },
    {
      "cell_type": "code",
      "execution_count": null,
      "metadata": {
        "id": "oaKIV4yENuUg"
      },
      "outputs": [],
      "source": [
        "my_tuple = (4, 5, 6)\n",
        "tuple_str = str(my_tuple)\n",
        "print(f\"Tuple as string: {tuple_str}\")\n",
        "# output: Tuple as string: (4, 5, 6)"
      ]
    },
    {
      "cell_type": "code",
      "execution_count": null,
      "metadata": {
        "id": "ruGsN8nNNuUg"
      },
      "outputs": [],
      "source": [
        "name = \"Alice\"\n",
        "age = 30\n",
        "print(f\"My name is {name} and I am {age} years old.\")\n",
        "# Output: \"My name is Alice and I am 30 years old.\""
      ]
    },
    {
      "cell_type": "code",
      "execution_count": null,
      "metadata": {
        "id": "--DQEgrrNuUg"
      },
      "outputs": [],
      "source": [
        "x = 10\n",
        "y = 20\n",
        "print(f\"The sum of {x} and {y} is {x + y}.\")\n",
        "# Output: \"The sum of 10 and 20 is 30.\""
      ]
    },
    {
      "cell_type": "code",
      "execution_count": null,
      "metadata": {
        "id": "DroGTp69NuUg"
      },
      "outputs": [],
      "source": [
        "pi = 3.14159\n",
        "print(f\"Value of pi (rounded to 2 decimal places): {pi:.2f}\")\n",
        "# Output: \"Value of pi (rounded to 2 decimal places): 3.14\""
      ]
    },
    {
      "cell_type": "code",
      "execution_count": null,
      "metadata": {
        "id": "68shL8FlNuUg"
      },
      "outputs": [],
      "source": [
        "radius= 5\n",
        "area = pi * radius ** 2\n",
        "print(f\"Area of a circle with radius {radius} is {area:.2f}.\")\n",
        "# Output: \"Area of a circle with radius 5 is 78.54.\""
      ]
    },
    {
      "cell_type": "code",
      "execution_count": null,
      "metadata": {
        "id": "wl5lCS6kNuUg"
      },
      "outputs": [],
      "source": [
        "multiline_str = f\"\"\"\n",
        "Hello,\n",
        "My name is {name}.\n",
        "I am {age} years old.\n",
        "\"\"\"\n",
        "print(multiline_str)\n",
        "# Output:\n",
        "# Hello,\n",
        "# My name is Alice.\n",
        "# I am 30 years old."
      ]
    }
  ],
  "metadata": {
    "kernelspec": {
      "display_name": "Python 3 (ipykernel)",
      "language": "python",
      "name": "python3"
    },
    "language_info": {
      "codemirror_mode": {
        "name": "ipython",
        "version": 3
      },
      "file_extension": ".py",
      "mimetype": "text/x-python",
      "name": "python",
      "nbconvert_exporter": "python",
      "pygments_lexer": "ipython3",
      "version": "3.11.7"
    },
    "colab": {
      "provenance": [],
      "include_colab_link": true
    }
  },
  "nbformat": 4,
  "nbformat_minor": 0
}