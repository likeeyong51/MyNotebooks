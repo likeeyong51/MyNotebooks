{
  "cells": [
    {
      "cell_type": "markdown",
      "metadata": {
        "id": "view-in-github",
        "colab_type": "text"
      },
      "source": [
        "<a href=\"https://colab.research.google.com/github/likeeyong51/MyNotebooks/blob/main/Week1_2.ipynb\" target=\"_parent\"><img src=\"https://colab.research.google.com/assets/colab-badge.svg\" alt=\"Open In Colab\"/></a>"
      ]
    },
    {
      "cell_type": "markdown",
      "metadata": {
        "id": "fZytXbPYqkIw"
      },
      "source": [
        "## <a id='toc1_1_'></a>[Week 1](#toc0_)\n",
        "> Introduction • Session 1\n",
        "- Class activities"
      ]
    },
    {
      "cell_type": "markdown",
      "metadata": {
        "id": "ALwpuge1qkIx"
      },
      "source": [
        "### <a id='toc1_1_1_'></a>[Python comments](#toc0_)\n",
        "* single-line\n",
        "* inline\n",
        "* multi-line"
      ]
    },
    {
      "cell_type": "code",
      "execution_count": null,
      "metadata": {
        "id": "pqWK6lg-qkIx"
      },
      "outputs": [],
      "source": [
        "# @title Python comments {display-mode: \"form\"}\n",
        "# This is a single-line comment\n",
        "# Comments are ignored by the Python interpreter.\n",
        "\n",
        "print('Whatsup? This is a string literal') # This is an inline comment\n",
        "\n",
        "'''\n",
        "This is a multi-line comment,\n",
        "which means I can write my comments one or more lines.\n",
        "* It is important we always document our thoughts and rationale for writing our program.\n",
        "\n",
        "1. Write the outline of your program in pseudocode first using the IPO model.\n",
        "2. Then, expand on each key step into smaller steps, essentially teaching the\n",
        "  computer how to perform the key steps.\n",
        "3. Finally, translate the steps into python. We will learn the solution design tools over the next three weeks.\n",
        "'''\n",
        "\n",
        "\"\"\"\n",
        "This is also a multi-line comment, but denoted with double-quotes.\n",
        "Note also that both can be used as a docstring for documenting functions in Python.\n",
        "Anything I place in between the pair of triple-quotes (single or double)\n",
        "will be treated as a docstring by the python interpreter, unless\n",
        "it is placed in a print function for printing multiple lines verbatim.\n",
        "\"\"\""
      ]
    },
    {
      "cell_type": "markdown",
      "metadata": {
        "id": "kufY8w1NqkIx"
      },
      "source": [
        "## <a id='toc1_2_'></a>[Class example](#toc0_)\n",
        "> We will start our class with a puzzle for you to wrestle with this week.\n",
        "\n",
        "> This is followed by an example of what we should not do a a programmer.\n",
        "* These are bad coding habits you need to avoid and reject, NOT adopt.\n",
        "<div>\n",
        "<img src=\"https://drive.google.com/uc?export=view&id=1R5D0mf0C3fIqHf63Xs4zVGPnSYdGF44a\" width=\"9%\" />\n",
        "</div>"
      ]
    },
    {
      "cell_type": "code",
      "source": [
        "# @title Why is the monkey confused? {display-mode: \"form\"}\n",
        "# Why is the monkey confused?\n",
        "# How do we fix the following code to help the poor monkey?\n",
        "num1 = input(\"Enter your first number: \")\n",
        "# print(type(num1))\n",
        "num2 = input(\"Enter your second number: \")\n",
        "# print(type(num2))\n",
        "\n",
        "total = num1 + num2 # add two numbers together and store it in total\n",
        "\n",
        "print(total)\n",
        "\n",
        "# we will re-visit this problem later in our class discussion"
      ],
      "metadata": {
        "id": "890gfa6M6eNd"
      },
      "execution_count": null,
      "outputs": []
    },
    {
      "cell_type": "code",
      "execution_count": null,
      "metadata": {
        "id": "wAXBDM_wqkIx"
      },
      "outputs": [],
      "source": [
        "# @title Bad Example {display-mode: \"form\"}\n",
        "# code example - What not to do\n",
        "import random\n",
        "game=True\n",
        "while game==True:\n",
        "  Num1=int(input(\"Choose one of the followings: 1 Rock, 2 Paper, 3 Scissors:\"))\n",
        "  Num2=random.randint(1,3)\n",
        "  if Num2==1:\n",
        "    print(\"Computer chooses Rock\")\n",
        "  elif Num2==2:\n",
        "    print(\"Computer chooses Paper\")\n",
        "  else:\n",
        "    print(\"Computer chooses Scissors\")\n",
        "  if Num1==Num2:\n",
        "    print(\"It's a draw\")\n",
        "  elif Num1==1 and Num2==3:\n",
        "    print(\"You win!\")\n",
        "  elif Num1==2 and Num2==1:\n",
        "    print(\"You win!\")\n",
        "  elif Num1==3 and Num2==2:\n",
        "    print(\"You win!\")\n",
        "  else:\n",
        "    print(\"Computer wins\")\n",
        "  text=input(\"Play again? Y/N:\")\n",
        "  if text !=\"Y\":\n",
        "    game=False"
      ]
    },
    {
      "cell_type": "markdown",
      "metadata": {
        "id": "mbVUg10HqkIx"
      },
      "source": [
        "## <a id='toc1_3_'></a>[Class example (continues...)](#toc0_)\n",
        "> So, what should you adopt instead?\n",
        "* Have a look at the next example that illustrates good coding practices.\n",
        "* How many good practices can you identify, based on our class discussion/notes in the slides?\n",
        ">> * `Comments`\n",
        ">> * `Descriptive names`\n",
        ">> * `Indentation`\n",
        ">> * `White spaces`\n",
        "* `Note:` you are not expected to understand all the python code at this point\n",
        "* This is only meant to illustrate `good coding practices` prescribed for our class"
      ]
    },
    {
      "cell_type": "code",
      "execution_count": null,
      "metadata": {
        "id": "7Php0KWHqkIy"
      },
      "outputs": [],
      "source": [
        "# @title Good example {display-mode: \"form\"}\n",
        "# code example - What you should do, based on the above good coding guideline\n",
        "# import the random library for random number generation\n",
        "# where possible, import only what you need, not the entire module\n",
        "from random import randint\n",
        "\n",
        "# create three constants to represent each choice clearly\n",
        "ROCK     = 1\n",
        "PAPER    = 2\n",
        "SCISSORS = 3\n",
        "\n",
        "# the play variable is a boolean-flag variable.\n",
        "# It is used to set the game's play status\n",
        "# So, a True value indicates the game is on, otherwise the game is off\n",
        "play = True\n",
        "\n",
        "# while the game is on\n",
        "while play:\n",
        "  # prompt (ask) the user for his choice\n",
        "  user_choice = int(input(\"\"\"\n",
        "  Select your option by entering the corresponding number:\n",
        "    [1] Rock\n",
        "    [2] Paper\n",
        "    [3] Scissors\n",
        "\n",
        "    > \"\"\"))\n",
        "\n",
        "  # randomly generate the computer's choice between 1 and 3 inclusive\n",
        "  computer_choice = randint(1,3)\n",
        "\n",
        "  # output computer's choice\n",
        "  # so that user can compare his choice with the computer's\n",
        "  if computer_choice == ROCK:\n",
        "    print(\"Computer chooses Rock\")\n",
        "  elif computer_choice == PAPER:\n",
        "    print(\"Computer chooses Paper\")\n",
        "  else:\n",
        "    print(\"Computer chooses Scissors\")\n",
        "\n",
        "  # compare choices and show outcome\n",
        "  if user_choice == computer_choice:\n",
        "    print(\"It's a draw\")\n",
        "  elif user_choice == ROCK and computer_choice == SCISSORS:\n",
        "    print(\"You win!\")\n",
        "  elif user_choice == PAPER and computer_choice == ROCK:\n",
        "    print(\"You win!\")\n",
        "  elif user_choice == SCISSORS and computer_choice == PAPER:\n",
        "    print(\"You win!\")\n",
        "  else:\n",
        "    print(\"Computer wins\")\n",
        "\n",
        "  # Prompt the user to continue or stop the game\n",
        "  text = input(\"Play again? Y/N:\")\n",
        "\n",
        "  # Then, continue play if user choice is a yes (Y)\n",
        "  # Otherwise, stop play by setting play status to false\n",
        "  if text.upper() !=\"Y\":\n",
        "    play = False # stop the game: set play to false"
      ]
    },
    {
      "cell_type": "markdown",
      "metadata": {
        "id": "fZTbubYfqkIy"
      },
      "source": [
        "### <a id='toc1_3_1_'></a>[Writing your first Python program](#toc0_)\n",
        "> `Hello World!` - press `[ctrl-enter]` or click the `play` button to run the program"
      ]
    },
    {
      "cell_type": "code",
      "execution_count": null,
      "metadata": {
        "id": "MZmts_kBqkIy"
      },
      "outputs": [],
      "source": [
        "# @title Your first program {display-mode: \"form\"}\n",
        "# get python to say hello to the world\n",
        "print(\"Hello, world!\") # this outputs the message to the console screen\n",
        "# output: Hello, world!\n",
        "\n",
        "# some ways to combine string literals and text contents of a variable, e.g. name\n",
        "name = input(\"What's your name? \")\n",
        "\n",
        "print(\"Hello,\", name)   # use comma-separated arguments\n",
        "print(\"Hello, \" + name) # use concatenation operator '+'\n",
        "print(f\"Hello, {name}\") # use f-string: variable must be enclosed in a pair of curly braces"
      ]
    },
    {
      "cell_type": "code",
      "source": [
        "# @title Writing your first function {display-mode: \"form\"}\n",
        "# We can also say hello with a Python function\n",
        "# First we create a function called hello\n",
        "def hello(name):\n",
        "    print(f\"Hello, {name}!\")\n",
        "\n",
        "# Second, we call it by the name we've given it, hello()\n",
        "# as it has a name 'parameter', we need to pass a name 'argument' when we make the call to hello()\n",
        "# The name 'argument' is a text string literal, a text value enclosed between a pair of double or single quotes.\n",
        "# Note: a text string is made up of one or more characters and enclosed in a pair of double or single quotes\n",
        "# Here are a few examples:\n",
        "hello(\"Alice\")\n",
        "hello(\"James\")\n",
        "hello(\"Ben\")\n",
        "\n",
        "hello('Barbie')\n",
        "hello('Ken')\n",
        "hello('Stella')"
      ],
      "metadata": {
        "id": "nYdBUjbZnJLm"
      },
      "execution_count": null,
      "outputs": []
    },
    {
      "cell_type": "markdown",
      "metadata": {
        "id": "5pJyajOXqkIy"
      },
      "source": [
        "### <a id='toc1_3_2_'></a>[Variables](#toc0_)\n",
        "> `Python is awesome!`"
      ]
    },
    {
      "cell_type": "code",
      "execution_count": null,
      "metadata": {
        "id": "9dCuSIaidXCe"
      },
      "outputs": [],
      "source": [
        "# @title Creating a variable {display-mode: \"form\"}\n",
        "# create a variable to store a message, i.e. to bind one or more value to a variable\n",
        "# a variable is a named memory location containing an address to the location containing the value\n",
        "msg = \"Python is awesome!\" # assign (store) a text string (Python is awesome) to the variable 'msg'\n",
        "\n",
        "# print the message\n",
        "print(msg) # print the content of 'msg' that contents the message\n",
        "# output: Python is awesome"
      ]
    },
    {
      "cell_type": "code",
      "execution_count": null,
      "metadata": {
        "id": "3ol8-22pqkIy"
      },
      "outputs": [],
      "source": [
        "# @title How to identify with a data type {display-mode: \"form\"}\n",
        "# Type this in a python console to check a variable type with: type()\n",
        "# To open a console from VS Code, use the short-cut key: ctrl+`\n",
        "# Then, enter the command 'python' to start the python interpreter.\n",
        "# >>>[enter the following:]\n",
        "\n",
        "type(5)\n",
        "type(7.0)\n",
        "type(True) # Warning: type(true) will give an error - capitalisation matters.\n",
        "           # Note: Python is case-sensitive\n",
        "\n",
        "# convert to another type with float(), int() and round()\n",
        "float(5)   # create a floating decimal from the value 5\n",
        "int(7.3)   # create an integer from the value 7.3\n",
        "round(7.3) # rounds 7.3 to an integer value - default is 0 decimal place\n",
        "\n",
        "# Combine objects [type] with arithmetic operators\n",
        "# Type the following expressions into the python console\n",
        "# The console reads and evaluates each of the arithmetic expression,\n",
        "# and outputs the results of the calculation\n",
        "3+2                # addition\n",
        "(5+2) * 6-1        # '*' is multiplication - what gets evaluated first?\n",
        "\n",
        "type((5+2) * 6-3)  # prints the type of the evaluation of the expression\n",
        "\n",
        "float((5+2) * 6-3) # casts the the evaluation of the expression to a float\n",
        "int(1/2)           # cast a floating division to an integer\n",
        "\n",
        "5/3                # floating division\n",
        "5//3               # integer division\n",
        "5%3                # mod, returns the remainder of the division\n",
        "5**2               # power\n",
        "\n",
        "# Create a variable via an assignment statement using the assignment operator (=)\n",
        "# What this allows us to do is to bind a value to a variable\n",
        "# This binding allows us to stores one or more values, or the evaluation of\n",
        "#   an expression, which is also a value\n",
        "# The expression must always be on the right-hand side of the assignment statement\n",
        "pi     = 355/113    # compute an approximate value of pi\n",
        "radius = 2.5        # initialise the variable, radius, to the value 2.5\n",
        "\n",
        "area          = pi * (radius**2)  # calculate the area of a circle, pi*r^2\n",
        "circumference = pi * (radius * 2) # calculate the circumference of a circle, 2*pi*r"
      ]
    },
    {
      "cell_type": "markdown",
      "metadata": {
        "id": "B8vYp5YfqkIz"
      },
      "source": [
        "### <a id='toc1_3_3_'></a>[Class Exercise](#toc0_)\n",
        "In your Python [console](https://classroom.github.com/a/aXOWFK--), find the `type` of:\n",
        "1. 122333\n",
        "2. 7.99\n",
        "3. 8.0\n",
        "4. True\n",
        "\n",
        "Which of these are allowed in Python?  Type them in the `console` to check.\n",
        "1. x = 6\n",
        "2. 6 = x\n",
        "3. x * y = 3+4\n",
        "4. xy = 3+4\n",
        "\n"
      ]
    },
    {
      "cell_type": "markdown",
      "metadata": {
        "id": "XpT6nZtSqkIz"
      },
      "source": [
        "## <a id='toc1_3_5_'></a>[Week 1-2](#toc0_)\n",
        "> Class `Activities`\n",
        "> * Try out each example below\n",
        "> * We will look at them more closely in class"
      ]
    },
    {
      "cell_type": "code",
      "execution_count": null,
      "metadata": {
        "id": "vq3HRibGdXCe",
        "notebookRunGroups": {
          "groupValue": "2"
        }
      },
      "outputs": [],
      "source": [
        "# @title Escape characters {display-mode: \"form\"}\n",
        "\n",
        "# prints a multi-line message with a multi-line comment\n",
        "print(\"\"\"\n",
        "Hello, I am a Python programmer.\n",
        "This is program number: 1\n",
        "\"\"\")\n",
        "\n",
        "# Use escape character, e.g. '\\n'\n",
        "# An escape character starts with a backslash\n",
        "print(\"Hello, I am a Python programmer.\\nThis is program number: 1\")"
      ]
    },
    {
      "cell_type": "code",
      "execution_count": null,
      "metadata": {
        "id": "VpmEdmXtdXCe"
      },
      "outputs": [],
      "source": [
        "# @title Get user input (string) {display-mode: \"form\"}\n",
        "# get a name from the user\n",
        "name = input(\"What is your name? \") # Keeyong\n",
        "\n",
        "print('Your name is', name)\n",
        "# Output: Your name is Keeyong"
      ]
    },
    {
      "cell_type": "code",
      "execution_count": null,
      "metadata": {
        "id": "fsryHzChdXCe"
      },
      "outputs": [],
      "source": [
        "# @title Get user input (number) {display-mode: \"form\"}\n",
        "# get a number from the user\n",
        "# Note: by default, the number you entered is read in as a text value object\n",
        "number = input('What is your lucky number? ') # 5\n",
        "\n",
        "# Note: Before we perform any **[numeric test or calculation]**,\n",
        "# we must first convert number into its numeric equivalent.\n",
        "# Otherwise, we can keep it as a string literal\n",
        "# e.g., convert number to an integer\n",
        "# number = int(number)\n",
        "\n",
        "# What do you think will happen if the user enters a non-numeric value?\n",
        "# We will get a ValueError exception.\n",
        "# Hence, we need to perform input validation, i.e. we must handle the exception properly\n",
        "# so that we get the expected values from the user only.\n",
        "\n",
        "print('Your lucky number is', number)\n",
        "# Output: Your number is 5"
      ]
    },
    {
      "cell_type": "code",
      "execution_count": null,
      "metadata": {
        "id": "27xVfuoqz5PZ"
      },
      "outputs": [],
      "source": [
        "# @title Get user origin {display-mode: \"form\"}\n",
        "# prompt the user for country of origin\n",
        "country     = input('Which country do you come from: ')\n",
        "\n",
        "# prompt the user for the current date\n",
        "date        = input('Enter a date (dd mon) in ' + country + ': ')\n",
        "temperature = input('What is the average temperature in your country (°C): ')\n",
        "\n",
        "# combine and output user data\n",
        "print() # print a new line\n",
        "print ('It is ' + temperature + '°C on ' + date + ' in ' + country)"
      ]
    },
    {
      "cell_type": "code",
      "execution_count": null,
      "metadata": {
        "id": "ERm3lXKfqkIz"
      },
      "outputs": [],
      "source": [
        "# @title Get student data {display-mode: \"form\"}\n",
        "# get firstname, lastname and student ID\n",
        "firstinitial = input('What is your first initial? ') # ky\n",
        "lastinitial  = input('What is your last initial? ')  # l\n",
        "studentID    = input('What is your student ID? ')    # 123567\n",
        "\n",
        "# combine and output the initials and ID as a username\n",
        "print('Here is your username:', firstinitial + lastinitial + studentID)\n",
        "# Sample output: Here is your username: ky123567"
      ]
    },
    {
      "cell_type": "markdown",
      "metadata": {
        "id": "Myf5vyW8qkIz"
      },
      "source": [
        "### <a id='toc1_3_6_'></a>[More examples of `str()` and `f-string`](#toc0_)"
      ]
    },
    {
      "cell_type": "code",
      "execution_count": null,
      "metadata": {
        "id": "oV6c_jeGdXCe",
        "collapsed": true
      },
      "outputs": [],
      "source": [
        "# convert a number explicitly using str() before printing it to the screen\n",
        "pi = 3.14159\n",
        "# pi_str = str(pi)\n",
        "# pi_str = f'{pi:.3f}'\n",
        "\n",
        "# round pi to 3 decimal place\n",
        "rounded_no = round(pi, 3)\n",
        "print(rounded_no)\n",
        "# Output: 3.142\n",
        "\n",
        "# apply rounding format within the f-string\n",
        "print(f\"Float as string: {pi:.3f}\")\n",
        "# Output: Float as string: 3.142\n",
        "\n",
        "# use the format function\n",
        "rounded_no_str = '{:.3f}'.format(pi)\n",
        "print(f\"Float as string: {rounded_no_str}\")\n",
        "# Output: Float as string: 3.142"
      ]
    },
    {
      "cell_type": "code",
      "execution_count": null,
      "metadata": {
        "id": "M8K7gTWEdXCf"
      },
      "outputs": [],
      "source": [
        "# convert a boolean value to a string\n",
        "is_true     = True\n",
        "is_true_str = str(is_true)\n",
        "\n",
        "print(\"Boolean as string: \" + is_true_str)\n",
        "# Output: Boolean as string: True"
      ]
    },
    {
      "cell_type": "code",
      "execution_count": null,
      "metadata": {
        "id": "LQZupfhddXCf"
      },
      "outputs": [],
      "source": [
        "# convert a list into a string\n",
        "my_list  = [1, 2, 3]\n",
        "list_str = str(my_list) # explicitly converting the list to a string\n",
        "print(\"List as string: \" + list_str)\n",
        "# Output: List as string: [1, 2, 3]"
      ]
    },
    {
      "cell_type": "code",
      "execution_count": null,
      "metadata": {
        "id": "G1xmxe3odXCf"
      },
      "outputs": [],
      "source": [
        "# convert a tuple into a string\n",
        "my_tuple  = (4, 5, 6)\n",
        "tuple_str = str(my_tuple) # explicitly converting the tuple to a string\n",
        "print(\"Tuple as string: \" + tuple_str)\n",
        "# Output: Tuple as string: (4, 5, 6)"
      ]
    },
    {
      "cell_type": "code",
      "execution_count": null,
      "metadata": {
        "id": "o5x5bj9WdXCf"
      },
      "outputs": [],
      "source": [
        "name = \"Alice\"\n",
        "age  = 30\n",
        "print(f\"My name is {name} and I am {age} years old.\")\n",
        "# Output: \"My name is Alice and I am 30 years old.\""
      ]
    },
    {
      "cell_type": "code",
      "execution_count": null,
      "metadata": {
        "id": "iYlL9Z7FdXCf",
        "colab": {
          "base_uri": "https://localhost:8080/"
        },
        "outputId": "354be575-a038-4625-899e-b5c2a98f4744"
      },
      "outputs": [
        {
          "output_type": "stream",
          "name": "stdout",
          "text": [
            "The sum of 10 and 20 is 30.\n",
            "3.14159\n"
          ]
        }
      ],
      "source": [
        "# perform a calculation\n",
        "x = 10\n",
        "y = 20\n",
        "print(f\"The sum of {x} and {y} is {x + y}.\")\n",
        "# Output: \"The sum of 10 and 20 is 30.\""
      ]
    },
    {
      "cell_type": "code",
      "execution_count": null,
      "metadata": {
        "id": "1cK1GGUBdXCf",
        "colab": {
          "base_uri": "https://localhost:8080/"
        },
        "outputId": "988674cc-4cf0-4811-ad16-1bdbd9eb44fb"
      },
      "outputs": [
        {
          "output_type": "stream",
          "name": "stdout",
          "text": [
            "Value of pi (rounded to 2 decimal places): 3.14\n"
          ]
        }
      ],
      "source": [
        "# rounding a floating-point value\n",
        "pi = 3.14159\n",
        "print(f\"Value of pi (rounded to 2 decimal places): {pi:.2f}\")\n",
        "# Output: \"Value of pi (rounded to 2 decimal places): 3.14\""
      ]
    },
    {
      "cell_type": "code",
      "execution_count": null,
      "metadata": {
        "id": "CwoQTW-OdXCf"
      },
      "outputs": [],
      "source": [
        "radius = 5\n",
        "area   = pi * radius ** 2 # where do you think the pi value coming from?\n",
        "print(f\"Area of a circle with radius {radius} is {area:.2f}.\")\n",
        "# Output: \"Area of a circle with radius 5 is 78.54.\""
      ]
    },
    {
      "cell_type": "code",
      "execution_count": null,
      "metadata": {
        "id": "dd-_xTkNqkI0"
      },
      "outputs": [],
      "source": [
        "# assigning an f-string to a variable and printing it to the screen\n",
        "multiline_str = f\"\"\"\n",
        "Hello,\n",
        "My name is {name}.\n",
        "I am {age} years old.\n",
        "\"\"\"\n",
        "print(multiline_str)\n",
        "# Output:\n",
        "# Hello,\n",
        "# My name is Alice.\n",
        "# I am 30 years old."
      ]
    },
    {
      "cell_type": "markdown",
      "metadata": {
        "id": "jjyZcRMCqkI0"
      },
      "source": [
        "### <a id='toc1_3_7_'></a>[A case of `conversion error`](#toc0_)\n",
        "> Let's look at an example\n"
      ]
    },
    {
      "cell_type": "code",
      "execution_count": null,
      "metadata": {
        "id": "ZuZfSsvLqkI0"
      },
      "outputs": [],
      "source": [
        "# @title Remember the poor monkey...? {display-mode: \"form\"}\n",
        "# Let's go back and revisit out poor monkey?\n",
        "# Let's revisit this puzzle and unlock the mystery...\n",
        "\n",
        "# prompt and read in x and y\n",
        "x = input ('Enter x: ')\n",
        "y = input ('Enter y: ')\n",
        "\n",
        "# display the result of x+y\n",
        "print(f\"The sum of {x} and {y} is {x + y}.\")\n",
        "\n",
        "# output: There is an error here.  Can you find it?  How do you correct this?\n",
        "# Hint: review the example: Get user input (number)"
      ]
    },
    {
      "cell_type": "code",
      "source": [
        "# @title Write your answer here {display-mode: \"form\"}\n",
        "# Re-write the above program with your correction here\n"
      ],
      "metadata": {
        "id": "KLb1j0543Ghr"
      },
      "execution_count": null,
      "outputs": []
    },
    {
      "cell_type": "markdown",
      "metadata": {
        "id": "zdf0n-KQqkI0"
      },
      "source": [
        "### <a id='toc1_3_9_'></a>[Class Exercise 1 Part 1](#toc0_)\n",
        "> Write a program to ask a user to input\n",
        "* the `number of hours` worked each day from Monday to Friday\n",
        "* Then calculate the `total number of hours` worked in the `first` week"
      ]
    },
    {
      "cell_type": "code",
      "execution_count": null,
      "metadata": {
        "id": "aU40qAVjqkI0",
        "cellView": "form"
      },
      "outputs": [],
      "source": [
        "#@title Weekly hour calculator part 1\n",
        "# A program that allows a user to enter the work hours\n",
        "# for each day of the first week and calculates and print\n",
        "# the total number of hours worked.\n",
        "\n",
        "# Prompt the user for hours worked for each weekday\n",
        "mon_hours_worked = int(input(\"Hours worked for Monday: \"))\n",
        "tue_hours_worked = int(input(\"Hours worked for Tuesday: \"))\n",
        "wed_hours_worked = int(input(\"Hours worked for Wednesday: \"))\n",
        "thu_hours_worked = int(input(\"Hours worked for Thursday: \"))\n",
        "fri_hours_worked = int(input(\"Hours worked for Friday: \"))\n",
        "\n",
        "# calculates the sum of hours worked for each weekday\n",
        "# Note:break upa statement into multiple lines:\n",
        "# > By using a backslash (\\) at the end of a line to continue onto the next line\n",
        "total_hours_week1 = \\\n",
        "    mon_hours_worked + \\\n",
        "    tue_hours_worked + \\\n",
        "    wed_hours_worked + \\\n",
        "    thu_hours_worked + \\\n",
        "    fri_hours_worked\n",
        "\n",
        "# prints the total numbers worked per week\n",
        "print()\n",
        "print (f\"You worked {total_hours_week1} hours in week 1\")"
      ]
    },
    {
      "cell_type": "markdown",
      "metadata": {
        "id": "KV2ggttZqkI4"
      },
      "source": [
        "### <a id='toc1_3_10_'></a>[Class Exercise 1 Part 2 (Homework)](#toc0_)\n",
        "> Write a program to prompts a user to input\n",
        "* the `number of hours` worked each day from Monday to Friday for both week 1 and 2\n",
        "* Then, calculate the `total number of hours` worked in each week\n",
        "* Finally, determine `how many more hours` they worked in week 2 compared to week 1\n",
        "* `Bonus`: `Indicate` whether they worked more or fewer hours in week 2.\n"
      ]
    },
    {
      "cell_type": "code",
      "source": [
        "#@title Weekly-hour calculator part 2 | exercise\n",
        "# Copy and paste the starter code from Part 1 and\n",
        "# complete part 2 before looking at the solution below.\n",
        "\n"
      ],
      "metadata": {
        "id": "LeCUi8yFlvqy",
        "cellView": "form"
      },
      "execution_count": null,
      "outputs": []
    },
    {
      "cell_type": "code",
      "execution_count": null,
      "metadata": {
        "id": "eU1e7x2LqkI4",
        "cellView": "form"
      },
      "outputs": [],
      "source": [
        "# @title\n",
        "# A program that allows a user to enter the work hours\n",
        "# for each day of the second week and calculates and print\n",
        "# the total number of hours worked in week1 and week2.\n",
        "# Finally, it calculates and prints the difference in hours\n",
        "# of week 2 from week 1.\n",
        "# Bonus: If the value is negative, it prints \"You worked less hours in week 2\"\n",
        "# else it prints \"You worked more hours in week 2\"\n",
        "\n",
        "'''\n",
        "Week 1 work hours\n",
        "'''\n",
        "print(\"Enter week 1 data...\")\n",
        "# Prompt the user for hours worked for each weekday in week 1\n",
        "mon_hours_worked = int(input(\"Hours worked for Monday: \"))\n",
        "tue_hours_worked = int(input(\"Hours worked for Tuesday: \"))\n",
        "wed_hours_worked = int(input(\"Hours worked for Wednesday: \"))\n",
        "thu_hours_worked = int(input(\"Hours worked for Thursday: \"))\n",
        "fri_hours_worked = int(input(\"Hours worked for Friday: \"))\n",
        "\n",
        "# calculates the sum of hours worked for each weekday in week 1\n",
        "# Note: break up a statement into multiple lines:\n",
        "# By using a backslash (\\) at the end of a line to continue on the next line\n",
        "total_hours_week1 =    \\\n",
        "    mon_hours_worked + \\\n",
        "    tue_hours_worked + \\\n",
        "    wed_hours_worked + \\\n",
        "    thu_hours_worked + \\\n",
        "    fri_hours_worked\n",
        "\n",
        "# total hours worked in the first week\n",
        "print (f\"You worked {total_hours_week1} hours in week 1\")\n",
        "print()\n",
        "\n",
        "\n",
        "'''\n",
        "Week 2 work hours\n",
        "'''\n",
        "print(\"Enter week 2 data...\")\n",
        "# Prompt the user for hours worked for each weekday in week 2\n",
        "mon_hours_worked = int(input(\"Hours worked for Monday: \"))\n",
        "tue_hours_worked = int(input(\"Hours worked for Tuesday: \"))\n",
        "wed_hours_worked = int(input(\"Hours worked for Wednesday: \"))\n",
        "thu_hours_worked = int(input(\"Hours worked for Thursday: \"))\n",
        "fri_hours_worked = int(input(\"Hours worked for Friday: \"))\n",
        "\n",
        "# calculates the sum of hours worked for each weekday in week 2\n",
        "# Note:break up a statement into multiple lines:\n",
        "# By using a backslash (\\) at the end of a line to continue on the next line\n",
        "total_hours_week2 =    \\\n",
        "    mon_hours_worked + \\\n",
        "    tue_hours_worked + \\\n",
        "    wed_hours_worked + \\\n",
        "    thu_hours_worked + \\\n",
        "    fri_hours_worked\n",
        "\n",
        "# total hours worked in the second week\n",
        "print(f\"You worked {total_hours_week2} hours in week 2\")\n",
        "\n",
        "# calculate the difference of week2 from week1\n",
        "diff_hours = total_hours_week2 - total_hours_week1\n",
        "\n",
        "# prints the difference of hours worked in week 2 from week 1\n",
        "# abs() returns the absolute value of a number\n",
        "print()\n",
        "print(f\"The difference of week 2 hours from week 1 is {diff_hours} hours\")\n",
        "print(f\"You worked {abs(diff_hours)} less hours in week 2\" if diff_hours < 0 else \\\n",
        "      f\"You worked {abs(diff_hours)} more hours in week 2\")\n"
      ]
    },
    {
      "cell_type": "code",
      "source": [
        "#@title Code from our class recap\n",
        "# a program that says \"Hello World\"\n",
        "\n",
        "def hello(name=\"World\"):\n",
        "    greeting = f\"Hello, {name}!\"\n",
        "    print(greeting + \"\\nHow are you?\")\n",
        "\n",
        "hello()\n",
        "name = input(\"What is your name? \")\n",
        "hello(name)\n",
        "hello(\"Jinchang\")\n",
        "hello(\"Abdul\")"
      ],
      "metadata": {
        "cellView": "form",
        "id": "Jth8q6c9j8nk"
      },
      "execution_count": null,
      "outputs": []
    },
    {
      "cell_type": "markdown",
      "source": [
        "Get the class demo file [here](https://github.com/FNDE025/class-exercises-likeeyong51/blob/main/hello.py)"
      ],
      "metadata": {
        "id": "f9HsBTsWkUmF"
      }
    },
    {
      "cell_type": "markdown",
      "metadata": {
        "id": "apso9xTLqkI4"
      },
      "source": [
        "### <a id='toc1_3_11_'></a>[`Comparison` operators](#toc0_)\n",
        "> We use these operators to build expressions that evaluates to a `boolean value`:\n",
        "* `True`\n",
        "* `False`"
      ]
    },
    {
      "cell_type": "code",
      "execution_count": null,
      "metadata": {
        "id": "RNZy1nlmqkI5"
      },
      "outputs": [],
      "source": [
        "# @title Comparison operators: ==, !=, <, >, <= and >= {display-mode: \"form\"}\n",
        "# test out the following expressions in a python console\n",
        "x = 10\n",
        "y = 3\n",
        "\n",
        "print(f'x = {x} and y = {y}\\n')\n",
        "\n",
        "# equality operators\n",
        "print(f'x == y | {x == y}') # ==, equal\n",
        "print(f'x != y | {x != y}') # !=, not equal\n",
        "\n",
        "# inequality operators\n",
        "print(f'x < y  | {x < y}')  # <,  less than\n",
        "print(f'x > y  | {x > y}')  # >,  greater than\n",
        "print(f'x <= y | {x <= y}') # <=, less than or equal to\n",
        "print(f'x >= y | {x >= y}') # >=, greater than or equal to"
      ]
    },
    {
      "cell_type": "markdown",
      "metadata": {
        "id": "-EkU6o8mqkI5"
      },
      "source": [
        "### <a id='toc1_3_12_'></a>[`Logical` operators](#toc0_)\n",
        "> We use these operators to combine expressions that evaluats to a boolean value\n",
        "* `and`, `or`, `not`"
      ]
    },
    {
      "cell_type": "code",
      "execution_count": null,
      "metadata": {
        "id": "-8XZiA4QqkI5"
      },
      "outputs": [],
      "source": [
        "# @title Logical operators: and, or, not {display-mode: \"form\"}\n",
        "a = True\n",
        "b = True\n",
        "\n",
        "# truth table for and\n",
        "title = \"AND Truth Table\"\n",
        "print(title)\n",
        "print(\"-\" * len(title))\n",
        "print(f\"|a and b         | {a and b}\")\n",
        "print(f\"|a and not b     | {a and not b}\")\n",
        "print(f\"|not a and b     | {not a and b}\")\n",
        "print(f\"|not a and not b | {not a and not b}\")\n",
        "print()\n",
        "\n",
        "# truth table for or\n",
        "title = \"OR Truth Table\"\n",
        "print(title)\n",
        "print(\"-\" * len(title))\n",
        "print(f\"|a or b         | {a or b}\")\n",
        "print(f\"|a or not b     | {a or not b}\")\n",
        "print(f\"|not a or b     | {not a or b}\")\n",
        "print(f\"|not a or not b | {not a or not b}\")\n",
        "print()\n",
        "\n",
        "# truth table for not\n",
        "title = \"NOT Truth Table\"\n",
        "print(title)\n",
        "print(\"-\" * len(title))\n",
        "\n",
        "b = False\n",
        "\n",
        "print(f\"a:{a}  | not a:{not a}\")\n",
        "print(f\"b:{b} | not b:{not b}\")"
      ]
    },
    {
      "cell_type": "markdown",
      "metadata": {
        "id": "FXLmGS9aqkI5"
      },
      "source": [
        "### <a id='toc1_3_13_'></a>[`Assignment` Operators](#toc0_)\n",
        "> We use these operators to `bind an object containing a value` to a variable\n",
        "* `atomic` operators can `perform an operation` and `assignment` in a single step"
      ]
    },
    {
      "cell_type": "code",
      "execution_count": null,
      "metadata": {
        "id": "PUMCq-liqkI5"
      },
      "outputs": [],
      "source": [
        "# @title Assignment/Arithmetic operators: =, +=, -=, /=, %=, //=, **= {display-mode: \"form\"}\n",
        "# Assignment operators\n",
        "\n",
        "# =\n",
        "x = 15\n",
        "print(f\"x = {x}\")\n",
        "\n",
        "# +=\n",
        "x += 2 # x = x + 2\n",
        "print(f\"x += 2 = {x}\")\n",
        "\n",
        "# -=\n",
        "x -= 2\n",
        "print(f\"x -= 2 = {x}\")\n",
        "\n",
        "# *=\n",
        "x *= 2\n",
        "print(f\"x *= 2 = {x}\")\n",
        "\n",
        "# /=\n",
        "x /= 2\n",
        "print(f\"x /= 2 = {x}\")\n",
        "\n",
        "# %=\n",
        "x %= 2\n",
        "print(f\"x %= 2 = {x}\")\n",
        "\n",
        "# //=\n",
        "x = 102\n",
        "x //= 10\n",
        "print(f\"x //= 11 = {x}\")\n",
        "\n",
        "# **=\n",
        "x **= 2\n",
        "print(f\"x **= 2 = {x}\")"
      ]
    },
    {
      "cell_type": "markdown",
      "metadata": {
        "id": "gn2LCqZAqkI6"
      },
      "source": [
        "### <a id='toc1_3_14_'></a>[`Membership` operators](#toc0_)\n",
        "> * `in` (membership)\n",
        "> * `not in` (not in membership)"
      ]
    },
    {
      "cell_type": "code",
      "execution_count": null,
      "metadata": {
        "id": "ZjmP4ghBqkI6"
      },
      "outputs": [],
      "source": [
        "# @title Membership operator: in {display-mode: \"form\"}\n",
        "# list\n",
        "myList = [1, 2, 3, 4, 5]\n",
        "\n",
        "#  test membership\n",
        "print(\"Is 2 in my list?\", \"Yes\" if 2 in myList else \"No\")\n",
        "print(\"Is 6 in my list?\", \"Yes\" if 6 in myList else \"No\")\n",
        "print(\"Is 7 in my list?\", \"No\"  if 7 not in myList else \"Yes\")"
      ]
    },
    {
      "cell_type": "markdown",
      "metadata": {
        "id": "BGZlunsMqkI6"
      },
      "source": [
        "### <a id='toc1_3_15_'></a>[`Identity` operators](#toc0_)\n",
        "> * `is` (identity)\n",
        "> * `is not` (not identity)"
      ]
    },
    {
      "cell_type": "code",
      "execution_count": null,
      "metadata": {
        "id": "VVzTSurDY7FD"
      },
      "outputs": [],
      "source": [
        "# @title Identity operator: is {display-mode: \"form\"}\n",
        "# list\n",
        "myList = [1, 2, 3, 4, 5]\n",
        "a = b = myList\n",
        "c = [5, 6, 7, 8, 9]\n",
        "\n",
        "print(id(a))\n",
        "print(id(b))\n",
        "\n",
        "# test identity\n",
        "print(\"Is a and b are the same object?\", \"Yes\" if a is b else \"No\")\n",
        "print(\"a is not c?\", \"Yes\" if a is not c else \"No\")"
      ]
    },
    {
      "cell_type": "markdown",
      "source": [
        "## Errors\n",
        "The types of errors you might encounter when coding:\n",
        "* `Syntax` error\n",
        "* `Runtime` error\n",
        "* `Logical` error"
      ],
      "metadata": {
        "id": "SH59wYNVT45a"
      }
    },
    {
      "cell_type": "code",
      "source": [
        "#@title Syntax error\n",
        "# syntax error indicated by the red squiggly line\n",
        "if x = 5:\n",
        "    print(\"x is 5\")\n",
        "\n",
        "# Output: SyntaxError: invalid syntax. Maybe you meant '==' or ':=' instead of '='?"
      ],
      "metadata": {
        "id": "-VA6I37vUjPU",
        "cellView": "form"
      },
      "execution_count": null,
      "outputs": []
    },
    {
      "cell_type": "code",
      "source": [
        "#@title Runtime error\n",
        "# runtime error\n",
        "x = 10\n",
        "y = 0\n",
        "\n",
        "print(x / y)\n",
        "\n",
        "# Output: ZeroDivisionError: division by zero"
      ],
      "metadata": {
        "id": "57R7tpQQU4Pg",
        "cellView": "form"
      },
      "execution_count": null,
      "outputs": []
    },
    {
      "cell_type": "code",
      "source": [
        "#@title Logical error\n",
        "# logical error\n",
        "def add_numbers(a, b):\n",
        "    return a - b\n",
        "\n",
        "print(add_numbers(10, 5))\n",
        "\n",
        "# Output: 5\n",
        "# expected output: 15"
      ],
      "metadata": {
        "id": "r2L8_i_AVQof",
        "cellView": "form"
      },
      "execution_count": null,
      "outputs": []
    },
    {
      "cell_type": "markdown",
      "source": [
        "---\n",
        "## `Analysis` with <mark>**IPO**</mark> charts\n",
        "An `IPO chart` (**I**nput, **P**rocess, **O**utput) enables us to view and outline (summarise) each problem into `three distinct parts` of a computerised process. An IPO chart can be represented in a `visual`, `tabular` or `text` form.\n",
        "\n",
        "<div>\n",
        "<img src=\"https://drive.google.com/uc?export=view&id=1qt3i_JV7iQdzUtgt1fQf4AOjxi4Y-zVy\" width=\"85%\" />\n",
        "</div>"
      ],
      "metadata": {
        "id": "eRxwhLiz021y"
      }
    },
    {
      "cell_type": "markdown",
      "source": [
        "### Example `1`\n",
        "Create an IPO chart for the following problem:\n",
        "* Calculate the average marks of Essential mathematics unit in T1.\n",
        "\n",
        "<div>\n",
        "<img src=\"https://drive.google.com/uc?export=view&id=1lXhexmH0p3UVybW3DX-MkRB0rS50cmJ2\" width=\"85%\" />\n",
        "</div>"
      ],
      "metadata": {
        "id": "pYoif3uG6ajB"
      }
    },
    {
      "cell_type": "markdown",
      "source": [
        "Develop an algorithm based on the IPO above.  Here is a `text version` of the IPO:\n",
        "\n",
        "INPUT:\n",
        "\n",
        "    * class_size\n",
        "    * list_of_marks\n",
        "\n",
        "PROCESS:\n",
        "    \n",
        "    * GET class_size\n",
        "    * GET a list of marks\n",
        "\n",
        "    * CALCULATE average_mark\n",
        "\n",
        "    * DISPLAY average_mark\n",
        "\n",
        "OUTPUT:\n",
        "\n",
        "    * average marks\n",
        "\n",
        "### Algorithm:\n",
        "> Use the outline from the IPO to build your algorithm:\n",
        "\n",
        "`START`\n",
        "    \n",
        "    # GET class_size\n",
        "    PROMPT and READ class_size\n",
        "\n",
        "    # GET a list of marks\n",
        "    PROMPT and READ list_of_marks\n",
        "\n",
        "    # CALCULATE average_mark\n",
        "    sum_mark = sum_of(list_of_marks)\n",
        "    average_mark = sum_mark / class_size\n",
        "\n",
        "    # DISPLAY average_mark\n",
        "    PRINT average_mark\n",
        "    \n",
        "\n",
        "`STOP`"
      ],
      "metadata": {
        "id": "XNvtxAjw9UJ2"
      }
    },
    {
      "cell_type": "markdown",
      "source": [
        "### Example `2`\n",
        "Create an IPO chart for each of the following:\n",
        "* Create an outline algorithm to calculate and display the area and the perimeter of a rectangle.\n",
        "\n",
        "<div>\n",
        "<img src=\"https://drive.google.com/uc?export=view&id=14BIwDRVsI0xbdO9n0M4axvJkZnjQUJwZ\" width=\"85%\" />\n",
        "</div>"
      ],
      "metadata": {
        "id": "K4K0Eshs7LP3"
      }
    },
    {
      "cell_type": "markdown",
      "source": [
        "Develop an algorithm based on the IPO above.  Here is a text version of the IPO:\n",
        "\n",
        "INPUT:\n",
        "\n",
        "    * length\n",
        "    * width\n",
        "\n",
        "PROCESS:\n",
        "    \n",
        "    * GET length\n",
        "    * GET width\n",
        "\n",
        "    * CALCULATE area\n",
        "    * CALCULATE perimeter\n",
        "\n",
        "    * DISPLAY area\n",
        "    * DISPLAY perimeter\n",
        "\n",
        "OUTPUT:\n",
        "\n",
        "    * area\n",
        "    * perimeter\n",
        "\n",
        "### Algorithm:\n",
        "> Use the outline from the IPO to build your algorithm:\n",
        "\n",
        "`START`\n",
        "    \n",
        "    # GET length\n",
        "    PROMPT and READ length\n",
        "\n",
        "    # GET width\n",
        "    PROMPT and READ width\n",
        "\n",
        "    # CALCULATE area\n",
        "    area = length * width\n",
        "\n",
        "    # CALCULATE perimeter\n",
        "    perimeter = (length + width) * 2\n",
        "\n",
        "    # DISPLAY area\n",
        "    PRINT area\n",
        "\n",
        "    # DISPLAY perimeter\n",
        "    PRINT perimeter\n",
        "`STOP`"
      ],
      "metadata": {
        "id": "IxJqFhCQ-7wM"
      }
    },
    {
      "cell_type": "code",
      "source": [
        "# code your solution here\n",
        "# GET length\n",
        "# PROMPT and READ length\n",
        "length = int(input(\"What's the length of your rectangle? \"))\n",
        "\n",
        "# GET width\n",
        "# PROMPT and READ width\n",
        "width = int(input(\"What's the width of your rectangle? \"))\n",
        "\n",
        "# CALCULATE area\n",
        "area = length * width\n",
        "\n",
        "# # CALCULATE perimeter\n",
        "perimeter = (length + width) * 2\n",
        "\n",
        "# # DISPLAY area\n",
        "print()\n",
        "print(\"The area of your rectangle is\", area)\n",
        "\n",
        "# # DISPLAY perimeter\n",
        "print(\"The perimeter of your rectangle is\", perimeter)"
      ],
      "metadata": {
        "id": "kXWuqFpnZhdt"
      },
      "execution_count": null,
      "outputs": []
    },
    {
      "cell_type": "markdown",
      "source": [
        "### Example `3` | Homework\n",
        "Create an IPO chart for each of the following:\n",
        "* Design a program that allow a user to input a distance in kilometers and meters.  Then, calculate the total distances in meters only.  Finally, display the total distance.\n",
        "\n",
        "\n",
        "<div>\n",
        "<img src=\"https://drive.google.com/uc?export=view&id=1ZCC6cn5PiJLMrHqHFKH0LwJwzd4ib4AR\" width=\"85%\" />\n",
        "</div>"
      ],
      "metadata": {
        "id": "afLHjbKH7hEy"
      }
    },
    {
      "cell_type": "markdown",
      "source": [
        "Develop an algorithm based on the IPO above.  Here is a text version of the IPO:\n",
        "\n",
        "INPUT:\n",
        "\n",
        "    * distance_km\n",
        "    * distance_m\n",
        "\n",
        "PROCESS:\n",
        "    \n",
        "    * GET distance_km\n",
        "\n",
        "    * GET distance_m\n",
        "\n",
        "    * CALCULATE total_distance_m\n",
        "\n",
        "    * DISPLAY total_distance_m\n",
        "\n",
        "OUTPUT:\n",
        "\n",
        "    * total_distance_m\n",
        "\n",
        "### Algorithm:\n",
        "> Use the outline from the IPO to build your algorithm:\n",
        "\n",
        "`START`\n",
        "    \n",
        "    # GET distance_km\n",
        "    PROMPT and READ distance_km\n",
        "\n",
        "    # GET distance_m\n",
        "    PROMPT and READ distance_m\n",
        "    \n",
        "    # CALCULATE total_distance_m\n",
        "    total_distance_m = distance_km*1000 + distance_m\n",
        "\n",
        "    # DISPLAY total_distance_m\n",
        "    PRINT total_distance_m\n",
        "\n",
        "`STOP`"
      ],
      "metadata": {
        "id": "lE0v0t1IS4H9"
      }
    },
    {
      "cell_type": "code",
      "source": [
        "# GET distance_km\n",
        "# PROMPT and READ distance_km\n",
        "distance_km = int(input(\"What's the distance in kilometers? \"))\n",
        "\n",
        "# GET distance_m\n",
        "# PROMPT and READ distance_m\n",
        "distance_m = int(input(\"What's the distance in meters? \"))\n",
        "\n",
        "# CALCULATE total_distance_m\n",
        "total_distance_m = distance_km*1000 + distance_m\n",
        "\n",
        "# DISPLAY total_distance_m\n",
        "print(f\"{total_distance_m = }m\")"
      ],
      "metadata": {
        "id": "Hl15VMYGITEe"
      },
      "execution_count": null,
      "outputs": []
    },
    {
      "cell_type": "markdown",
      "source": [
        "### Example `4` | Homework\n",
        "Create an IPO chart for each of the following:\n",
        "* Design a program that allows a salesclerk to enter the length and width (both in meters) of an area that needs to be tiled, the size of a tile (in m2) and its cost. The program calculates and displays the area that needs to be tiled (in m2), the approximate total number of tiles needed, and the estimated final cost for tiling.\n",
        "\n",
        "<div>\n",
        "<img src=\"https://drive.google.com/uc?export=view&id=1lAgB07C99huMAOKklnkcqL7CWZS_5bPc\" width=\"85%\" />\n",
        "</div>"
      ],
      "metadata": {
        "id": "frP4jw-I7-wP"
      }
    },
    {
      "cell_type": "markdown",
      "source": [
        "Develop an algorithm based on the IPO above.  Here is a text version of the IPO:\n",
        "\n",
        "INPUT:\n",
        "\n",
        "    * length, width (area of a surface)\n",
        "    * dim_of_tile (assumption: tile is a square)\n",
        "    * cost_per_tile\n",
        "\n",
        "PROCESS:\n",
        "    \n",
        "    * GET length and width (of an area)\n",
        "    * GET dim_of_tile\n",
        "    * GET cost_per_tile\n",
        "\n",
        "    * CALCULATE area\n",
        "    * CALCULATE tiles_needed\n",
        "    * CALCULATE total_cost_tiles\n",
        "\n",
        "    * DISPLAY area\n",
        "    * DISPLAY tiles_needed\n",
        "    * DISPLAY total_cost_tiles\n",
        "\n",
        "OUTPUT:\n",
        "\n",
        "    * area\n",
        "    * tiles_needed\n",
        "    * total_cost_tiles\n",
        "\n",
        "### Algorithm:\n",
        "> Use the outline from the IPO to build your algorithm:\n",
        "\n",
        "`START`\n",
        "    \n",
        "    # GET length and width of the area of a surface\n",
        "    PROMPT and READ length\n",
        "    PROMPT and READ width\n",
        "\n",
        "    # GET dim_of_tile - assumption: tile is a square\n",
        "    PROMPT and READ dim_of_tile\n",
        "    \n",
        "    # GET cost_per_tile\n",
        "    PROMPT and READ cost_per_tile\n",
        "    \n",
        "    # CALCULATE area of the floor\n",
        "    area = length * width\n",
        "\n",
        "    # CALCULATE tiles_needed\n",
        "    tiles_needed = area // dim_of_tile**2 + 1\n",
        "\n",
        "    # CALCULATE total_cost\n",
        "    total_cost_tiles = tiles_needed * cost_per_tile\n",
        "\n",
        "    # DISPLAY area\n",
        "    PRINT area\n",
        "\n",
        "    # DISPLAY tiles_needed\n",
        "    PRINT tiles_needed\n",
        "\n",
        "    # DISPLAY total_cost_tiles\n",
        "    PRINT total_cost_tiles\n",
        "\n",
        "`STOP`"
      ],
      "metadata": {
        "id": "MDReJJ9JTel5"
      }
    },
    {
      "cell_type": "code",
      "source": [
        "# GET length and width of an area\n",
        "# PROMPT and READ length\n",
        "length = int(input(\"What's the length of your area? \"))\n",
        "# PROMPT and READ width\n",
        "width = int(input(\"What's the width of your area? \"))\n",
        "\n",
        "# GET dim_of_tile - assumption: tile is a square\n",
        "# PROMPT and READ dim_of_tile\n",
        "dim_of_tile = int(input(\"What's the dimension of your tile? \"))\n",
        "\n",
        "# GET cost_per_tile\n",
        "# PROMPT and READ cost_per_tile\n",
        "cost_per_tile = int(input(\"What's the cost of one tile? \"))\n",
        "\n",
        "# CALCULATE area of the floor\n",
        "area = length * width\n",
        "\n",
        "# CALCULATE tiles_needed\n",
        "tiles_needed = area // dim_of_tile**2 + 1\n",
        "\n",
        "# CALCULATE total_cost\n",
        "total_cost_tiles = tiles_needed * cost_per_tile\n",
        "\n",
        "# DISPLAY area\n",
        "print(f\"\\n{area = }m2\")\n",
        "\n",
        "# DISPLAY tiles_needed\n",
        "print(f\"{tiles_needed = }\")\n",
        "\n",
        "# DISPLAY total_cost_tiles\n",
        "print(f\"{total_cost_tiles = }\")"
      ],
      "metadata": {
        "id": "gMRNMDNKIU-0"
      },
      "execution_count": null,
      "outputs": []
    },
    {
      "cell_type": "markdown",
      "source": [
        "## Practice Hurdle 1\n",
        "\n",
        "Here is a sample of the solution we discussed in class."
      ],
      "metadata": {
        "id": "FaoBesXvGkSS"
      }
    },
    {
      "cell_type": "code",
      "source": [
        "#@title Practice Hurdle 1 sample solution\n",
        "\n",
        "'''\n",
        "=====\n",
        " IPO\n",
        "=====\n",
        "INPUT:\n",
        "-----\n",
        "* food\n",
        "* fuel\n",
        "* accomodation\n",
        "* entertainment\n",
        "\n",
        "PROCESS:\n",
        "-------\n",
        "GET food\n",
        "GET fuel\n",
        "GET accomodation\n",
        "GET entertainment\n",
        "\n",
        "CALCULATE sum_of_expenses\n",
        "\n",
        "DISPLAY food, fuel, accomodation, entertainment\n",
        "DISPLAY sum_of_expenses\n",
        "\n",
        "OUTPUT:\n",
        "------\n",
        "* food, fuel, accomodation, entertainment\n",
        "* sum_of_expenses\n",
        "\n",
        "===========\n",
        " Algorithm\n",
        "===========\n",
        "START\n",
        "  # Input Process:\n",
        "  # GET food\n",
        "  PROMPT and READ food\n",
        "\n",
        "  # GET fuel\n",
        "  PROMPT and READ fuel\n",
        "\n",
        "  # GET accomodation\n",
        "  PROMPT and READ accomodation\n",
        "\n",
        "  # GET entertainment\n",
        "  PROMPT and READ entertainment\n",
        "\n",
        "  # Data-manipulation Process:\n",
        "  # CALCULATE sum_of_expenses\n",
        "  sum_of_expenses = food + fuel + accomodation + entertainment\n",
        "\n",
        "  # Output Process:\n",
        "  # DISPLAY food, fuel, accomodation, entertainment\n",
        "  PRINT food, fuel, accomodation, entertainment\n",
        "\n",
        "  # DISPLAY sum_of_expenses\n",
        "  PRINT sum_of_expenses\n",
        "\n",
        "STOP\n",
        "'''\n",
        "\n",
        "# ---------------------------------------\n",
        "# Please write your code after this line:\n",
        "# ---------------------------------------\n",
        "def main():\n",
        "  my_vacation_calculator()\n",
        "\n",
        "def my_vacation_calculator():\n",
        "  # Input Process:\n",
        "  # GET food\n",
        "  # PROMPT and READ food\n",
        "  food = int(input(\"How much is the food expenses? \"))\n",
        "\n",
        "  # GET fuel\n",
        "  # PROMPT and READ fuel\n",
        "  fuel = int(input(\"How much is the fuel expenses? \"))\n",
        "\n",
        "  # GET accomodation\n",
        "  # PROMPT and READ accomodation\n",
        "  accomodation = int(input(\"How much is the accomodation expenses? \"))\n",
        "\n",
        "  # GET entertainment\n",
        "  # PROMPT and READ entertainment\n",
        "  entertainment = int(input(\"How much is the entertainment expenses? \"))\n",
        "\n",
        "  # Data-manipulation Process:\n",
        "  # CALCULATE sum_of_expenses\n",
        "  sum_of_expenses = food + fuel + accomodation + entertainment\n",
        "\n",
        "  # Output Process:\n",
        "  # DISPLAY food, fuel, accomodation, entertainment\n",
        "  print(f\"\\n{food = }, {fuel = },\\n{accomodation = }, {entertainment = }\")\n",
        "\n",
        "  # DISPLAY sum_of_expenses\n",
        "  print(f\"Total expenses is ${sum_of_expenses:,.2f}\")\n",
        "\n",
        "if __name__ == \"__main__\":\n",
        "    main()"
      ],
      "metadata": {
        "cellView": "form",
        "id": "x5fZrIItGumg"
      },
      "execution_count": null,
      "outputs": []
    }
  ],
  "metadata": {
    "colab": {
      "provenance": [],
      "collapsed_sections": [
        "Myf5vyW8qkIz"
      ],
      "include_colab_link": true
    },
    "kernelspec": {
      "display_name": "Python 3 (ipykernel)",
      "language": "python",
      "name": "python3"
    },
    "language_info": {
      "codemirror_mode": {
        "name": "ipython",
        "version": 3
      },
      "file_extension": ".py",
      "mimetype": "text/x-python",
      "name": "python",
      "nbconvert_exporter": "python",
      "pygments_lexer": "ipython3",
      "version": "3.11.7"
    }
  },
  "nbformat": 4,
  "nbformat_minor": 0
}