{
  "cells": [
    {
      "cell_type": "markdown",
      "metadata": {
        "id": "view-in-github",
        "colab_type": "text"
      },
      "source": [
        "<a href=\"https://colab.research.google.com/github/likeeyong51/MyNotebooks/blob/main/Week1_2.ipynb\" target=\"_parent\"><img src=\"https://colab.research.google.com/assets/colab-badge.svg\" alt=\"Open In Colab\"/></a>"
      ]
    },
    {
      "cell_type": "markdown",
      "metadata": {
        "id": "yoBWRYPRdXCd"
      },
      "source": [
        "## Week 1\n",
        "> Introduction\n",
        "- Class activities"
      ]
    },
    {
      "cell_type": "markdown",
      "metadata": {
        "notebookRunGroups": {
          "groupValue": "1"
        },
        "id": "4Zi1ZQ9TdXCd"
      },
      "source": [
        "### Python comments\n",
        "* single-line\n",
        "* inline\n",
        "* multi-line"
      ]
    },
    {
      "cell_type": "code",
      "execution_count": null,
      "metadata": {
        "id": "8mxZdKpydXCd"
      },
      "outputs": [],
      "source": [
        "'''\n",
        "This is a multi-line comment,\n",
        "which means I can write my comments one or more lines.\n",
        "* It is important to always document your thoughts and rationale\n",
        "for your program:\n",
        "1. Write the outline of your program in pseudocode first using the IPO model.\n",
        "2. Then, expand on each key step into smaller steps, essentially teaching the computer how to perform the key steps.\n",
        "3. Finally, translate the steps into python.\n",
        "'''\n",
        "\n",
        "\"\"\"\n",
        "This is also a multi-line comment.\n",
        "Anything I place in between the pair of triple-quotes (single or double)\n",
        "will be ignored by the python interpreter.\n",
        "\"\"\""
      ]
    },
    {
      "cell_type": "markdown",
      "source": [
        "## Class example\n",
        "> What not to do\n",
        "* These are bad habits you need to avoid, NOT adopt."
      ],
      "metadata": {
        "id": "SutmG3BKd1MH"
      }
    },
    {
      "cell_type": "code",
      "source": [
        "# code example - What not to do\n",
        "import random\n",
        "game=True\n",
        "while game==True:\n",
        "  Num1=int(input(\"Choose one of the followings: 1 Rock, 2 Paper, 3 Scissors:\"))\n",
        "  Num2=random.randint(1,3)\n",
        "  if Num2==1:\n",
        "    print(\"Computer chooses Rock\")\n",
        "  elif Num2==2:\n",
        "    print(\"Computer chooses Paper\")\n",
        "  else:\n",
        "    print(\"Computer chooses Scissors\")\n",
        "  if Num1==Num2:\n",
        "    print(\"It's a draw\")\n",
        "  elif Num1==1 and Num2==3:\n",
        "    print(\"You win!\")\n",
        "  elif Num1==2 and Num2==1:\n",
        "    print(\"You win!\")\n",
        "  elif Num1==3 and Num2==2:\n",
        "    print(\"You win!\")\n",
        "  else:\n",
        "    print(\"Computer wins\")\n",
        "  text=input(\"Play again? Y/N:\")\n",
        "  if text !=\"Y\":\n",
        "    game=False"
      ],
      "metadata": {
        "colab": {
          "base_uri": "https://localhost:8080/"
        },
        "id": "0B-R9UUJda3B",
        "outputId": "3ba3aa5e-0d86-442e-8949-6abbc1e1b02c"
      },
      "execution_count": 3,
      "outputs": [
        {
          "name": "stdout",
          "output_type": "stream",
          "text": [
            "Choose one of the followings: 1 Rock, 2 Paper, 3 Scissors:2\n",
            "Computer chooses Rock\n",
            "You win!\n",
            "Play again? Y/N:Y\n",
            "Choose one of the followings: 1 Rock, 2 Paper, 3 Scissors:1\n",
            "Computer chooses Scissors\n",
            "You win!\n",
            "Play again? Y/N:Y\n",
            "Choose one of the followings: 1 Rock, 2 Paper, 3 Scissors:3\n",
            "Computer chooses Scissors\n",
            "It's a draw\n",
            "Play again? Y/N:N\n"
          ]
        }
      ]
    },
    {
      "cell_type": "markdown",
      "source": [
        "## Class example (continues...)\n",
        "> So, what should you do instead?\n",
        "* Take a look at the next example\n",
        "* How many good practices can you identify, based on our class discussion/notes in the slides?"
      ],
      "metadata": {
        "id": "GMCaZm9_fjYf"
      }
    },
    {
      "cell_type": "code",
      "source": [
        "# code example - What you should do\n",
        "# import the random library for random number generation\n",
        "import random\n",
        "\n",
        "# create some constants to represent each choice nmore clearly\n",
        "ROCK     = 1\n",
        "PAPER    = 2\n",
        "SCISSORS = 3\n",
        "\n",
        "# set the game's play status to True, which means the game is on\n",
        "play = True\n",
        "\n",
        "# while the game is on\n",
        "while play:\n",
        "  # prompt the user for his choice\n",
        "  user_choice = int(input(\"\"\"\n",
        "  Choose one of the followings:\n",
        "    [1] Rock,\n",
        "    [2] Paper,\n",
        "    [3] Scissors\n",
        "\n",
        "    > \"\"\"))\n",
        "\n",
        "  # randomly generate the computer's choice\n",
        "  computer_choice = random.randint(1,3)\n",
        "\n",
        "  # output computer's choice\n",
        "  # so that user can compare his choice with the computer's\n",
        "  if computer_choice == ROCK:\n",
        "    print(\"Computer chooses Rock\")\n",
        "  elif computer_choice == PAPER:\n",
        "    print(\"Computer chooses Paper\")\n",
        "  else:\n",
        "    print(\"Computer chooses Scissors\")\n",
        "\n",
        "  # compare choices and show outcome\n",
        "  if user_choice == computer_choice:\n",
        "    print(\"It's a draw\")\n",
        "  elif user_choice == ROCK and computer_choice == SCISSORS:\n",
        "    print(\"You win!\")\n",
        "  elif user_choice == PAPER and computer_choice == ROCK:\n",
        "    print(\"You win!\")\n",
        "  elif user_choice == SCISSORS and computer_choice == PAPER:\n",
        "    print(\"You win!\")\n",
        "  else:\n",
        "    print(\"Computer wins\")\n",
        "\n",
        "  # Prompt the user to continue or stop the game\n",
        "  text=input(\"Play again? Y/N:\")\n",
        "\n",
        "  # check is user choice is a yes\n",
        "  if text.upper() !=\"Y\":\n",
        "    play=False # otherwise, set it to false"
      ],
      "metadata": {
        "colab": {
          "base_uri": "https://localhost:8080/"
        },
        "id": "K_dSYKqPgE2b",
        "outputId": "37a4cf81-0fb0-4e87-a72d-964dcc5b49a0"
      },
      "execution_count": 20,
      "outputs": [
        {
          "name": "stdout",
          "output_type": "stream",
          "text": [
            "\n",
            "  Choose one of the followings: \n",
            "    [1] Rock, \n",
            "    [2] Paper, \n",
            "    [3] Scissors\n",
            "    \n",
            "    :> 1\n",
            "Computer chooses Scissors\n",
            "You win!\n",
            "Play again? Y/N:n\n"
          ]
        }
      ]
    },
    {
      "cell_type": "markdown",
      "metadata": {
        "id": "wEWsXeHadXCd"
      },
      "source": [
        "### Writing your first Python program\n",
        "> Hello World! - press ctrl-enter to run the program"
      ]
    },
    {
      "cell_type": "code",
      "execution_count": null,
      "metadata": {
        "id": "1ukCgTTTdXCe"
      },
      "outputs": [],
      "source": [
        "# get python to say hello to the world\n",
        "print(\"Hello, world!\") # this outputs the message to the console screen\n",
        "# output: Hello, world!"
      ]
    },
    {
      "cell_type": "markdown",
      "metadata": {
        "id": "tvQ06sn7dXCe"
      },
      "source": [
        "### Variables\n",
        "> Python is awesome!"
      ]
    },
    {
      "cell_type": "code",
      "execution_count": null,
      "metadata": {
        "id": "9dCuSIaidXCe"
      },
      "outputs": [],
      "source": [
        "# create a variable and store a message\n",
        "# a variable is a named memory location\n",
        "msg = \"Python is awesome!\" # this assigns (stores) the messsage to the variable 'msg'\n",
        "# print the message\n",
        "print(msg) # then, print the content of 'msg' that contents the message\n",
        "# output: Roll a die!"
      ]
    },
    {
      "cell_type": "markdown",
      "metadata": {
        "id": "N7nfPkCGdXCe"
      },
      "source": [
        "### Random number generation\n",
        "* Let's add the numpy library package, **numpy**, to give it the ability to *generate a random number*"
      ]
    },
    {
      "cell_type": "code",
      "execution_count": null,
      "metadata": {
        "id": "y0fL957ydXCe"
      },
      "outputs": [],
      "source": [
        "# import a library containing a random number generator\n",
        "import numpy as np\n",
        "\n",
        "msg = \"Roll a die...\"\n",
        "print(msg)\n",
        "\n",
        "# generate a number between 1 and 6\n",
        "print('Die:', np.random.randint(1,6))\n",
        "\n",
        "\"\"\"\n",
        "Output:\n",
        "Roll a die...\n",
        "Die: 3\n",
        "\"\"\""
      ]
    },
    {
      "cell_type": "markdown",
      "metadata": {
        "notebookRunGroups": {
          "groupValue": "1"
        },
        "id": "hm9MBfa_dXCe"
      },
      "source": [
        "### Week 2\n",
        "> Class Activity #1"
      ]
    },
    {
      "cell_type": "code",
      "execution_count": null,
      "metadata": {
        "notebookRunGroups": {
          "groupValue": "2"
        },
        "id": "vq3HRibGdXCe"
      },
      "outputs": [],
      "source": [
        "# print a message\n",
        "print(\"Hello, I am a Python programmer.\\nThis is program number: 1\")\n",
        "# prints a multi-line message verbatim\n",
        "print(\"\"\"\n",
        "Hello, I am a Python programmer.\n",
        "This is program number: 1\n",
        "\"\"\")\n",
        "'''\n",
        "Output:\n",
        "Hello, I am a Python programmer.\n",
        "This is program number: 1\n",
        "\n",
        "Hello, I am a Python programmer.\n",
        "This is program number: 1\n",
        "'''"
      ]
    },
    {
      "cell_type": "code",
      "execution_count": null,
      "metadata": {
        "id": "_5wNdCD7dXCe"
      },
      "outputs": [],
      "source": [
        "# print can also output several parts, replacing each comma with a space\n",
        "print(\"Hello, I am a Python programmer.\", \"This is program number:\", 1)\n",
        "# output: Hello, I am a Python programmer. This is program number: 1"
      ]
    },
    {
      "cell_type": "code",
      "execution_count": null,
      "metadata": {
        "id": "VpmEdmXtdXCe"
      },
      "outputs": [],
      "source": [
        "# get a name from the user\n",
        "name = input(\"Enter a name: \") # keeyong\n",
        "print('Your name is', name)\n",
        "# output: Your name is Keeyong"
      ]
    },
    {
      "cell_type": "code",
      "execution_count": null,
      "metadata": {
        "id": "fsryHzChdXCe"
      },
      "outputs": [],
      "source": [
        "# get a number from the user\n",
        "number = input('Enter your lucky number: ') # 7\n",
        "print('Your number is', number)\n",
        "# output: Your number is 7"
      ]
    },
    {
      "cell_type": "code",
      "execution_count": null,
      "metadata": {
        "id": "3SVVOfGhdXCe"
      },
      "outputs": [],
      "source": [
        "# get firstname, lastname and student ID\n",
        "firstinitial = input('Enter firstinitial: ') # ky\n",
        "lastinitial  = input('Enter lastinitial: ')  # l\n",
        "studentID = input('Enter student ID: ')      # 123567\n",
        "\n",
        "# output result by combining the initials and ID into a username\n",
        "print('Your username:',firstinitial + lastinitial + studentID)\n",
        "# output: Your username: ky123567"
      ]
    },
    {
      "cell_type": "code",
      "execution_count": null,
      "metadata": {
        "id": "oV6c_jeGdXCe"
      },
      "outputs": [],
      "source": [
        "# convert a number explicitly usering str() before printing it to the screen\n",
        "pi = 3.14159\n",
        "pi_str = str(pi)\n",
        "# pi_str = str(f'{pi:.3f}') # round to 3 decimal place\n",
        "print(f\"Float as string: {pi_str}\")\n",
        "# output: Float as string: 3.14159"
      ]
    },
    {
      "cell_type": "code",
      "execution_count": null,
      "metadata": {
        "id": "M8K7gTWEdXCf"
      },
      "outputs": [],
      "source": [
        "# convert a boolean value to a string\n",
        "is_true = True\n",
        "is_true_str = str(is_true)\n",
        "print(f\"Boolean as string: {is_true_str}\")\n",
        "# output: Boolean as string: True"
      ]
    },
    {
      "cell_type": "code",
      "execution_count": null,
      "metadata": {
        "id": "LQZupfhddXCf"
      },
      "outputs": [],
      "source": [
        "my_list = [1, 2, 3]\n",
        "list_str = str(my_list)\n",
        "print(f\"List as string: {list_str}\")\n",
        "# List as string: [1, 2, 3]"
      ]
    },
    {
      "cell_type": "code",
      "execution_count": null,
      "metadata": {
        "id": "G1xmxe3odXCf"
      },
      "outputs": [],
      "source": [
        "my_tuple = (4, 5, 6)\n",
        "tuple_str = str(my_tuple)\n",
        "print(f\"Tuple as string: {tuple_str}\")\n",
        "# output: Tuple as string: (4, 5, 6)"
      ]
    },
    {
      "cell_type": "code",
      "execution_count": null,
      "metadata": {
        "id": "o5x5bj9WdXCf"
      },
      "outputs": [],
      "source": [
        "name = \"Alice\"\n",
        "age = 30\n",
        "print(f\"My name is {name} and I am {age} years old.\")\n",
        "# Output: \"My name is Alice and I am 30 years old.\""
      ]
    },
    {
      "cell_type": "code",
      "execution_count": null,
      "metadata": {
        "id": "iYlL9Z7FdXCf"
      },
      "outputs": [],
      "source": [
        "x = 10\n",
        "y = 20\n",
        "print(f\"The sum of {x} and {y} is {x + y}.\")\n",
        "# Output: \"The sum of 10 and 20 is 30.\""
      ]
    },
    {
      "cell_type": "code",
      "execution_count": null,
      "metadata": {
        "id": "1cK1GGUBdXCf"
      },
      "outputs": [],
      "source": [
        "pi = 3.14159\n",
        "print(f\"Value of pi (rounded to 2 decimal places): {pi:.2f}\")\n",
        "# Output: \"Value of pi (rounded to 2 decimal places): 3.14\""
      ]
    },
    {
      "cell_type": "code",
      "execution_count": null,
      "metadata": {
        "id": "CwoQTW-OdXCf"
      },
      "outputs": [],
      "source": [
        "radius= 5\n",
        "area = pi * radius ** 2\n",
        "print(f\"Area of a circle with radius {radius} is {area:.2f}.\")\n",
        "# Output: \"Area of a circle with radius 5 is 78.54.\""
      ]
    },
    {
      "cell_type": "code",
      "execution_count": null,
      "metadata": {
        "id": "40uvnYh7dXCf"
      },
      "outputs": [],
      "source": [
        "multiline_str = f\"\"\"\n",
        "Hello,\n",
        "My name is {name}.\n",
        "I am {age} years old.\n",
        "\"\"\"\n",
        "print(multiline_str)\n",
        "# Output:\n",
        "# Hello,\n",
        "# My name is Alice.\n",
        "# I am 30 years old."
      ]
    }
  ],
  "metadata": {
    "kernelspec": {
      "display_name": "Python 3 (ipykernel)",
      "language": "python",
      "name": "python3"
    },
    "language_info": {
      "codemirror_mode": {
        "name": "ipython",
        "version": 3
      },
      "file_extension": ".py",
      "mimetype": "text/x-python",
      "name": "python",
      "nbconvert_exporter": "python",
      "pygments_lexer": "ipython3",
      "version": "3.11.7"
    },
    "colab": {
      "provenance": [],
      "include_colab_link": true
    }
  },
  "nbformat": 4,
  "nbformat_minor": 0
}