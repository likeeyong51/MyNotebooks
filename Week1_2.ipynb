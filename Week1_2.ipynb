{
  "cells": [
    {
      "cell_type": "markdown",
      "metadata": {
        "id": "view-in-github",
        "colab_type": "text"
      },
      "source": [
        "<a href=\"https://colab.research.google.com/github/likeeyong51/MyNotebooks/blob/main/Week1_2.ipynb\" target=\"_parent\"><img src=\"https://colab.research.google.com/assets/colab-badge.svg\" alt=\"Open In Colab\"/></a>"
      ]
    },
    {
      "cell_type": "markdown",
      "metadata": {
        "id": "KimVlnR2qkIv"
      },
      "source": [
        "**Table of contents**<a id='toc0_'></a>    \n",
        "- [Week 1](#toc1_1_)    \n",
        "    - [Python comments](#toc1_1_1_)    \n",
        "  - [Class example](#toc1_2_)    \n",
        "  - [Class example (continues...)](#toc1_3_)    \n",
        "    - [Writing your first Python program](#toc1_3_1_)    \n",
        "    - [Variables](#toc1_3_2_)    \n",
        "    - [Class Exercise](#toc1_3_3_)    \n",
        "    - [Random number generation](#toc1_3_4_)    \n",
        "- [Week 2](#toc1_3_5_)    \n",
        "    - [Examples of `str()` and `f-string`](#toc1_3_6_)    \n",
        "    - [A case of `conversion error`](#toc1_3_7_)    \n",
        "    - [You try it!](#toc1_3_8_)    \n",
        "    - [Class Exercise 1 Part 1](#toc1_3_9_)    \n",
        "    - [Class Exercise 1 Part 2](#toc1_3_10_)    \n",
        "    - [`Comparison` operators](#toc1_3_11_)    \n",
        "    - [`Logical` operators](#toc1_3_12_)    \n",
        "    - [`Assignment` Operators](#toc1_3_13_)    \n",
        "    - [`Membership` operators](#toc1_3_14_)    \n",
        "    - [`Identity` operators](#toc1_3_15_)    \n",
        "\n",
        "<!-- vscode-jupyter-toc-config\n",
        "\tnumbering=false\n",
        "\tanchor=true\n",
        "\tflat=false\n",
        "\tminLevel=1\n",
        "\tmaxLevel=6\n",
        "\t/vscode-jupyter-toc-config -->\n",
        "<!-- THIS CELL WILL BE REPLACED ON TOC UPDATE. DO NOT WRITE YOUR TEXT IN THIS CELL -->"
      ]
    },
    {
      "cell_type": "markdown",
      "metadata": {
        "id": "fZytXbPYqkIw"
      },
      "source": [
        "## <a id='toc1_1_'></a>[Week 1](#toc0_)\n",
        "> Introduction • Session 1\n",
        "- Class activities"
      ]
    },
    {
      "cell_type": "markdown",
      "metadata": {
        "id": "ALwpuge1qkIx"
      },
      "source": [
        "### <a id='toc1_1_1_'></a>[Python comments](#toc0_)\n",
        "* single-line\n",
        "* inline\n",
        "* multi-line"
      ]
    },
    {
      "cell_type": "code",
      "execution_count": null,
      "metadata": {
        "id": "pqWK6lg-qkIx"
      },
      "outputs": [],
      "source": [
        "# This is a single-line comment\n",
        "\n",
        "print('Whatsup?') # This is an inline comment\n",
        "\n",
        "'''\n",
        "This is a multi-line comment,\n",
        "which means I can write my comments one or more lines.\n",
        "* It is important to always document your thoughts and rationale\n",
        "for your program:\n",
        "1. Write the outline of your program in pseudocode first using the IPO model.\n",
        "2. Then, expand on each key step into smaller steps, essentially teaching the\n",
        "  computer how to perform the key steps.\n",
        "3. Finally, translate the steps into python.\n",
        "'''\n",
        "\n",
        "\"\"\"\n",
        "This is also a multi-line comment.\n",
        "Anything I place in between the pair of triple-quotes (single or double)\n",
        "will be ignored by the python interpreter.\n",
        "\"\"\""
      ]
    },
    {
      "cell_type": "markdown",
      "metadata": {
        "id": "kufY8w1NqkIx"
      },
      "source": [
        "## <a id='toc1_2_'></a>[Class example](#toc0_)\n",
        "> What not to do\n",
        "* These are bad coding habits you need to avoid, NOT adopt.\n",
        "<div>\n",
        "<img src=\"https://drive.google.com/uc?export=view&id=1R5D0mf0C3fIqHf63Xs4zVGPnSYdGF44a\" width=\"7%\" />\n",
        "</div>"
      ]
    },
    {
      "cell_type": "code",
      "source": [
        "# Why is the monkey confused?\n",
        "# How do we fix the following code to help the poor monkey?\n",
        "num1 = input(\"Enter your first number: \")\n",
        "# print(type(num1))\n",
        "num2 = input(\"Enter your second number: \")\n",
        "# print(type(num2))\n",
        "\n",
        "total = num1 + num2 # add two numbers together and store it in total\n",
        "\n",
        "print(total)\n",
        "\n",
        "# we will re-visit this problem later in our class discussion"
      ],
      "metadata": {
        "id": "890gfa6M6eNd"
      },
      "execution_count": null,
      "outputs": []
    },
    {
      "cell_type": "code",
      "execution_count": null,
      "metadata": {
        "id": "wAXBDM_wqkIx"
      },
      "outputs": [],
      "source": [
        "# code example - What not to do\n",
        "import random\n",
        "game=True\n",
        "while game==True:\n",
        "  Num1=int(input(\"Choose one of the followings: 1 Rock, 2 Paper, 3 Scissors:\"))\n",
        "  Num2=random.randint(1,3)\n",
        "  if Num2==1:\n",
        "    print(\"Computer chooses Rock\")\n",
        "  elif Num2==2:\n",
        "    print(\"Computer chooses Paper\")\n",
        "  else:\n",
        "    print(\"Computer chooses Scissors\")\n",
        "  if Num1==Num2:\n",
        "    print(\"It's a draw\")\n",
        "  elif Num1==1 and Num2==3:\n",
        "    print(\"You win!\")\n",
        "  elif Num1==2 and Num2==1:\n",
        "    print(\"You win!\")\n",
        "  elif Num1==3 and Num2==2:\n",
        "    print(\"You win!\")\n",
        "  else:\n",
        "    print(\"Computer wins\")\n",
        "  text=input(\"Play again? Y/N:\")\n",
        "  if text !=\"Y\":\n",
        "    game=False"
      ]
    },
    {
      "cell_type": "markdown",
      "metadata": {
        "id": "mbVUg10HqkIx"
      },
      "source": [
        "## <a id='toc1_3_'></a>[Class example (continues...)](#toc0_)\n",
        "> So, what should you do instead?\n",
        "* Take a look at the next example\n",
        "* How many good practices can you identify, based on our class discussion/notes in the slides?\n",
        ">> * `Comments`\n",
        ">> * `Descriptive names`\n",
        ">> * `Indentation`\n",
        ">> * `White spaces`\n",
        "* `Note:` you are not expected to understand all the python code at this point\n",
        "* This is only meant to illustrate `good coding practices` prescribed for our class"
      ]
    },
    {
      "cell_type": "code",
      "execution_count": null,
      "metadata": {
        "id": "7Php0KWHqkIy"
      },
      "outputs": [],
      "source": [
        "# code example - What you should do\n",
        "# import the random library for random number generation\n",
        "import random\n",
        "\n",
        "# create some constants to represent each choice nmore clearly\n",
        "ROCK     = 1\n",
        "PAPER    = 2\n",
        "SCISSORS = 3\n",
        "\n",
        "# set the game's play status to True, which means the game is on\n",
        "play = True\n",
        "\n",
        "# while the game is on\n",
        "while play:\n",
        "  # prompt the user for his choice\n",
        "  user_choice = int(input(\"\"\"\n",
        "  Choose one of the followings by entering the corresponding number:\n",
        "    [1] Rock\n",
        "    [2] Paper\n",
        "    [3] Scissors\n",
        "\n",
        "    > \"\"\"))\n",
        "\n",
        "  # randomly generate the computer's choice\n",
        "  computer_choice = random.randint(1,3)\n",
        "\n",
        "  # output computer's choice\n",
        "  # so that user can compare his choice with the computer's\n",
        "  if computer_choice == ROCK:\n",
        "    print(\"Computer chooses Rock\")\n",
        "  elif computer_choice == PAPER:\n",
        "    print(\"Computer chooses Paper\")\n",
        "  else:\n",
        "    print(\"Computer chooses Scissors\")\n",
        "\n",
        "  # compare choices and show outcome\n",
        "  if user_choice == computer_choice:\n",
        "    print(\"It's a draw\")\n",
        "  elif user_choice == ROCK and computer_choice == SCISSORS:\n",
        "    print(\"You win!\")\n",
        "  elif user_choice == PAPER and computer_choice == ROCK:\n",
        "    print(\"You win!\")\n",
        "  elif user_choice == SCISSORS and computer_choice == PAPER:\n",
        "    print(\"You win!\")\n",
        "  else:\n",
        "    print(\"Computer wins\")\n",
        "\n",
        "  # Prompt the user to continue or stop the game\n",
        "  text=input(\"Play again? Y/N:\")\n",
        "\n",
        "  # Then, continue play if user choice is a yes\n",
        "  # Otherwise, stop play by setting play status to false\n",
        "  if text.upper() !=\"Y\":\n",
        "    play = False # otherwise, set it to false"
      ]
    },
    {
      "cell_type": "markdown",
      "metadata": {
        "id": "fZTbubYfqkIy"
      },
      "source": [
        "### <a id='toc1_3_1_'></a>[Writing your first Python program](#toc0_)\n",
        "> `Hello World!` - press ctrl-enter to run the program"
      ]
    },
    {
      "cell_type": "code",
      "execution_count": null,
      "metadata": {
        "id": "MZmts_kBqkIy"
      },
      "outputs": [],
      "source": [
        "# get python to say hello to the world\n",
        "print(\"Hello, world!\") # this outputs the message to the console screen\n",
        "# output: Hello, world!\n",
        "print('Hello, world!') # this outputs the message to the console screen\n",
        "\n",
        "# some ways to combine string literals and text contents of a variable, e.g. name\n",
        "name = input(\"What's your name? \")\n",
        "print(\"Hello,\", name)\n",
        "print(\"Hello, \" + name)\n",
        "print(f\"Hello, {name}\")"
      ]
    },
    {
      "cell_type": "markdown",
      "metadata": {
        "id": "5pJyajOXqkIy"
      },
      "source": [
        "### <a id='toc1_3_2_'></a>[Variables](#toc0_)\n",
        "> Session 2 • `Python is awesome!`"
      ]
    },
    {
      "cell_type": "code",
      "execution_count": null,
      "metadata": {
        "id": "9dCuSIaidXCe"
      },
      "outputs": [],
      "source": [
        "# create a variable and store a message, i.e. to bind one or more value to a variable\n",
        "# a variable is a named memory location\n",
        "msg = \"Python is awesome!\" # assign (store) the messsage to the variable 'msg'\n",
        "\n",
        "# print the message\n",
        "print(msg) # print the content of 'msg' that contents the message\n",
        "# output: Python is awesome"
      ]
    },
    {
      "cell_type": "code",
      "execution_count": null,
      "metadata": {
        "id": "3ol8-22pqkIy"
      },
      "outputs": [],
      "source": [
        "# Type this in a python console to check a variable type with type()\n",
        "# To open a console from VS Code, use the short-cut key: ctrl+`\n",
        "# Then, enter the command 'python'\n",
        "\n",
        "type(5)\n",
        "type(7.0)\n",
        "type(True) # Warning: type(true) will give an error - capitalisation matters.\n",
        "           # Note: Python is case-sensitive\n",
        "\n",
        "# convert to another type with float(), int() and round()\n",
        "float(5)   # create a floating decimal from the value 5\n",
        "int(7.3)   # create an integer from the value 7.3\n",
        "round(7.3) # rounds 7.3 to an integer value - default is 0 decimal place\n",
        "\n",
        "# Combine objects [type] with arithmetic operators\n",
        "# Type the following expressions into the python console\n",
        "# The console reads and evaluates each of the expression, but does not\n",
        "#   store the values [yet]\n",
        "3+2                # addition\n",
        "(5+2) * 6-1        # '*' is multiplication - what gets evaluated first?\n",
        "\n",
        "type((5+2) * 6-3)  # prints the type of the evaluation of the expression\n",
        "\n",
        "float((5+2) * 6-3) # casts the the evaluation of the expression to a float\n",
        "int(1/2)           # cast a floating division to an integer\n",
        "\n",
        "5/3                # floating division\n",
        "5//3               # integer division\n",
        "5%3                # mod, returns the remainder of the division\n",
        "5**2               # power\n",
        "\n",
        "# Create a variable via an assignment statement\n",
        "# What this allows us to do is to bind a value to a variable\n",
        "# This binding allows us to stores one or more values, or the evaluation of\n",
        "#   an expression, which is also a value\n",
        "# The expression must always be on the right-hand side of the assignment statement\n",
        "pi     = 355/113    # compute an approximate value of pi\n",
        "radius = 2.5        # initialise the variable, radius, to the value 2.5\n",
        "\n",
        "area          = pi * (radius**2)  # calculate the area of a circle, pi*r^2\n",
        "circumference = pi * (radius * 2) # calculate the circumference of a circle, 2*pi*r"
      ]
    },
    {
      "cell_type": "markdown",
      "metadata": {
        "id": "B8vYp5YfqkIz"
      },
      "source": [
        "### <a id='toc1_3_3_'></a>[Class Exercise](#toc0_)\n",
        "In your Python console, find the `type` of:\n",
        "1. 122333\n",
        "2. 7.99\n",
        "3. 8.0\n",
        "4. True\n",
        "\n",
        "Which of these are allowed in Python?  Type them in the `console` to check.\n",
        "1. x = 6\n",
        "2. 6 = x\n",
        "3. x * y = 3+4\n",
        "4. xy = 3+4\n",
        "\n"
      ]
    },
    {
      "cell_type": "code",
      "execution_count": null,
      "metadata": {
        "id": "MLTlsennqkIz"
      },
      "outputs": [],
      "source": [
        "# enter a multiline program directly into the python console\n",
        "multiline_program = '''\n",
        "def hello(name):\n",
        "    print(f\"Hello, {name}!\")\n",
        "\n",
        "hello(\"Alice\")\n",
        "'''\n",
        "\n",
        "exec(multiline_program)\n",
        "# Output: Hello, Alice!"
      ]
    },
    {
      "cell_type": "code",
      "source": [
        "# let's rewrite the multiline program here in the code editor\n"
      ],
      "metadata": {
        "id": "xQEDZXxoe95g"
      },
      "execution_count": null,
      "outputs": []
    },
    {
      "cell_type": "markdown",
      "metadata": {
        "id": "uyldgP8bqkIz"
      },
      "source": [
        "### <a id='toc1_3_4_'></a>[Random number generation](#toc0_)\n",
        "* Let's add the `numpy` library package, which will give us the ability to *generate a `random` number*"
      ]
    },
    {
      "cell_type": "code",
      "execution_count": null,
      "metadata": {
        "id": "fpWI-A2tqkIz"
      },
      "outputs": [],
      "source": [
        "# import a library module containing a random number generator\n",
        "import numpy as np\n",
        "\n",
        "msg = \"Roll a die...\"\n",
        "print(msg)\n",
        "\n",
        "# generate a number between 1 and 6\n",
        "print('The number is', np.random.randint(1,6))\n"
      ]
    },
    {
      "cell_type": "markdown",
      "metadata": {
        "id": "XpT6nZtSqkIz"
      },
      "source": [
        "## <a id='toc1_3_5_'></a>[Week 2](#toc0_)\n",
        "> Class `Activities`\n",
        "> * Try out each example below\n",
        "> * We will look at them more closely in class"
      ]
    },
    {
      "cell_type": "code",
      "execution_count": null,
      "metadata": {
        "id": "vq3HRibGdXCe",
        "notebookRunGroups": {
          "groupValue": "2"
        }
      },
      "outputs": [],
      "source": [
        "# print a message\n",
        "print(\"Hello, I am a Python programmer.\\nThis is program number: 1\")\n",
        "# prints a multi-line message verbatim\n",
        "print(\"\"\"\n",
        "Hello, I am a Python programmer.\n",
        "This is program number: 1\n",
        "\"\"\")\n",
        "\n",
        "'''\n",
        "Output:\n",
        "Hello, I am a Python programmer.\n",
        "This is program number: 1\n",
        "\n",
        "Hello, I am a Python programmer.\n",
        "This is program number: 1\n",
        "'''"
      ]
    },
    {
      "cell_type": "code",
      "execution_count": null,
      "metadata": {
        "id": "_5wNdCD7dXCe"
      },
      "outputs": [],
      "source": [
        "# print can also output several parts, replacing each comma with a space\n",
        "print(\"Hello, I am a Python programmer.\", \"This is program number:\", 1)\n",
        "# Output: Hello, I am a Python programmer. This is program number: 1"
      ]
    },
    {
      "cell_type": "code",
      "execution_count": null,
      "metadata": {
        "id": "VpmEdmXtdXCe"
      },
      "outputs": [],
      "source": [
        "# get a name from the user\n",
        "name = input(\"Enter a name: \") # Keeyong\n",
        "\n",
        "print('Your name is', name)\n",
        "# Output: Your name is Keeyong"
      ]
    },
    {
      "cell_type": "code",
      "execution_count": null,
      "metadata": {
        "id": "fsryHzChdXCe"
      },
      "outputs": [],
      "source": [
        "# get a number from the user\n",
        "number = input('Enter your lucky number: ') # 7\n",
        "\n",
        "print('Your number is', number)\n",
        "# Output: Your number is 7"
      ]
    },
    {
      "cell_type": "code",
      "execution_count": null,
      "metadata": {
        "id": "27xVfuoqz5PZ"
      },
      "outputs": [],
      "source": [
        "# prompt the user for country of origin\n",
        "country     = input('Which country do you come from: ')\n",
        "\n",
        "# prompt the user for the current date\n",
        "date        = input('Enter a date (dd mon) in ' + country + ': ')\n",
        "temperature = input('What is the average temperature in your country (°C): ')\n",
        "\n",
        "# output user data\n",
        "print() # print a new line\n",
        "print ('It is ' + temperature + '°C on ' + date + ' in ' + country)"
      ]
    },
    {
      "cell_type": "code",
      "execution_count": null,
      "metadata": {
        "id": "ERm3lXKfqkIz"
      },
      "outputs": [],
      "source": [
        "# get firstname, lastname and student ID\n",
        "firstinitial = input('What is your first initial? ') # ky\n",
        "lastinitial  = input('What is your last initial? ')  # l\n",
        "studentID    = input('What is your student ID? ')    # 123567\n",
        "\n",
        "# combine and output the initials and ID as a username\n",
        "print('Here is your username:', firstinitial + lastinitial + studentID)\n",
        "# Sample output: Here is your username: ky123567"
      ]
    },
    {
      "cell_type": "markdown",
      "metadata": {
        "id": "Myf5vyW8qkIz"
      },
      "source": [
        "### <a id='toc1_3_6_'></a>[Examples of `str()` and `f-string`](#toc0_)"
      ]
    },
    {
      "cell_type": "code",
      "execution_count": null,
      "metadata": {
        "id": "oV6c_jeGdXCe",
        "collapsed": true
      },
      "outputs": [],
      "source": [
        "# convert a number explicitly using str() before printing it to the screen\n",
        "pi = 3.14159\n",
        "# pi_str = str(pi)\n",
        "# pi_str = str(f'{pi:.3f}') # round to 3 decimal place\n",
        "\n",
        "rounded_no = round(pi, 3)\n",
        "print(rounded_no)\n",
        "# Output: 3.142\n",
        "\n",
        "print(f\"Float as string: {pi:.3f}\")\n",
        "# Output: Float as string: 3.142\n",
        "\n",
        "rounded_no_str = '{:.3f}'.format(pi)\n",
        "print(f\"Float as string: {rounded_no_str}\")\n",
        "# Output: Float as string: 3.142"
      ]
    },
    {
      "cell_type": "code",
      "execution_count": null,
      "metadata": {
        "id": "M8K7gTWEdXCf"
      },
      "outputs": [],
      "source": [
        "# convert a boolean value to a string\n",
        "is_true     = True\n",
        "is_true_str = str(is_true)\n",
        "\n",
        "print(\"Boolean as string: \" + is_true_str)\n",
        "# Output: Boolean as string: True"
      ]
    },
    {
      "cell_type": "code",
      "execution_count": null,
      "metadata": {
        "id": "LQZupfhddXCf"
      },
      "outputs": [],
      "source": [
        "# convert a list into a string\n",
        "my_list  = [1, 2, 3]\n",
        "list_str = str(my_list) # explicitly convert the list to a string\n",
        "print(\"List as string: \" + list_str)\n",
        "# Output: List as string: [1, 2, 3]"
      ]
    },
    {
      "cell_type": "code",
      "execution_count": null,
      "metadata": {
        "id": "G1xmxe3odXCf"
      },
      "outputs": [],
      "source": [
        "# convert a tuple into a string\n",
        "my_tuple  = (4, 5, 6)\n",
        "tuple_str = str(my_tuple) # explicitly convert the tuple to a string\n",
        "print(\"Tuple as string: \" + tuple_str)\n",
        "# Output: Tuple as string: (4, 5, 6)"
      ]
    },
    {
      "cell_type": "code",
      "execution_count": null,
      "metadata": {
        "id": "o5x5bj9WdXCf"
      },
      "outputs": [],
      "source": [
        "name = \"Alice\"\n",
        "age  = 30\n",
        "print(f\"My name is {name} and I am {age} years old.\")\n",
        "# Output: \"My name is Alice and I am 30 years old.\""
      ]
    },
    {
      "cell_type": "code",
      "execution_count": null,
      "metadata": {
        "id": "iYlL9Z7FdXCf"
      },
      "outputs": [],
      "source": [
        "x = 10\n",
        "y = 20\n",
        "print(f\"The sum of {x} and {y} is {x + y}.\")\n",
        "# Output: \"The sum of 10 and 20 is 30.\""
      ]
    },
    {
      "cell_type": "code",
      "execution_count": null,
      "metadata": {
        "id": "1cK1GGUBdXCf"
      },
      "outputs": [],
      "source": [
        "pi = 3.14159\n",
        "print(f\"Value of pi (rounded to 2 decimal places): {pi:.2f}\")\n",
        "# Output: \"Value of pi (rounded to 2 decimal places): 3.14\""
      ]
    },
    {
      "cell_type": "code",
      "execution_count": null,
      "metadata": {
        "id": "CwoQTW-OdXCf"
      },
      "outputs": [],
      "source": [
        "radius = 5\n",
        "area   = pi * radius ** 2 # where is the pi value coming from?\n",
        "print(f\"Area of a circle with radius {radius} is {area:.2f}.\")\n",
        "# Output: \"Area of a circle with radius 5 is 78.54.\""
      ]
    },
    {
      "cell_type": "code",
      "execution_count": null,
      "metadata": {
        "id": "dd-_xTkNqkI0"
      },
      "outputs": [],
      "source": [
        "multiline_str = f\"\"\"\n",
        "Hello,\n",
        "My name is {name}.\n",
        "I am {age} years old.\n",
        "\"\"\"\n",
        "print(multiline_str)\n",
        "# Output:\n",
        "# Hello,\n",
        "# My name is Alice.\n",
        "# I am 30 years old."
      ]
    },
    {
      "cell_type": "markdown",
      "metadata": {
        "id": "jjyZcRMCqkI0"
      },
      "source": [
        "### <a id='toc1_3_7_'></a>[A case of `conversion error`](#toc0_)\n",
        "> Let's look at an example\n"
      ]
    },
    {
      "cell_type": "code",
      "execution_count": 21,
      "metadata": {
        "id": "ZuZfSsvLqkI0",
        "colab": {
          "base_uri": "https://localhost:8080/"
        },
        "outputId": "2745cb05-bb61-4fe4-8b2e-23f1dfa134aa"
      },
      "outputs": [
        {
          "output_type": "stream",
          "name": "stdout",
          "text": [
            "Enter x: 1\n",
            "Enter y: 5\n",
            "The sum of 1 and 5 is 15.\n"
          ]
        }
      ],
      "source": [
        "# prompt and read in x and y\n",
        "x = input ('Enter x: ')\n",
        "y = input ('Enter y: ')\n",
        "\n",
        "# display the result of x+y\n",
        "print(f\"The sum of {x} and {y} is {x + y}.\")\n",
        "\n",
        "# output: There is an error here.  Can you find it?  How do you correct this?"
      ]
    },
    {
      "cell_type": "markdown",
      "metadata": {
        "id": "PBo0AiG1qkI0"
      },
      "source": [
        "### <a id='toc1_3_8_'></a>[You try it!](#toc0_)\n",
        "> What's the value of `s1` and `s2`?\n",
        ">> Enter the following expressions into a `python console`:\n",
        "\n",
        "> * b = \":\"\n",
        "> * c = \")\"\n",
        "> * s1 = b + 2*c\n",
        "\n",
        "> * f = \"a\"\n",
        "> * g = \" b\"\n",
        "> * h = \"3\"\n",
        "> * s2 = (f+g) * int(h)\n",
        "\n",
        "Note: You can also `visualise` this code in [Python Tutor](https://pythontutor.com)"
      ]
    },
    {
      "cell_type": "markdown",
      "metadata": {
        "id": "zdf0n-KQqkI0"
      },
      "source": [
        "### <a id='toc1_3_9_'></a>[Class Exercise 1 Part 1](#toc0_)\n",
        "> Write a program to ask a user to input\n",
        "* the `number of hours` worked each day from Monday to Friday\n",
        "* Then calculate the `total number of hours` worked in the `first` week"
      ]
    },
    {
      "cell_type": "code",
      "execution_count": null,
      "metadata": {
        "id": "aU40qAVjqkI0"
      },
      "outputs": [],
      "source": [
        "# A program that allows a user to enter the work hours\n",
        "# for each day of the first week and calculates and print\n",
        "# the total number of hours worked.\n",
        "\n",
        "# Prompt the user for hours worked for each weekday\n",
        "mon_hours_worked = int(input(\"Hours worked for Monday: \"))\n",
        "tue_hours_worked = int(input(\"Hours worked for Tuesday: \"))\n",
        "wed_hours_worked = int(input(\"Hours worked for Wednesday: \"))\n",
        "thu_hours_worked = int(input(\"Hours worked for Thursday: \"))\n",
        "fri_hours_worked = int(input(\"Hours worked for Friday: \"))\n",
        "\n",
        "# calculates the sum of hours worked for each weekday\n",
        "# Note:break upa statement into multiple lines:\n",
        "# > By using a backslash (\\) at the end of a line to continue on the next line\n",
        "total_hours_week1 = \\\n",
        "    mon_hours_worked + \\\n",
        "    tue_hours_worked + \\\n",
        "    wed_hours_worked + \\\n",
        "    thu_hours_worked + \\\n",
        "    fri_hours_worked\n",
        "\n",
        "# prints the total numbers worked per week\n",
        "print()\n",
        "print (f\"You worked {total_hours_week1} hours in week 1\")"
      ]
    },
    {
      "cell_type": "markdown",
      "metadata": {
        "id": "KV2ggttZqkI4"
      },
      "source": [
        "### <a id='toc1_3_10_'></a>[Class Exercise 1 Part 2](#toc0_)\n",
        "> Write a program to prompts a user to input\n",
        "* the `number of hours` worked each day from Monday to Friday for both week 1 and 2\n",
        "* Then, calculate the `total number of hours` worked in each week\n",
        "* Finally, determine `how many more hours` they worked in week 2 compared to week 1\n",
        "* `Bonus`: `Indicate` whether they worked more or fewer hours in week 2.\n"
      ]
    },
    {
      "cell_type": "code",
      "source": [
        "# Copy and modify the starter code from Part 1 and\n",
        "# complete part 2 before looking at the solution."
      ],
      "metadata": {
        "id": "LeCUi8yFlvqy"
      },
      "execution_count": null,
      "outputs": []
    },
    {
      "cell_type": "code",
      "execution_count": null,
      "metadata": {
        "id": "eU1e7x2LqkI4",
        "cellView": "form"
      },
      "outputs": [],
      "source": [
        "# @title\n",
        "# A program that allows a user to enter the work hours\n",
        "# for each day of the second week and calculates and print\n",
        "# the total number of hours worked in week1 and week2.\n",
        "# Finally, it calculates and prints the difference in hours\n",
        "# of week 2 from week 1.\n",
        "# Bonus: If the value is negative, it prints \"You worked less hours in week 2\"\n",
        "# else it prints \"You worked more hours in week 2\"\n",
        "\n",
        "'''\n",
        "Week 1 work hours\n",
        "'''\n",
        "print(\"Enter week 1 data...\")\n",
        "# Prompt the user for hours worked for each weekday in week 1\n",
        "mon_hours_worked = int(input(\"Hours worked for Monday: \"))\n",
        "tue_hours_worked = int(input(\"Hours worked for Tuesday: \"))\n",
        "wed_hours_worked = int(input(\"Hours worked for Wednesday: \"))\n",
        "thu_hours_worked = int(input(\"Hours worked for Thursday: \"))\n",
        "fri_hours_worked = int(input(\"Hours worked for Friday: \"))\n",
        "\n",
        "# calculates the sum of hours worked for each weekday in week 1\n",
        "# Note: break up a statement into multiple lines:\n",
        "# By using a backslash (\\) at the end of a line to continue on the next line\n",
        "total_hours_week1 =    \\\n",
        "    mon_hours_worked + \\\n",
        "    tue_hours_worked + \\\n",
        "    wed_hours_worked + \\\n",
        "    thu_hours_worked + \\\n",
        "    fri_hours_worked\n",
        "\n",
        "# total hours worked in the first week\n",
        "print (f\"You worked {total_hours_week1} hours in week 1\")\n",
        "print()\n",
        "\n",
        "\n",
        "'''\n",
        "Week 2 work hours\n",
        "'''\n",
        "print(\"Enter week 2 data...\")\n",
        "# Prompt the user for hours worked for each weekday in week 2\n",
        "mon_hours_worked = int(input(\"Hours worked for Monday: \"))\n",
        "tue_hours_worked = int(input(\"Hours worked for Tuesday: \"))\n",
        "wed_hours_worked = int(input(\"Hours worked for Wednesday: \"))\n",
        "thu_hours_worked = int(input(\"Hours worked for Thursday: \"))\n",
        "fri_hours_worked = int(input(\"Hours worked for Friday: \"))\n",
        "\n",
        "# calculates the sum of hours worked for each weekday in week 2\n",
        "# Note:break up a statement into multiple lines:\n",
        "# By using a backslash (\\) at the end of a line to continue on the next line\n",
        "total_hours_week2 =    \\\n",
        "    mon_hours_worked + \\\n",
        "    tue_hours_worked + \\\n",
        "    wed_hours_worked + \\\n",
        "    thu_hours_worked + \\\n",
        "    fri_hours_worked\n",
        "\n",
        "# total hours worked in the second week\n",
        "print(f\"You worked {total_hours_week2} hours in week 2\")\n",
        "\n",
        "# calculate the difference of week2 from week1\n",
        "diff_hours = total_hours_week2 - total_hours_week1\n",
        "\n",
        "# prints the difference of hours worked in week 2 from week 1\n",
        "# abs() returns the absolute value of a number\n",
        "print()\n",
        "print(f\"The difference of week 2 hours from week 1 is {diff_hours} hours\")\n",
        "print(f\"You worked {abs(diff_hours)} less hours in week 2\" if diff_hours < 0 else \\\n",
        "      f\"You worked {abs(diff_hours)} more hours in week 2\")\n"
      ]
    },
    {
      "cell_type": "markdown",
      "metadata": {
        "id": "apso9xTLqkI4"
      },
      "source": [
        "### <a id='toc1_3_11_'></a>[`Comparison` operators](#toc0_)\n",
        "> We use these operators to build expressions that evaluates to a `boolean value`:\n",
        "* `True`\n",
        "* `False`"
      ]
    },
    {
      "cell_type": "code",
      "execution_count": null,
      "metadata": {
        "id": "RNZy1nlmqkI5"
      },
      "outputs": [],
      "source": [
        "# comparison operators\n",
        "# test out the following expressions in a python console\n",
        "x = 10\n",
        "y = 3\n",
        "\n",
        "print(f'x = {x} and y = {y}\\n')\n",
        "\n",
        "# equality operators\n",
        "print(f'x == y | {x == y}') # ==, equal\n",
        "print(f'x != y | {x != y}') # !=, not equal\n",
        "\n",
        "# inequality operators\n",
        "print(f'x < y  | {x < y}')  # <,  less than\n",
        "print(f'x > y  | {x > y}')  # >,  greater than\n",
        "print(f'x <= y | {x <= y}') # <=, less than or equal to\n",
        "print(f'x >= y | {x >= y}') # >=, greater than or equal to"
      ]
    },
    {
      "cell_type": "markdown",
      "metadata": {
        "id": "-EkU6o8mqkI5"
      },
      "source": [
        "### <a id='toc1_3_12_'></a>[`Logical` operators](#toc0_)\n",
        "> `and`, `or`, `not`"
      ]
    },
    {
      "cell_type": "code",
      "execution_count": null,
      "metadata": {
        "id": "-8XZiA4QqkI5",
        "cellView": "form"
      },
      "outputs": [],
      "source": [
        "# @title\n",
        "# logical operators: and, or, not\n",
        "a = True\n",
        "b = True\n",
        "\n",
        "# truth table for and\n",
        "title = \"AND Truth Table\"\n",
        "print(title)\n",
        "print(\"-\" * len(title))\n",
        "print(f\"|a and b         | {a and b}\")\n",
        "print(f\"|a and not b     | {a and not b}\")\n",
        "print(f\"|not a and b     | {not a and b}\")\n",
        "print(f\"|not a and not b | {not a and not b}\")\n",
        "print()\n",
        "\n",
        "# truth table for or\n",
        "title = \"OR Truth Table\"\n",
        "print(title)\n",
        "print(\"-\" * len(title))\n",
        "print(f\"|a or b         | {a or b}\")\n",
        "print(f\"|a or not b     | {a or not b}\")\n",
        "print(f\"|not a or b     | {not a or b}\")\n",
        "print(f\"|not a or not b | {not a or not b}\")\n",
        "print()\n",
        "\n",
        "# truth table for not\n",
        "title = \"NOT Truth Table\"\n",
        "print(title)\n",
        "print(\"-\" * len(title))\n",
        "\n",
        "b = False\n",
        "\n",
        "print(f\"a:{a}  | not a:{not a}\")\n",
        "print(f\"b:{b} | not b:{not b}\")"
      ]
    },
    {
      "cell_type": "markdown",
      "metadata": {
        "id": "FXLmGS9aqkI5"
      },
      "source": [
        "### <a id='toc1_3_13_'></a>[`Assignment` Operators](#toc0_)\n",
        "> `bind a value` to a variable\n",
        "* `atomic` operators can `perform an operation` and `assignment` in a single step"
      ]
    },
    {
      "cell_type": "code",
      "execution_count": null,
      "metadata": {
        "id": "PUMCq-liqkI5",
        "cellView": "form"
      },
      "outputs": [],
      "source": [
        "# @title\n",
        "# Assignment operators\n",
        "\n",
        "# =\n",
        "x = 15\n",
        "print(f\"x = {x}\")\n",
        "\n",
        "# +=\n",
        "x += 2 # x = x + 2\n",
        "print(f\"x += 2 = {x}\")\n",
        "\n",
        "# -=\n",
        "x -= 2\n",
        "print(f\"x -= 2 = {x}\")\n",
        "\n",
        "# *=\n",
        "x *= 2\n",
        "print(f\"x *= 2 = {x}\")\n",
        "\n",
        "# /=\n",
        "x /= 2\n",
        "print(f\"x /= 2 = {x}\")\n",
        "\n",
        "# %=\n",
        "x %= 2\n",
        "print(f\"x %= 2 = {x}\")\n",
        "\n",
        "# //=\n",
        "x = 102\n",
        "x //= 10\n",
        "print(f\"x //= 11 = {x}\")\n",
        "\n",
        "# **=\n",
        "x **= 2\n",
        "print(f\"x **= 2 = {x}\")"
      ]
    },
    {
      "cell_type": "markdown",
      "metadata": {
        "id": "gn2LCqZAqkI6"
      },
      "source": [
        "### <a id='toc1_3_14_'></a>[`Membership` operators](#toc0_)\n",
        "> * `in` (membership)\n",
        "> * `not in` (not in membership)"
      ]
    },
    {
      "cell_type": "code",
      "execution_count": null,
      "metadata": {
        "id": "ZjmP4ghBqkI6",
        "cellView": "form"
      },
      "outputs": [],
      "source": [
        "# @title\n",
        "# list\n",
        "myList = [1, 2, 3, 4, 5]\n",
        "\n",
        "#  test\n",
        "print(\"Is 2 in my list?\", \"Yes\" if 2 in myList else \"No\")\n",
        "print(\"Is 6 in my list?\", \"Yes\" if 6 in myList else \"No\")\n",
        "print(\"Is 7 in my list?\", \"No\"  if 7 not in myList else \"Yes\")"
      ]
    },
    {
      "cell_type": "markdown",
      "metadata": {
        "id": "BGZlunsMqkI6"
      },
      "source": [
        "### <a id='toc1_3_15_'></a>[`Identity` operators](#toc0_)\n",
        "> * `is` (identity)\n",
        "> * `is not` (not identity)"
      ]
    },
    {
      "cell_type": "code",
      "execution_count": null,
      "metadata": {
        "id": "VVzTSurDY7FD",
        "cellView": "form"
      },
      "outputs": [],
      "source": [
        "# @title\n",
        "# list\n",
        "myList = [1, 2, 3, 4, 5]\n",
        "a = b = myList\n",
        "c = [5, 6, 7, 8, 9]\n",
        "\n",
        "# test\n",
        "print(\"Is a and b are the same object?\", \"Yes\" if a is b else \"No\")\n",
        "print(\"a is not c?\", \"Yes\" if a is not c else \"No\")"
      ]
    }
  ],
  "metadata": {
    "colab": {
      "provenance": [],
      "include_colab_link": true
    },
    "kernelspec": {
      "display_name": "Python 3 (ipykernel)",
      "language": "python",
      "name": "python3"
    },
    "language_info": {
      "codemirror_mode": {
        "name": "ipython",
        "version": 3
      },
      "file_extension": ".py",
      "mimetype": "text/x-python",
      "name": "python",
      "nbconvert_exporter": "python",
      "pygments_lexer": "ipython3",
      "version": "3.11.7"
    }
  },
  "nbformat": 4,
  "nbformat_minor": 0
}