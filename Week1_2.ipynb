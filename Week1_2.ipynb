{
  "cells": [
    {
      "cell_type": "markdown",
      "metadata": {
        "id": "view-in-github",
        "colab_type": "text"
      },
      "source": [
        "<a href=\"https://colab.research.google.com/github/likeeyong51/MyNotebooks/blob/main/Week1_2.ipynb\" target=\"_parent\"><img src=\"https://colab.research.google.com/assets/colab-badge.svg\" alt=\"Open In Colab\"/></a>"
      ]
    },
    {
      "cell_type": "markdown",
      "metadata": {
        "id": "yoBWRYPRdXCd"
      },
      "source": [
        "## Week 1\n",
        "> Introduction • Session 1\n",
        "- Class activities"
      ]
    },
    {
      "cell_type": "markdown",
      "metadata": {
        "id": "4Zi1ZQ9TdXCd",
        "notebookRunGroups": {
          "groupValue": "1"
        }
      },
      "source": [
        "### Python comments\n",
        "* single-line\n",
        "* inline\n",
        "* multi-line"
      ]
    },
    {
      "cell_type": "code",
      "execution_count": null,
      "metadata": {
        "id": "8mxZdKpydXCd"
      },
      "outputs": [],
      "source": [
        "'''\n",
        "This is a multi-line comment,\n",
        "which means I can write my comments one or more lines.\n",
        "* It is important to always document your thoughts and rationale\n",
        "for your program:\n",
        "1. Write the outline of your program in pseudocode first using the IPO model.\n",
        "2. Then, expand on each key step into smaller steps, essentially teaching the\n",
        "  computer how to perform the key steps.\n",
        "3. Finally, translate the steps into python.\n",
        "'''\n",
        "\n",
        "\"\"\"\n",
        "This is also a multi-line comment.\n",
        "Anything I place in between the pair of triple-quotes (single or double)\n",
        "will be ignored by the python interpreter.\n",
        "\"\"\""
      ]
    },
    {
      "cell_type": "markdown",
      "metadata": {
        "id": "SutmG3BKd1MH"
      },
      "source": [
        "## Class example\n",
        "> What not to do\n",
        "* These are bad habits you need to avoid, NOT adopt."
      ]
    },
    {
      "cell_type": "code",
      "execution_count": null,
      "metadata": {
        "id": "0B-R9UUJda3B"
      },
      "outputs": [],
      "source": [
        "# code example - What not to do\n",
        "import random\n",
        "game=True\n",
        "while game==True:\n",
        "  Num1=int(input(\"Choose one of the followings: 1 Rock, 2 Paper, 3 Scissors:\"))\n",
        "  Num2=random.randint(1,3)\n",
        "  if Num2==1:\n",
        "    print(\"Computer chooses Rock\")\n",
        "  elif Num2==2:\n",
        "    print(\"Computer chooses Paper\")\n",
        "  else:\n",
        "    print(\"Computer chooses Scissors\")\n",
        "  if Num1==Num2:\n",
        "    print(\"It's a draw\")\n",
        "  elif Num1==1 and Num2==3:\n",
        "    print(\"You win!\")\n",
        "  elif Num1==2 and Num2==1:\n",
        "    print(\"You win!\")\n",
        "  elif Num1==3 and Num2==2:\n",
        "    print(\"You win!\")\n",
        "  else:\n",
        "    print(\"Computer wins\")\n",
        "  text=input(\"Play again? Y/N:\")\n",
        "  if text !=\"Y\":\n",
        "    game=False"
      ]
    },
    {
      "cell_type": "markdown",
      "metadata": {
        "id": "GMCaZm9_fjYf"
      },
      "source": [
        "## Class example (continues...)\n",
        "> So, what should you do instead?\n",
        "* Take a look at the next example\n",
        "* How many good practices can you identify, based on our class discussion/notes in the slides?\n",
        ">> * `Comments`\n",
        ">> * `Descriptive names`\n",
        ">> * `Indentation`\n",
        ">> * `White spaces`\n",
        "* `Note:` you are not expected to understand all the python code at this point\n",
        "* This is only meant to illustrate `good coding practices` prescribed for our class"
      ]
    },
    {
      "cell_type": "code",
      "execution_count": null,
      "metadata": {
        "id": "K_dSYKqPgE2b"
      },
      "outputs": [],
      "source": [
        "# code example - What you should do\n",
        "# import the random library for random number generation\n",
        "import random\n",
        "\n",
        "# create some constants to represent each choice nmore clearly\n",
        "ROCK     = 1\n",
        "PAPER    = 2\n",
        "SCISSORS = 3\n",
        "\n",
        "# set the game's play status to True, which means the game is on\n",
        "play = True\n",
        "\n",
        "# while the game is on\n",
        "while play:\n",
        "  # prompt the user for his choice\n",
        "  user_choice = int(input(\"\"\"\n",
        "  Choose one of the followings:\n",
        "    [1] Rock,\n",
        "    [2] Paper,\n",
        "    [3] Scissors\n",
        "\n",
        "    > \"\"\"))\n",
        "\n",
        "  # randomly generate the computer's choice\n",
        "  computer_choice = random.randint(1,3)\n",
        "\n",
        "  # output computer's choice\n",
        "  # so that user can compare his choice with the computer's\n",
        "  if computer_choice == ROCK:\n",
        "    print(\"Computer chooses Rock\")\n",
        "  elif computer_choice == PAPER:\n",
        "    print(\"Computer chooses Paper\")\n",
        "  else:\n",
        "    print(\"Computer chooses Scissors\")\n",
        "\n",
        "  # compare choices and show outcome\n",
        "  if user_choice == computer_choice:\n",
        "    print(\"It's a draw\")\n",
        "  elif user_choice == ROCK and computer_choice == SCISSORS:\n",
        "    print(\"You win!\")\n",
        "  elif user_choice == PAPER and computer_choice == ROCK:\n",
        "    print(\"You win!\")\n",
        "  elif user_choice == SCISSORS and computer_choice == PAPER:\n",
        "    print(\"You win!\")\n",
        "  else:\n",
        "    print(\"Computer wins\")\n",
        "\n",
        "  # Prompt the user to continue or stop the game\n",
        "  text=input(\"Play again? Y/N:\")\n",
        "\n",
        "  # check is user choice is a yes\n",
        "  if text.upper() !=\"Y\":\n",
        "    play=False # otherwise, set it to false"
      ]
    },
    {
      "cell_type": "markdown",
      "metadata": {
        "id": "wEWsXeHadXCd"
      },
      "source": [
        "### Writing your first Python program\n",
        "> `Hello World!` - press ctrl-enter to run the program"
      ]
    },
    {
      "cell_type": "code",
      "execution_count": null,
      "metadata": {
        "id": "1ukCgTTTdXCe"
      },
      "outputs": [],
      "source": [
        "# get python to say hello to the world\n",
        "print(\"Hello, world!\") # this outputs the message to the console screen\n",
        "# output: Hello, world!"
      ]
    },
    {
      "cell_type": "markdown",
      "metadata": {
        "id": "tvQ06sn7dXCe"
      },
      "source": [
        "### Variables\n",
        "> Session 2 • `Python is awesome!`"
      ]
    },
    {
      "cell_type": "code",
      "execution_count": null,
      "metadata": {
        "id": "9dCuSIaidXCe"
      },
      "outputs": [],
      "source": [
        "# create a variable and store a message, i.e. to bind one or more value to a variable\n",
        "# a variable is a named memory location\n",
        "msg = \"Python is awesome!\" # this assigns (stores) the messsage to the variable 'msg'\n",
        "\n",
        "# print the message\n",
        "print(msg) # then, print the content of 'msg' that contents the message\n",
        "# output: Roll a die!"
      ]
    },
    {
      "cell_type": "code",
      "execution_count": null,
      "metadata": {
        "id": "NYZ4r501Y7E5"
      },
      "outputs": [],
      "source": [
        "# Type this in the python console to check a variable type with type()\n",
        "# To open a console from VS Code, use the short-cut key ctrl+`\n",
        "type(5)\n",
        "type(7.0)\n",
        "type(True) # Warning: type(true) will give an error - capitalisation matters.\n",
        "           # Note: Python is case-sensitive\n",
        "\n",
        "# convert to another type with float(), int() and round()\n",
        "float(5)   # casts the integer 5 as a floating decimal value\n",
        "int(7.3)   # casts 7.3 to an integer value\n",
        "round(7.3) # rounds 7.3 to an integer value\n",
        "\n",
        "# Combine objects [type] with arithmetic operators\n",
        "# Type the following expressions into the python console\n",
        "# The console reads and evaluates each of the expression, but does not\n",
        "#   store the values [yet]\n",
        "3+2                # addition\n",
        "(5+2) * 6-1        # '*' is multiplication - what gets evaluated first?\n",
        "\n",
        "type((5+2) * 6-3)  # prints the type of the evaluation of the expression\n",
        "\n",
        "float((5+2) * 6-3) # casts the the evaluation of the expression to a float\n",
        "int(1/2)           # cast a floating division to an integer\n",
        "\n",
        "5/3                # floating division\n",
        "5//3               # integer division\n",
        "5%3                # mod, returns the remainder of the division\n",
        "5**2               # power\n",
        "\n",
        "# Create a variable via an assignment statement\n",
        "# What this allows us to do is to bind a value to a variable\n",
        "# This binding allows us to stores one or more values, or the evaluation of\n",
        "#   an expression, which is also a value\n",
        "# The expression must always be on the right-hand side of the assignment statement\n",
        "pi     = 355/113           # compute an approximate value of pi\n",
        "radius = 2.5               # initialise the variable, radius, to the value 2.5\n",
        "\n",
        "area          = pi * (radius**2)  # calculate the area of a circle, pi*r^2\n",
        "circumference = pi * (radius * 2) # calculate the circumference of a circle, 2*pi*r"
      ]
    },
    {
      "cell_type": "markdown",
      "metadata": {
        "id": "GmcEuACtY7E5"
      },
      "source": [
        "### Class Exercise\n",
        "In your console, find the `type` of:\n",
        "1. 122333\n",
        "2. 7.99\n",
        "3. 8.0\n",
        "4. True\n",
        "\n",
        "Which of these are allowed in Python?  Type them in the `console` to check.\n",
        "1. x = 6\n",
        "2. 6 = x\n",
        "3. x * y = 3+4\n",
        "4. xy = 3+4\n",
        "\n"
      ]
    },
    {
      "cell_type": "code",
      "execution_count": null,
      "metadata": {
        "id": "jGImLDG-Y7E5"
      },
      "outputs": [],
      "source": [
        "# enter a multiline program directly into the python console\n",
        "multiline_program = '''\n",
        "def greet(name):\n",
        "    print(f\"Hello, {name}!\")\n",
        "\n",
        "greet(\"Alice\")\n",
        "'''\n",
        "\n",
        "exec(multiline_program)\n",
        "# Output: Hello, Alice!"
      ]
    },
    {
      "cell_type": "markdown",
      "metadata": {
        "id": "N7nfPkCGdXCe"
      },
      "source": [
        "### Random number generation\n",
        "* Let's add the `numpy` library package, which will give us the ability to *generate a `random` number*"
      ]
    },
    {
      "cell_type": "code",
      "execution_count": null,
      "metadata": {
        "id": "y0fL957ydXCe"
      },
      "outputs": [],
      "source": [
        "# import a library containing a random number generator\n",
        "import numpy as np\n",
        "\n",
        "msg = \"Roll a die...\"\n",
        "print(msg)\n",
        "\n",
        "# generate a number between 1 and 6\n",
        "print('Die:', np.random.randint(1,6))\n",
        "\n",
        "\"\"\"\n",
        "Output:\n",
        "Roll a die...\n",
        "Die: 3\n",
        "\"\"\""
      ]
    },
    {
      "cell_type": "markdown",
      "metadata": {
        "id": "hm9MBfa_dXCe",
        "notebookRunGroups": {
          "groupValue": "1"
        }
      },
      "source": [
        "### Week 2\n",
        "> Class `Activities`\n",
        "> * Try out each example below\n",
        "> * We will look at them more closely in class"
      ]
    },
    {
      "cell_type": "code",
      "execution_count": null,
      "metadata": {
        "id": "vq3HRibGdXCe",
        "notebookRunGroups": {
          "groupValue": "2"
        }
      },
      "outputs": [],
      "source": [
        "# print a message\n",
        "print(\"Hello, I am a Python programmer.\\nThis is program number: 1\")\n",
        "# prints a multi-line message verbatim\n",
        "print(\"\"\"\n",
        "Hello, I am a Python programmer.\n",
        "This is program number: 1\n",
        "\"\"\")\n",
        "'''\n",
        "Output:\n",
        "Hello, I am a Python programmer.\n",
        "This is program number: 1\n",
        "\n",
        "Hello, I am a Python programmer.\n",
        "This is program number: 1\n",
        "'''"
      ]
    },
    {
      "cell_type": "code",
      "execution_count": null,
      "metadata": {
        "id": "_5wNdCD7dXCe"
      },
      "outputs": [],
      "source": [
        "# print can also output several parts, replacing each comma with a space\n",
        "print(\"Hello, I am a Python programmer.\", \"This is program number:\", 1)\n",
        "# Output: Hello, I am a Python programmer. This is program number: 1"
      ]
    },
    {
      "cell_type": "code",
      "execution_count": null,
      "metadata": {
        "id": "VpmEdmXtdXCe"
      },
      "outputs": [],
      "source": [
        "# get a name from the user\n",
        "name = input(\"Enter a name: \") # keeyong\n",
        "print('Your name is', name)\n",
        "# Output: Your name is Keeyong"
      ]
    },
    {
      "cell_type": "code",
      "execution_count": null,
      "metadata": {
        "id": "fsryHzChdXCe"
      },
      "outputs": [],
      "source": [
        "# get a number from the user\n",
        "number = input('Enter your lucky number: ') # 7\n",
        "print('Your number is', number)\n",
        "# Output: Your number is 7"
      ]
    },
    {
      "cell_type": "code",
      "source": [
        "# prompt the user for country of origin\n",
        "country     = input('Which country do you come from: ')\n",
        "# prompt the user for the current date\n",
        "date        = input(f'Enter a date (mm-dd-yy) in {country}: ')\n",
        "temperature = input('What is the average temperature in your country (°C): ')\n",
        "\n",
        "# output user data\n",
        "print() # print a new line\n",
        "print (f'It is {temperature}°C on {date} in {country}')"
      ],
      "metadata": {
        "id": "27xVfuoqz5PZ"
      },
      "execution_count": null,
      "outputs": []
    },
    {
      "cell_type": "code",
      "execution_count": null,
      "metadata": {
        "id": "3SVVOfGhdXCe"
      },
      "outputs": [],
      "source": [
        "# get firstname, lastname and student ID\n",
        "firstinitial = input('Enter firstinitial: ') # ky\n",
        "lastinitial  = input('Enter lastinitial: ')  # l\n",
        "studentID    = input('Enter student ID: ')   # 123567\n",
        "\n",
        "# combine and output the initials and ID as a username\n",
        "print('Your username:', firstinitial + lastinitial + studentID)\n",
        "# Sample output: Your username: ky123567"
      ]
    },
    {
      "cell_type": "markdown",
      "source": [
        "### Examples of `str()` and `f-string`"
      ],
      "metadata": {
        "id": "aGcJl4AnVHHq"
      }
    },
    {
      "cell_type": "code",
      "execution_count": null,
      "metadata": {
        "id": "oV6c_jeGdXCe"
      },
      "outputs": [],
      "source": [
        "# convert a number explicitly using str() before printing it to the screen\n",
        "pi     = 3.14159\n",
        "pi_str = str(pi)\n",
        "# pi_str = str(f'{pi:.3f}') # round to 3 decimal place\n",
        "\n",
        "print(f\"Float as string: {pi_str}\")\n",
        "# Output: Float as string: 3.14159"
      ]
    },
    {
      "cell_type": "code",
      "execution_count": null,
      "metadata": {
        "id": "M8K7gTWEdXCf"
      },
      "outputs": [],
      "source": [
        "# convert a boolean value to a string\n",
        "is_true     = True\n",
        "is_true_str = str(is_true)\n",
        "\n",
        "print(f\"Boolean as string: {is_true_str}\")\n",
        "# Output: Boolean as string: True"
      ]
    },
    {
      "cell_type": "code",
      "execution_count": null,
      "metadata": {
        "id": "LQZupfhddXCf"
      },
      "outputs": [],
      "source": [
        "# convert a list into a string\n",
        "my_list  = [1, 2, 3]\n",
        "list_str = str(my_list) # explicitly convert the list to a string\n",
        "print(f\"List as string: {list_str}\")\n",
        "# Output: List as string: [1, 2, 3]"
      ]
    },
    {
      "cell_type": "code",
      "execution_count": null,
      "metadata": {
        "id": "G1xmxe3odXCf"
      },
      "outputs": [],
      "source": [
        "# convert a tuple into a string\n",
        "my_tuple  = (4, 5, 6)\n",
        "tuple_str = str(my_tuple) # explicitly convert the tuple to a string\n",
        "print(f\"Tuple as string: {tuple_str}\")\n",
        "# Output: Tuple as string: (4, 5, 6)"
      ]
    },
    {
      "cell_type": "code",
      "execution_count": null,
      "metadata": {
        "id": "o5x5bj9WdXCf"
      },
      "outputs": [],
      "source": [
        "name = \"Alice\"\n",
        "age  = 30\n",
        "print(f\"My name is {name} and I am {age} years old.\")\n",
        "# Output: \"My name is Alice and I am 30 years old.\""
      ]
    },
    {
      "cell_type": "code",
      "execution_count": null,
      "metadata": {
        "id": "iYlL9Z7FdXCf"
      },
      "outputs": [],
      "source": [
        "x = 10\n",
        "y = 20\n",
        "print(f\"The sum of {x} and {y} is {x + y}.\")\n",
        "# Output: \"The sum of 10 and 20 is 30.\""
      ]
    },
    {
      "cell_type": "code",
      "execution_count": null,
      "metadata": {
        "id": "1cK1GGUBdXCf"
      },
      "outputs": [],
      "source": [
        "pi = 3.14159\n",
        "print(f\"Value of pi (rounded to 2 decimal places): {pi:.2f}\")\n",
        "# Output: \"Value of pi (rounded to 2 decimal places): 3.14\""
      ]
    },
    {
      "cell_type": "code",
      "execution_count": null,
      "metadata": {
        "id": "CwoQTW-OdXCf"
      },
      "outputs": [],
      "source": [
        "radius = 5\n",
        "area   = pi * radius ** 2\n",
        "print(f\"Area of a circle with radius {radius} is {area:.2f}.\")\n",
        "# Output: \"Area of a circle with radius 5 is 78.54.\""
      ]
    },
    {
      "cell_type": "code",
      "execution_count": null,
      "metadata": {
        "id": "40uvnYh7dXCf"
      },
      "outputs": [],
      "source": [
        "multiline_str = f\"\"\"\n",
        "Hello,\n",
        "My name is {name}.\n",
        "I am {age} years old.\n",
        "\"\"\"\n",
        "print(multiline_str)\n",
        "# Output:\n",
        "# Hello,\n",
        "# My name is Alice.\n",
        "# I am 30 years old."
      ]
    },
    {
      "cell_type": "markdown",
      "metadata": {
        "id": "kSeQt332OQqs"
      },
      "source": [
        "### You try it!\n",
        "> What's the value of `s1` and `s2`?\n",
        ">> Enter the following expressions into a `python console`:\n",
        "\n",
        "> * b = \":\"\n",
        "> * c = \")\"\n",
        "> * s1 = b + 2*c\n",
        "\n",
        "> * f = \"a\"\n",
        "> * g = \" b\"\n",
        "> * h = \"3\"\n",
        "> * s2 = (f+g) * int(h)\n",
        "\n",
        "Note: You can also `visualise` this code in [Python Tutor](https://pythontutor.com)"
      ]
    },
    {
      "cell_type": "markdown",
      "metadata": {
        "id": "iQeLx8UUY7E7"
      },
      "source": [
        "### Class Exercise 1 Part 1\n",
        "> Write a program to ask a user to input\n",
        "* the `number of hours` worked each day from Monday to Friday\n",
        "* Then calculate the `total number of hours` worked in the `first` week"
      ]
    },
    {
      "cell_type": "code",
      "execution_count": null,
      "metadata": {
        "id": "MD4iunu3Y7E7"
      },
      "outputs": [],
      "source": [
        "# A program that allows a user to enter the work hours\n",
        "# for each day of the first week and calculates and print\n",
        "# the total number of hours worked.\n",
        "\n",
        "# Prompt the user for hours worked for each weekday\n",
        "mon_hours_worked = int(input(\"Hours worked for Monday: \"))\n",
        "tue_hours_worked = int(input(\"Hours worked for Tuesday: \"))\n",
        "wed_hours_worked = int(input(\"Hours worked for Wednesday: \"))\n",
        "thu_hours_worked = int(input(\"Hours worked for Thursday: \"))\n",
        "fri_hours_worked = int(input(\"Hours worked for Friday: \"))\n",
        "\n",
        "# calculates the sum of hours worked for each weekday\n",
        "# Note:break upa statement into multiple lines:\n",
        "# > By using a backslash (\\) at the end of a line to continue on the next line\n",
        "total_hours_week1 = \\\n",
        "    mon_hours_worked + \\\n",
        "    tue_hours_worked + \\\n",
        "    wed_hours_worked + \\\n",
        "    thu_hours_worked + \\\n",
        "    fri_hours_worked\n",
        "\n",
        "# prints the total numbers worked per week\n",
        "print (f\"You worked {total_hours_week1} hours in week 1\")"
      ]
    },
    {
      "cell_type": "markdown",
      "metadata": {
        "id": "qTsor7pSY7E7"
      },
      "source": [
        "### Class Exercise 1 Part 2\n",
        "> Write a program to prompts a user to input\n",
        "* the `number of hours` worked each day from Monday to Friday for both week 1 and 2\n",
        "* Then, calculate the `total number of hours` worked in each week\n",
        "* `Bonus:` Finally, determine the `difference in the number of hours worked` between week 2 and week 1, `indicating` whether they worked more or fewer hours in week2."
      ]
    },
    {
      "cell_type": "code",
      "execution_count": null,
      "metadata": {
        "id": "4tArprIHY7E7"
      },
      "outputs": [],
      "source": [
        "# A program that allows a user to enter the work hours\n",
        "# for each day of the second week and calculates and print\n",
        "# the total number of hours worked in week1 and week2.\n",
        "# Finally, it calculates and prints the difference in hours\n",
        "# of week 2 from week 1.\n",
        "# Bonus: If the value is negative, it prints \"You worked less hours in week 2\"\n",
        "# else it prints \"You worked more hours in week 2\"\n",
        "\n",
        "'''\n",
        "Week 1 work hours\n",
        "'''\n",
        "print(\"Enter week 1 data...\")\n",
        "# Prompt the user for hours worked for each weekday in week 1\n",
        "mon_hours_worked = int(input(\"Hours worked for Monday: \"))\n",
        "tue_hours_worked = int(input(\"Hours worked for Tuesday: \"))\n",
        "wed_hours_worked = int(input(\"Hours worked for Wednesday: \"))\n",
        "thu_hours_worked = int(input(\"Hours worked for Thursday: \"))\n",
        "fri_hours_worked = int(input(\"Hours worked for Friday: \"))\n",
        "\n",
        "# calculates the sum of hours worked for each weekday in week 1\n",
        "# Note: break up a statement into multiple lines:\n",
        "# By using a backslash (\\) at the end of a line to continue on the next line\n",
        "total_hours_week1 =    \\\n",
        "    mon_hours_worked + \\\n",
        "    tue_hours_worked + \\\n",
        "    wed_hours_worked + \\\n",
        "    thu_hours_worked + \\\n",
        "    fri_hours_worked\n",
        "\n",
        "# total hours worked in the first week\n",
        "print (f\"You worked {total_hours_week1} hours in week 1\")\n",
        "print()\n",
        "\n",
        "'''\n",
        "Week 2 work hours\n",
        "'''\n",
        "print(\"Enter week 2 data...\")\n",
        "# Prompt the user for hours worked for each weekday in week 2\n",
        "mon_hours_worked = int(input(\"Hours worked for Monday: \"))\n",
        "tue_hours_worked = int(input(\"Hours worked for Tuesday: \"))\n",
        "wed_hours_worked = int(input(\"Hours worked for Wednesday: \"))\n",
        "thu_hours_worked = int(input(\"Hours worked for Thursday: \"))\n",
        "fri_hours_worked = int(input(\"Hours worked for Friday: \"))\n",
        "\n",
        "# calculates the sum of hours worked for each weekday in week 2\n",
        "# Note:break up a statement into multiple lines:\n",
        "# By using a backslash (\\) at the end of a line to continue on the next line\n",
        "total_hours_week2 =    \\\n",
        "    mon_hours_worked + \\\n",
        "    tue_hours_worked + \\\n",
        "    wed_hours_worked + \\\n",
        "    thu_hours_worked + \\\n",
        "    fri_hours_worked\n",
        "\n",
        "# calculate the difference of week2 from week1\n",
        "diff_hours = total_hours_week2 - total_hours_week1\n",
        "\n",
        "# total hours worked in the second week\n",
        "print(f\"You worked {total_hours_week2} hours in week 2\")\n",
        "\n",
        "# prints the difference of hours worked in week 2 from week 1\n",
        "# abs() returns the absolute value of a number\n",
        "print()\n",
        "print(f\"The difference of week 2 hours from week 1 is {diff_hours} hours\")\n",
        "print(f\"You worked {abs(diff_hours)} less hours in week 2\" if diff_hours < 0 else \\\n",
        "      f\"You worked {abs(diff_hours)} more hours in week 2\")"
      ]
    },
    {
      "cell_type": "markdown",
      "metadata": {
        "id": "IMu4RI8tY7E7"
      },
      "source": [
        "### `Comparison` operators\n",
        "> We use these operators to build expressions that evaluates to a `boolean value`:\n",
        "* `True`\n",
        "* `False`"
      ]
    },
    {
      "cell_type": "code",
      "execution_count": null,
      "metadata": {
        "id": "-o-f0AdGY7E7"
      },
      "outputs": [],
      "source": [
        "# comparison operators\n",
        "# test out the following expressions in a python console\n",
        "x = 10\n",
        "y = 3\n",
        "\n",
        "# two equality operators\n",
        "x == y # equal\n",
        "x != y # not equal\n",
        "\n",
        "# 4 inequality operators\n",
        "x < y  # less than\n",
        "x > y  # greater than\n",
        "x <= y # less than or equal to\n",
        "x >= y # greater than or equal to"
      ]
    },
    {
      "cell_type": "markdown",
      "metadata": {
        "id": "fzsH3lRBY7E7"
      },
      "source": [
        "### `Logical` operators\n",
        "> `and`, `or`, `not`"
      ]
    },
    {
      "cell_type": "code",
      "execution_count": null,
      "metadata": {
        "id": "lJHiDDujY7E7"
      },
      "outputs": [],
      "source": [
        "# logical operators: and, or, not\n",
        "a = True\n",
        "b = True\n",
        "\n",
        "# truth table for and\n",
        "title = \"AND Truth Table\"\n",
        "print(title)\n",
        "print(\"-\" * len(title))\n",
        "print(f\"|a and b         | {a and b}\")\n",
        "print(f\"|a and not b     | {a and not b}\")\n",
        "print(f\"|not a and b     | {not a and b}\")\n",
        "print(f\"|not a and not b | {not a and not b}\")\n",
        "print()\n",
        "\n",
        "# truth table for or\n",
        "title = \"OR Truth Table\"\n",
        "print(title)\n",
        "print(\"-\" * len(title))\n",
        "print(f\"|a or b         | {a or b}\")\n",
        "print(f\"|a or not b     | {a or not b}\")\n",
        "print(f\"|not a or b     | {not a or b}\")\n",
        "print(f\"|not a or not b | {not a or not b}\")\n",
        "print()\n",
        "\n",
        "# truth table for not\n",
        "title = \"NOT Truth Table\"\n",
        "print(title)\n",
        "print(\"-\" * len(title))\n",
        "print(f\"|not a | {not a}\")\n",
        "print(f\"|not b | {not b}\")"
      ]
    },
    {
      "cell_type": "markdown",
      "metadata": {
        "id": "n2UwFNwIY7FC"
      },
      "source": [
        "### `Assignment` Operators\n",
        "> `bind a value` to a variable\n",
        "* `atomic` operators can `perform an operation` and `assignment` in a single step"
      ]
    },
    {
      "cell_type": "code",
      "execution_count": null,
      "metadata": {
        "id": "jYs5d5VkY7FC"
      },
      "outputs": [],
      "source": [
        "# Assignment operators\n",
        "\n",
        "# =\n",
        "x = 15\n",
        "print(f\"x = {x}\")\n",
        "\n",
        "# +=\n",
        "x += 2\n",
        "print(f\"x += 2 = {x}\")\n",
        "\n",
        "# -=\n",
        "x -= 2\n",
        "print(f\"x -= 2 = {x}\")\n",
        "\n",
        "# *=\n",
        "x *= 2\n",
        "print(f\"x *= 2 = {x}\")\n",
        "\n",
        "# /=\n",
        "x /= 2\n",
        "print(f\"x /= 2 = {x}\")\n",
        "\n",
        "# %=\n",
        "x %= 2\n",
        "print(f\"x %= 2 = {x}\")\n",
        "\n",
        "# //=\n",
        "x = 102\n",
        "x //= 10\n",
        "print(f\"x //= 11 = {x}\")\n",
        "\n",
        "# **=\n",
        "x **= 2\n",
        "print(f\"x **= 2 = {x}\")"
      ]
    },
    {
      "cell_type": "markdown",
      "metadata": {
        "id": "Wy1eJgNIY7FD"
      },
      "source": [
        "### `Membership` operators\n",
        "> * `in` (membership)\n",
        "> * `not in` (not in membership)"
      ]
    },
    {
      "cell_type": "code",
      "execution_count": null,
      "metadata": {
        "id": "d-zuCVdFY7FD"
      },
      "outputs": [],
      "source": [
        "# list\n",
        "myList = [1, 2, 3, 4, 5]\n",
        "\n",
        "#  test\n",
        "print(\"Is 2 in my list?\", \"Yes\" if 2 in myList else \"No\")\n",
        "print(\"Is 6 in my list?\", \"Yes\" if 6 in myList else \"No\")\n",
        "print(\"Is 7 in my list?\", \"No\"  if 7 not in myList else \"Yes\")"
      ]
    },
    {
      "cell_type": "markdown",
      "metadata": {
        "id": "LowfjYODY7FD"
      },
      "source": [
        "### `Identity` operators\n",
        "> * `is` (identity)\n",
        "> * `is not` (not identity)"
      ]
    },
    {
      "cell_type": "code",
      "execution_count": null,
      "metadata": {
        "id": "VVzTSurDY7FD"
      },
      "outputs": [],
      "source": [
        "# list\n",
        "myList = [1, 2, 3, 4, 5]\n",
        "a = b = myList\n",
        "c = [5, 6, 7, 8, 9]\n",
        "\n",
        "# test\n",
        "print(\"Is a and b are the same object?\", \"Yes\" if a is b else \"No\")\n",
        "print(\"a is not c?\", \"Yes\" if a is not c else \"No\")"
      ]
    }
  ],
  "metadata": {
    "colab": {
      "provenance": [],
      "include_colab_link": true
    },
    "kernelspec": {
      "display_name": "Python 3 (ipykernel)",
      "language": "python",
      "name": "python3"
    },
    "language_info": {
      "codemirror_mode": {
        "name": "ipython",
        "version": 3
      },
      "file_extension": ".py",
      "mimetype": "text/x-python",
      "name": "python",
      "nbconvert_exporter": "python",
      "pygments_lexer": "ipython3",
      "version": "3.11.7"
    }
  },
  "nbformat": 4,
  "nbformat_minor": 0
}