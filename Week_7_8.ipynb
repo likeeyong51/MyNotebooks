{
  "nbformat": 4,
  "nbformat_minor": 0,
  "metadata": {
    "colab": {
      "provenance": [],
      "authorship_tag": "ABX9TyOHYXTMhMQ0HHWK6/w0+6Dv",
      "include_colab_link": true
    },
    "kernelspec": {
      "name": "python3",
      "display_name": "Python 3"
    },
    "language_info": {
      "name": "python"
    }
  },
  "cells": [
    {
      "cell_type": "markdown",
      "metadata": {
        "id": "view-in-github",
        "colab_type": "text"
      },
      "source": [
        "<a href=\"https://colab.research.google.com/github/likeeyong51/MyNotebooks/blob/main/Week_7_8.ipynb\" target=\"_parent\"><img src=\"https://colab.research.google.com/assets/colab-badge.svg\" alt=\"Open In Colab\"/></a>"
      ]
    },
    {
      "cell_type": "markdown",
      "source": [
        "# Week `7`-`8`\n",
        "* Branching with `iteration` and `abstraction`\n",
        "  * `while (conditional)`\n",
        "  * `for   (fixed-number)`\n",
        "\n",
        "\n",
        "\n",
        "---\n",
        "\n"
      ],
      "metadata": {
        "id": "vbpMSIN7OA0N"
      }
    },
    {
      "cell_type": "markdown",
      "source": [
        "### Example `1`\n",
        "Develop an algorithm to represent the process of washing hair.\n",
        "\n",
        "<div>\n",
        "  <img src=\"https://drive.google.com/uc?export=view&id=1uXpJB3J1QklYS4Qr4iQQ_pjy0R58NJWa\" width=\"35%\" alt=\"\" />\n",
        "</div>"
      ],
      "metadata": {
        "id": "-jjNjxDmPFjd"
      }
    },
    {
      "cell_type": "markdown",
      "source": [
        "### Example `2`\n",
        "Develop an algorithm to represent using an elevator to get to the 3rd floor in building LA.  Assume you are on the first floor.\n",
        "\n",
        "<div>\n",
        "  <img src=\"https://drive.google.com/uc?export=view&id=12qV6SB6y4DYaN0Qi6UWrhM1Kzx8fxe-a\" width=\"50%\" alt=\"\" />\n",
        "</div>"
      ],
      "metadata": {
        "id": "G44Oj9YIPuzK"
      }
    },
    {
      "cell_type": "markdown",
      "source": [
        "### Activity `1`\n",
        "Develop an algorithm to print 1 to 5. Then, display the message “done!” at the end of the program.\n",
        "\n",
        "<div>\n",
        "  <img src=\"https://drive.google.com/uc?export=view&id=1leuuyEFywp9hX7vQvqOPidvKQrGI6P9O\" width=\"35%\" alt=\"\" />\n",
        "</div>\n",
        "\n",
        "---\n",
        "```\n",
        "// **Pre**-conditional iterations\n",
        "// version: For (fixed-number loop)\n",
        "```\n",
        "`START`\n",
        "\n",
        "    // write your algorithm here\n",
        "    FOR counter = 1 TO 5\n",
        "      DISPLAY counter\n",
        "    NEXT counter\n",
        "\n",
        "    DISPLAY “done!”\n",
        "\n",
        "`END`\n",
        "\n",
        "// version: While (conditional loop)\n",
        "`START`\n",
        "\n",
        "    // write your algorithm here\n",
        "    counter = 1\n",
        "    WHILE counter <= 5\n",
        "      DISPLAY counter\n",
        "      counter = counter + 1\n",
        "    ENDWHILE\n",
        "\n",
        "    DISPLAY “done!”\n",
        "\n",
        "`END`\n",
        "\n",
        "---\n",
        "```\n",
        "// **Post**-conditional iterations\n",
        "// version: repeat..until\n",
        "```\n",
        "`START`\n",
        "\n",
        "    // write your algorithm here\n",
        "    counter = 1\n",
        "    WHILE True\n",
        "      DISPLAY counter\n",
        "      counter = counter + 1\n",
        "\n",
        "      IF counter > 5:\n",
        "        EXIT_LOOP\n",
        "    ENDWHILE\n",
        "\n",
        "    DISPLAY “done!”\n",
        "\n",
        "`END`\n",
        "\n",
        "// version: do..while\n",
        "`START`\n",
        "\n",
        "    // write your algorithm here\n",
        "    counter = 1\n",
        "    WHILE True\n",
        "      DISPLAY counter\n",
        "      counter = counter + 1\n",
        "\n",
        "      IF counter <= 5:\n",
        "        CONTINUE\n",
        "      \n",
        "      DISPLAY “done!”\n",
        "      EXIT_LOOP\n",
        "    ENDWHILE\n",
        "\n",
        "`END`"
      ],
      "metadata": {
        "id": "dN4poSF7QUC9"
      }
    },
    {
      "cell_type": "code",
      "source": [
        "# print 1 to 5\n",
        "\n",
        "# Pre-conditional iterations\n",
        "# version: for\n",
        "\n",
        "# for i in [1, 2, 3, 4, 5]:\n",
        "#   print(i)\n",
        "\n",
        "# nums = [1, 2, 3, 4, 5]\n",
        "# for i in nums:\n",
        "#   print(i)\n",
        "\n",
        "# for i in range(1, 6):\n",
        "#   print(i)\n",
        "\n",
        "#version: while\n",
        "# i = 1\n",
        "# while i <= 5:\n",
        "#   print(i)\n",
        "#   i += 1\n",
        "\n",
        "# Post-conditional iterations\n",
        "# version: repeat..until\n",
        "# i = 1\n",
        "# while True:\n",
        "#   print(i)\n",
        "#   i += 1\n",
        "\n",
        "#   if i > 5: # exit point\n",
        "#     break\n",
        "\n",
        "#version: do..while\n",
        "i = 1\n",
        "while True:\n",
        "  print(i)\n",
        "  i += 1\n",
        "\n",
        "  if i <= 5:\n",
        "    continue\n",
        "  #else:\n",
        "  print(\"done!\")\n",
        "  break # exit point\n"
      ],
      "metadata": {
        "id": "_ekyZmvYOAEw"
      },
      "execution_count": null,
      "outputs": []
    },
    {
      "cell_type": "markdown",
      "source": [
        "---\n",
        "### Activity `2`\n",
        "Develop an algorithm to print 1 to 10. Then, display the message “done!” at the end of the program.\n",
        "\n",
        "<div>\n",
        "  <img src=\"https://drive.google.com/uc?export=view&id=1xFHm6VCUuX1mrbgJbv92Hiuhz7oBzmNZ\" width=\"35%\" alt=\"\" />\n",
        "</div>\n",
        "\n",
        "\n",
        "`START`\n",
        "\n",
        "    // write your algorithm here\n",
        "\n",
        "`END`"
      ],
      "metadata": {
        "id": "u5DgYWnlQA2y"
      }
    },
    {
      "cell_type": "code",
      "execution_count": null,
      "metadata": {
        "id": "sngPTPfZNqqa"
      },
      "outputs": [],
      "source": [
        "# code here\n"
      ]
    },
    {
      "cell_type": "markdown",
      "source": [
        "### Activity `3`\n",
        "Develop an algorithm to display a header “`10` times table:” and then print the multiples of 10 starting from the 1 to 12.\n",
        "\n",
        "<div>\n",
        "  <img src=\"https://drive.google.com/uc?export=view&id=1Co2IwXSbi9jUmrFT3oU-nPPrJJyZ15Ty\" width=\"35%\" alt=\"\" />\n",
        "</div>\n",
        "\n",
        "`START`\n",
        "\n",
        "    // write your algorithm here\n",
        "\n",
        "`END`\n",
        "\n",
        "---\n",
        "\n",
        "#### `Coding challenge`:\n",
        "\n",
        "  Extend this algorithm to print `all` first twelve Times tables.  `Hint`: use a nested repetition.\n",
        "\n",
        "---"
      ],
      "metadata": {
        "id": "YR5qXD9uQ-AG"
      }
    },
    {
      "cell_type": "code",
      "source": [
        "# code here\n"
      ],
      "metadata": {
        "id": "coCJWzX4-iiA"
      },
      "execution_count": null,
      "outputs": []
    },
    {
      "cell_type": "markdown",
      "source": [
        "### Activity `4`\n",
        "Develop an algorithm to print the first ten even  numbers less than 20.  Include a header, “The first ten even numbers” at the end of the program.\n",
        "\n",
        "<div>\n",
        "  <img src=\"https://drive.google.com/uc?export=view&id=15NpYfWaGo4qakxTaiK4lyk7kNbPyAwZQ\" width=\"35%\" alt=\"\" />\n",
        "</div>\n",
        "\n",
        "`START`\n",
        "\n",
        "    // write your algorithm here\n",
        "\n",
        "`END`"
      ],
      "metadata": {
        "id": "DTL6OEZF98-j"
      }
    },
    {
      "cell_type": "code",
      "source": [
        "# code here\n"
      ],
      "metadata": {
        "id": "FrBzlMRO-jd1"
      },
      "execution_count": null,
      "outputs": []
    },
    {
      "cell_type": "markdown",
      "source": [
        "---\n",
        "### Coding challenge | Holiday homework\n",
        "Develop the algorithm with iteration and code in python the following 2D patterns of nxm dimension. Hint: use nested a loop\n",
        "\n",
        "1. square, where n = m, e.g. n = 3\n",
        "```\n",
        "    * * *\n",
        "    * * *\n",
        "    * * *\n",
        "```\n",
        "\n",
        "2. rectangle, where n != m, e.g. n = 3, m = 5\n",
        "```\n",
        "    * * * * *\n",
        "    * * * * *\n",
        "    * * * * *\n",
        "```\n",
        "3. triangle, where n = m, n = 3\n",
        "```\n",
        "    *\n",
        "    * *\n",
        "    * * *\n",
        "```\n",
        "4. inverted triangle, where n = m, n = 3\n",
        "```\n",
        "    * * *\n",
        "    * *\n",
        "    *\n",
        "```\n",
        "5. flipped triangle, where n = m, n = 3\n",
        "```\n",
        "        *\n",
        "      * *\n",
        "    * * *\n",
        "```\n",
        "6. flipped inverted triangle, where n = m, n = 3\n",
        "```\n",
        "    * * *\n",
        "      * *\n",
        "        *\n",
        "```\n",
        "7. isoceles triangle, where n = m, n = 3\n",
        "```\n",
        "      *\n",
        "     * *\n",
        "    * * *\n",
        "```\n",
        "\n",
        "\n",
        "\n",
        "\n"
      ],
      "metadata": {
        "id": "EOVvyvF7QaI2"
      }
    },
    {
      "cell_type": "markdown",
      "source": [
        "---\n",
        "## Week `8` | Anvil.works\n",
        "* Complete your\n",
        "  * hurdle task `4`\n",
        "  * tutorial exercises on Anvil this week | user authentication\n",
        "      * Please refer to the instructions provided in the weekly slides  "
      ],
      "metadata": {
        "id": "dXY-txYc_Ec5"
      }
    }
  ]
}