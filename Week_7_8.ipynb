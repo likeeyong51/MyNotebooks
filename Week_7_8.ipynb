{
  "nbformat": 4,
  "nbformat_minor": 0,
  "metadata": {
    "colab": {
      "provenance": [],
      "authorship_tag": "ABX9TyOQeCOVwaq62gq9ctQcI0PU",
      "include_colab_link": true
    },
    "kernelspec": {
      "name": "python3",
      "display_name": "Python 3"
    },
    "language_info": {
      "name": "python"
    }
  },
  "cells": [
    {
      "cell_type": "markdown",
      "metadata": {
        "id": "view-in-github",
        "colab_type": "text"
      },
      "source": [
        "<a href=\"https://colab.research.google.com/github/likeeyong51/MyNotebooks/blob/main/Week_7_8.ipynb\" target=\"_parent\"><img src=\"https://colab.research.google.com/assets/colab-badge.svg\" alt=\"Open In Colab\"/></a>"
      ]
    },
    {
      "cell_type": "markdown",
      "source": [
        "## Week `7`-`8`\n",
        "* Branching with `iteration` and `abstraction`\n",
        "  * `while (conditional)`\n",
        "  * `for   (fixed-number)`\n",
        "\n",
        "\n",
        "\n",
        "---\n",
        "\n"
      ],
      "metadata": {
        "id": "vbpMSIN7OA0N"
      }
    },
    {
      "cell_type": "markdown",
      "source": [
        "### Example `1`\n",
        "Develop an algorithm to represent the process of washing hair.\n",
        "\n",
        "<div>\n",
        "  <img src=\"https://drive.google.com/uc?export=view&id=1uXpJB3J1QklYS4Qr4iQQ_pjy0R58NJWa\" width=\"35%\" alt=\"\" />\n",
        "</div>"
      ],
      "metadata": {
        "id": "-jjNjxDmPFjd"
      }
    },
    {
      "cell_type": "markdown",
      "source": [
        "### Example `2`\n",
        "Develop an algorithm to represent using an elevator to get to the 3rd floor in building LA.  Assume you are on the first floor.\n",
        "\n",
        "<div>\n",
        "  <img src=\"https://drive.google.com/uc?export=view&id=12qV6SB6y4DYaN0Qi6UWrhM1Kzx8fxe-a\" width=\"50%\" alt=\"\" />\n",
        "</div>"
      ],
      "metadata": {
        "id": "G44Oj9YIPuzK"
      }
    },
    {
      "cell_type": "markdown",
      "source": [
        "### Activity `1`\n",
        "Develop an algorithm to print 1 to 5. Then, display the message “done!” at the end of the program.\n",
        "\n",
        "<div>\n",
        "  <img src=\"https://drive.google.com/uc?export=view&id=1leuuyEFywp9hX7vQvqOPidvKQrGI6P9O\" width=\"35%\" alt=\"\" />\n",
        "</div>\n",
        "\n",
        "---\n",
        "```\n",
        "// **Pre**-conditional iterations\n",
        "// version: For (fixed-number loop)\n",
        "```\n",
        "`START`\n",
        "\n",
        "    // write your algorithm here\n",
        "    FOR counter = 1 TO 5\n",
        "      DISPLAY counter\n",
        "    NEXT counter\n",
        "\n",
        "    DISPLAY “done!”\n",
        "\n",
        "`STOP`\n",
        "\n",
        "// version: While (conditional loop)\n",
        "`START`\n",
        "\n",
        "    // write your algorithm here\n",
        "    counter = 1\n",
        "    WHILE counter <= 5\n",
        "      DISPLAY counter\n",
        "      counter = counter + 1\n",
        "    ENDWHILE\n",
        "\n",
        "    DISPLAY “done!”\n",
        "\n",
        "`STOP`\n",
        "\n",
        "---\n",
        "```\n",
        "// **Post**-conditional iterations\n",
        "// version: repeat..until\n",
        "```\n",
        "`START`\n",
        "\n",
        "    // write your algorithm here\n",
        "    counter = 1\n",
        "    WHILE True\n",
        "      DISPLAY counter\n",
        "      counter = counter + 1\n",
        "\n",
        "      IF counter > 5:\n",
        "        EXIT_LOOP\n",
        "    ENDWHILE\n",
        "\n",
        "    DISPLAY “done!”\n",
        "\n",
        "`STOP`\n",
        "\n",
        "// version: do..while\n",
        "`START`\n",
        "\n",
        "    // write your algorithm here\n",
        "    counter = 1\n",
        "    WHILE True\n",
        "      DISPLAY counter\n",
        "      counter = counter + 1\n",
        "\n",
        "      IF counter <= 5:\n",
        "        CONTINUE\n",
        "      \n",
        "      DISPLAY “done!”\n",
        "      EXIT_LOOP\n",
        "    ENDWHILE\n",
        "\n",
        "`STOP`"
      ],
      "metadata": {
        "id": "dN4poSF7QUC9"
      }
    },
    {
      "cell_type": "code",
      "source": [
        "# print 1 to 5\n",
        "\n",
        "# Pre-conditional iterations\n",
        "# version: for\n",
        "\n",
        "# for i in [1, 2, 3, 4, 5]:\n",
        "#   print(i)\n",
        "\n",
        "# nums = [1, 2, 3, 4, 5]\n",
        "# for i in nums:\n",
        "#   print(i)\n",
        "\n",
        "# for i in range(1, 6):\n",
        "#   print(i)\n",
        "\n",
        "# for i in range(5):\n",
        "#   print(i+1)\n",
        "\n",
        "# count backwards from 5 to 1\n",
        "# for i in range(5, 0,-1):\n",
        "#   print(i)\n",
        "\n",
        "#version: while\n",
        "# i = 1\n",
        "# while i <= 5:\n",
        "#   print(i)\n",
        "#   i += 1\n",
        "\n",
        "# Post-conditional iterations\n",
        "# version: repeat..until\n",
        "# i = 1\n",
        "# while True:\n",
        "#   print(i)\n",
        "#   i += 1\n",
        "\n",
        "#   if i > 5: # exit point\n",
        "#     break\n",
        "\n",
        "#version: do..while\n",
        "i = 1\n",
        "while True:\n",
        "  print(i)\n",
        "  i += 1\n",
        "\n",
        "  if i <= 5:\n",
        "    continue\n",
        "  #else:\n",
        "  print(\"done!\")\n",
        "  break # exit point\n"
      ],
      "metadata": {
        "id": "_ekyZmvYOAEw",
        "colab": {
          "base_uri": "https://localhost:8080/"
        },
        "outputId": "548c7e79-6b2e-4c97-c578-1d19c06f7597"
      },
      "execution_count": null,
      "outputs": [
        {
          "output_type": "stream",
          "name": "stdout",
          "text": [
            "5\n",
            "4\n",
            "3\n",
            "2\n",
            "1\n",
            "5\n",
            "4\n",
            "3\n",
            "2\n",
            "1\n"
          ]
        }
      ]
    },
    {
      "cell_type": "markdown",
      "source": [
        "---\n",
        "### Activity `2`\n",
        "Develop an algorithm to print 1 to 10. Then, display the message “done!” at the end of the program.\n",
        "\n",
        "<div>\n",
        "  <img src=\"https://drive.google.com/uc?export=view&id=1xFHm6VCUuX1mrbgJbv92Hiuhz7oBzmNZ\" width=\"35%\" alt=\"\" />\n",
        "</div>\n",
        "\n",
        "\n",
        "`START`\n",
        "\n",
        "    // write your algorithm here\n",
        "\n",
        "`END`"
      ],
      "metadata": {
        "id": "u5DgYWnlQA2y"
      }
    },
    {
      "cell_type": "code",
      "execution_count": null,
      "metadata": {
        "id": "sngPTPfZNqqa"
      },
      "outputs": [],
      "source": [
        "# code here\n"
      ]
    },
    {
      "cell_type": "markdown",
      "source": [
        "### Activity `3`\n",
        "Develop an algorithm to display a header “`10` times table:” and then print the multiples of 10 starting from the 1 to 12.\n",
        "\n",
        "<div>\n",
        "  <img src=\"https://drive.google.com/uc?export=view&id=1Co2IwXSbi9jUmrFT3oU-nPPrJJyZ15Ty\" width=\"35%\" alt=\"\" />\n",
        "</div>\n",
        "\n",
        "`START`\n",
        "\n",
        "    // write your algorithm here\n",
        "\n",
        "`END`\n",
        "\n",
        "---\n",
        "\n",
        "#### `Coding challenge`:\n",
        "\n",
        "  Extend this algorithm to print `all` first twelve Times tables.  `Hint`: use a nested repetition.\n",
        "\n",
        "---"
      ],
      "metadata": {
        "id": "YR5qXD9uQ-AG"
      }
    },
    {
      "cell_type": "code",
      "source": [
        "# code here\n"
      ],
      "metadata": {
        "id": "coCJWzX4-iiA"
      },
      "execution_count": null,
      "outputs": []
    },
    {
      "cell_type": "markdown",
      "source": [
        "### Activity `4`\n",
        "Develop an algorithm to print the first ten even  numbers less than 20.  Include a header, “The first ten even numbers” at the end of the program.\n",
        "\n",
        "<div>\n",
        "  <img src=\"https://drive.google.com/uc?export=view&id=15NpYfWaGo4qakxTaiK4lyk7kNbPyAwZQ\" width=\"35%\" alt=\"\" />\n",
        "</div>\n",
        "\n",
        "`START`\n",
        "\n",
        "    // write your algorithm here\n",
        "\n",
        "`END`"
      ],
      "metadata": {
        "id": "DTL6OEZF98-j"
      }
    },
    {
      "cell_type": "code",
      "source": [
        "# code here\n"
      ],
      "metadata": {
        "id": "FrBzlMRO-jd1"
      },
      "execution_count": null,
      "outputs": []
    },
    {
      "cell_type": "markdown",
      "source": [
        "---\n",
        "### Coding challenge | Holiday homework\n",
        "Develop the algorithm with iteration and code in python the following 2D patterns of nxm dimension. Hint: use nested a loop\n",
        "\n",
        "1. square, where n = m, e.g. n = 3\n",
        "```\n",
        "    * * *\n",
        "    * * *\n",
        "    * * *\n",
        "```\n",
        "\n",
        "2. rectangle, where n != m, e.g. n = 3, m = 5\n",
        "```\n",
        "    * * * * *\n",
        "    * * * * *\n",
        "    * * * * *\n",
        "```\n",
        "3. triangle, where n = m, n = 3\n",
        "```\n",
        "    *\n",
        "    * *\n",
        "    * * *\n",
        "```\n",
        "4. inverted triangle, where n = m, n = 3\n",
        "```\n",
        "    * * *\n",
        "    * *\n",
        "    *\n",
        "```\n",
        "5. flipped triangle, where n = m, n = 3\n",
        "```\n",
        "        *\n",
        "      * *\n",
        "    * * *\n",
        "```\n",
        "6. flipped inverted triangle, where n = m, n = 3\n",
        "```\n",
        "    * * *\n",
        "      * *\n",
        "        *\n",
        "```\n",
        "7. isoceles triangle, where n = m, n = 3\n",
        "```\n",
        "      *\n",
        "     * *\n",
        "    * * *\n",
        "```\n",
        "\n",
        "\n",
        "\n",
        "\n"
      ],
      "metadata": {
        "id": "EOVvyvF7QaI2"
      }
    },
    {
      "cell_type": "code",
      "source": [
        "# dimensions of the shape\n",
        "n = 5\n",
        "m = 5\n",
        "\n",
        "# 1. print a square\n",
        "# version 1\n",
        "print(\"A square, version 1:\")\n",
        "for row in range(n):\n",
        "  # print a row of stars\n",
        "  for col in range(m):\n",
        "    print(\"*\", end=\" \")\n",
        "\n",
        "  # next step: go to a new line\n",
        "  print()\n",
        "\n",
        "# version 2\n",
        "for row in range(n):\n",
        "  # print a row of stars of m columns\n",
        "  print(\"* \" * m)\n",
        "\n",
        "print()\n",
        "\n",
        "# 2. print a rectangle\n",
        "m = 7\n",
        "\n",
        "for row in range(n):\n",
        "  # print a row of stars\n",
        "  for col in range(m):\n",
        "    print(\"*\", end=\" \")\n",
        "\n",
        "# 3. print a right-angled triangle\n",
        "for row in range(n):\n",
        "  # print a row of stars\n",
        "  for col in range(row+1):\n",
        "    print(\"*\", end=\" \")\n",
        "\n",
        "  # next step: go to a new line\n",
        "  print()\n",
        "\n",
        "print()\n",
        "\n",
        "# 4. an inverted triangle\n",
        "# version 1\n",
        "for row in range(n):\n",
        "  # print a row of stars\n",
        "  for col in range(n-row):\n",
        "    print(\"*\", end=\" \")\n",
        "\n",
        "  # next step: go to a new line\n",
        "  print()\n",
        "\n",
        "print()\n",
        "\n",
        "# version 2\n",
        "for row in range(n, 0, -1):\n",
        "  # print a row of stars\n",
        "  for col in range(row):\n",
        "    print(\"*\", end=\" \")\n",
        "\n",
        "  # next step: go to a new line\n",
        "  print()\n",
        "\n",
        "print()\n",
        "\n",
        "# 5. a flipped triangle\n",
        "for row in range(1, n+1):\n",
        "  # print a row of blanks\n",
        "  for col in range(n-row):\n",
        "    print(\" \", end=\" \")\n",
        "\n",
        "  # print a row of stars\n",
        "  for col in range(row):\n",
        "    print(\"*\", end=\" \")\n",
        "\n",
        "  # next step: go to a new line\n",
        "  print()\n",
        "\n",
        "print()\n",
        "\n",
        "# 6. a flipped inverted triangle\n",
        "for row in range(n):\n",
        "  # print a row of blacks\n",
        "  for col in range(row):\n",
        "    print(\" \", end=\" \")\n",
        "  # print a row of stars\n",
        "  for col in range(n-row):\n",
        "    print(\"*\", end=\" \")\n",
        "\n",
        "  # next step: go to a new line\n",
        "  print()\n",
        "\n",
        "# 7. an isosceles triangle\n",
        "for row in range(1, n+1):\n",
        "  # print a row of blanks\n",
        "  for col in range(n-row):\n",
        "    print(\" \", end=\"\")\n",
        "\n",
        "  # print a row of stars\n",
        "  for col in range(row):\n",
        "    print(\"*\", end=\" \")\n",
        "\n",
        "  # next step: go to a new line\n",
        "  print()"
      ],
      "metadata": {
        "id": "GBBfggnJpmuy"
      },
      "execution_count": null,
      "outputs": []
    },
    {
      "cell_type": "markdown",
      "source": [
        "---\n",
        "###`Recap` exercise\n",
        "Modify the following program to use iteration structure instead:\n",
        "\n",
        "\n",
        "```\n",
        "# A program that allows a user to enter the work hours\n",
        "# for each day of the second week and calculates and print\n",
        "# the total number of hours worked in week1 and week2.\n",
        "# Finally, it calculates and prints the difference in hours\n",
        "# of week 2 from week 1.\n",
        "# Bonus: If the value is negative, it prints \"You worked less hours in week 2\"\n",
        "# else it prints \"You worked more hours in week 2\"\n",
        "\n",
        "'''\n",
        "Week 1 work hours\n",
        "'''\n",
        "print(\"Enter week 1 data...\")\n",
        "# Prompt the user for hours worked for each weekday in week 1\n",
        "mon_hours_worked = int(input(\"Hours worked for Monday: \"))\n",
        "tue_hours_worked = int(input(\"Hours worked for Tuesday: \"))\n",
        "wed_hours_worked = int(input(\"Hours worked for Wednesday: \"))\n",
        "thu_hours_worked = int(input(\"Hours worked for Thursday: \"))\n",
        "fri_hours_worked = int(input(\"Hours worked for Friday: \"))\n",
        "\n",
        "# calculates the sum of hours worked for each weekday in week 1\n",
        "# Note: break up a statement into multiple lines:\n",
        "# By using a backslash (\\) at the end of a line to continue on the next line\n",
        "total_hours_week1 =    \\\n",
        "    mon_hours_worked + \\\n",
        "    tue_hours_worked + \\\n",
        "    wed_hours_worked + \\\n",
        "    thu_hours_worked + \\\n",
        "    fri_hours_worked\n",
        "\n",
        "# total hours worked in the first week\n",
        "print (f\"You worked {total_hours_week1} hours in week 1\")\n",
        "print()\n",
        "\n",
        "\n",
        "'''\n",
        "Week 2 work hours\n",
        "'''\n",
        "print(\"Enter week 2 data...\")\n",
        "# Prompt the user for hours worked for each weekday in week 2\n",
        "mon_hours_worked = int(input(\"Hours worked for Monday: \"))\n",
        "tue_hours_worked = int(input(\"Hours worked for Tuesday: \"))\n",
        "wed_hours_worked = int(input(\"Hours worked for Wednesday: \"))\n",
        "thu_hours_worked = int(input(\"Hours worked for Thursday: \"))\n",
        "fri_hours_worked = int(input(\"Hours worked for Friday: \"))\n",
        "\n",
        "# calculates the sum of hours worked for each weekday in week 2\n",
        "# Note:break up a statement into multiple lines:\n",
        "# By using a backslash (\\) at the end of a line to continue on the next line\n",
        "total_hours_week2 =    \\\n",
        "    mon_hours_worked + \\\n",
        "    tue_hours_worked + \\\n",
        "    wed_hours_worked + \\\n",
        "    thu_hours_worked + \\\n",
        "    fri_hours_worked\n",
        "\n",
        "# total hours worked in the second week\n",
        "print(f\"You worked {total_hours_week2} hours in week 2\")\n",
        "\n",
        "# calculate the difference of week2 from week1\n",
        "diff_hours = total_hours_week2 - total_hours_week1\n",
        "\n",
        "# prints the difference of hours worked in week 2 from week 1\n",
        "# abs() returns the absolute value of a number\n",
        "print()\n",
        "print(f\"The difference of week 2 hours from week 1 is {diff_hours} hours\")\n",
        "print(f\"You worked {abs(diff_hours)} less hours in week 2\" if diff_hours < 0 else \\\n",
        "      f\"You worked {abs(diff_hours)} more hours in week 2\")\n",
        "\n",
        "```\n",
        "\n"
      ],
      "metadata": {
        "id": "hAVRcI7iqtSX"
      }
    },
    {
      "cell_type": "code",
      "source": [
        "# place your modified code here"
      ],
      "metadata": {
        "id": "ZAm7yka-OxHm"
      },
      "execution_count": null,
      "outputs": []
    },
    {
      "cell_type": "markdown",
      "source": [
        "---\n",
        "## Week `8` | `Anvil`.works\n",
        "* Complete your\n",
        "  * hurdle task `4`\n",
        "  * tutorial exercises on Anvil this week | `user authentication`\n",
        "      * Please refer to the `instructions provided in the weekly slides`  "
      ],
      "metadata": {
        "id": "dXY-txYc_Ec5"
      }
    },
    {
      "cell_type": "markdown",
      "source": [
        "###Hurdle Task `4`\n",
        "* complete your hurdle task in class `only`\n",
        "\n",
        "```\n",
        "Deakin College is a well-reputed education provider in the industry.\n",
        "The academic director is thinking of creating a Student Grade Calculator.\n",
        "You have been assigned the task of creating the simple Student Grade Calculator.\n",
        "\n",
        "This program will calculate the final grades for students based on their scores in different subjects.\n",
        "Code in Python using iteration to process the grades of multiple students\n",
        "without using arrays, functions, tables, modules, or dictionaries.\n",
        "\n",
        "Input Data\n",
        "==========\n",
        "•\tPrompt the user to enter the number of students.\n",
        "•\tFor each student, prompt the user to enter their name, ID, and scores for three subjects: Math, Science, and English.\n",
        "\n",
        "Grade Calculation\n",
        "=================\n",
        "•\tValidate to ensure that the mark is an integer between 0-100 only.\n",
        "•\tCalculate the total score and average score for each student.\n",
        "•\tDetermine the final grade of each student based on the following grading scale:\n",
        "      o\tA: 90-100\n",
        "      o\tB: 80-89\n",
        "      o\tC: 70-79\n",
        "      o\tD: 60-69\n",
        "      o\tE: 50-59\n",
        "      o\tF: below 50\n",
        "\n",
        "Output:\n",
        "•\tDisplay the student details along with their total score, average score, and final grade.\n",
        "•\tDisplay the overall class average score.\n",
        "```"
      ],
      "metadata": {
        "id": "ofsukXJVO0mv"
      }
    },
    {
      "cell_type": "code",
      "source": [
        "# place of code here\n"
      ],
      "metadata": {
        "id": "wEI_yjZ9PsE1"
      },
      "execution_count": null,
      "outputs": []
    }
  ]
}