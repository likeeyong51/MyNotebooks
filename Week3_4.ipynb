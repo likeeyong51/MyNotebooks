{
  "cells": [
    {
      "cell_type": "markdown",
      "metadata": {
        "id": "view-in-github",
        "colab_type": "text"
      },
      "source": [
        "<a href=\"https://colab.research.google.com/github/likeeyong51/MyNotebooks/blob/main/Week3_4.ipynb\" target=\"_parent\"><img src=\"https://colab.research.google.com/assets/colab-badge.svg\" alt=\"Open In Colab\"/></a>"
      ]
    },
    {
      "cell_type": "markdown",
      "metadata": {
        "id": "YNTl3kJI5lr0"
      },
      "source": [
        "**Table of contents**<a id='toc0_'></a>    \n",
        "- [Week `3`](#toc1_)    \n",
        "    - [Example `1`](#toc1_1_1_)    \n",
        "    - [Example `2`](#toc1_1_2_)    \n",
        "    - [Example `3`](#toc1_1_3_)    \n",
        "    - [Exercise `1`](#toc1_1_4_)    \n",
        "    - [Exercise `2`](#toc1_1_5_)    \n",
        "    - [Exercise `3`](#toc1_1_6_)    \n",
        "- [Session `2`](#toc1_2_)    \n",
        "    - [More on `Pseudocode`](#toc1_2_1_)    \n",
        "    - [Example `1`](#toc1_2_2_)    \n",
        "    - [Example `2`](#toc1_2_3_)    \n",
        "    - [Example `3`](#toc1_2_4_)    \n",
        "    - [Exercise `1`](#toc1_2_5_)    \n",
        "    - [Exercise `2`](#toc1_2_6_)    \n",
        "    - [Exercise `3`](#toc1_2_7_)    \n",
        "- [Week `4`](#toc2_)    \n",
        "  - [Activity 1](#toc2_1_1_)    \n",
        "    - [Exercise 1](#toc2_2_)    \n",
        "    - [Exercise 2](#toc2_2_1_)    \n",
        "  - [Activity 2](#toc2_3_)    \n",
        "    - [Exercise 3](#toc2_3_1_)    \n",
        "    - [Exercise 4](#toc2_3_2_)    \n",
        "  - [Activity 3](#toc2_4_)    \n",
        "    - [Exercise 5](#toc2_4_1_)    \n",
        "    - [Exercise 6](#toc2_4_2_)    \n",
        "\n",
        "<!-- vscode-jupyter-toc-config\n",
        "\tnumbering=false\n",
        "\tanchor=true\n",
        "\tflat=false\n",
        "\tminLevel=1\n",
        "\tmaxLevel=6\n",
        "\t/vscode-jupyter-toc-config -->\n",
        "<!-- THIS CELL WILL BE REPLACED ON TOC UPDATE. DO NOT WRITE YOUR TEXT IN THIS CELL -->"
      ]
    },
    {
      "cell_type": "markdown",
      "metadata": {
        "id": "hnBdt3aO5lr2"
      },
      "source": [
        "# <a id='toc1_'></a>[Week `3`](#toc0_)\n",
        ">\n",
        "- Class activities\n",
        "> - Try out each class example/exercise\n",
        "> * We will look at each more closely in class\n",
        "> * More on algorithm design and coding\n",
        "> * We will be using [draw.io](https://app.diagrams.net) for creating our `flowcharts`"
      ]
    },
    {
      "cell_type": "markdown",
      "metadata": {
        "id": "oWrwWFIAipUM"
      },
      "source": [
        "You can use this notebook to `design your algorithm` and `translate them into Python`.\n",
        "\n",
        "`Caveat:` Please ensure you `save a copy` of this notebook into `your own google drive space`"
      ]
    },
    {
      "cell_type": "markdown",
      "metadata": {
        "id": "hR9kxyttjrew"
      },
      "source": [
        "* We will be discussing how to use this practical notebook for our class activities and cataloging your work\n",
        "\n",
        "* This is `an example` of a `text` region of your notebook where you could insert your notes and it supports rich text\n",
        "\n",
        "\n"
      ]
    },
    {
      "cell_type": "code",
      "execution_count": null,
      "metadata": {
        "id": "A1hCQoS-i3vT"
      },
      "outputs": [],
      "source": [
        "# this is a code area where you can insert your python code\n",
        "# You can also insert your pseudocode as comments in the code section"
      ]
    },
    {
      "cell_type": "markdown",
      "metadata": {
        "id": "Vz_hpQuk5lr4"
      },
      "source": [
        "<hr>"
      ]
    },
    {
      "cell_type": "markdown",
      "metadata": {
        "id": "RL0n5iO75lr4"
      },
      "source": [
        "### <a id='toc1_1_1_'></a>[Example `1`](#toc0_)\n",
        "> - Design an algorithm with `flowchart` to show the process of `preparing a cup\n",
        "of detox tea`.\n",
        "\n",
        "><div>\n",
        "    <img src=\"https://drive.google.com/uc?export=view&id=1gIiX4rcHzmVfsHTQ7iyCqYiI0CJuXnRl\" width=\"50%\" />\n",
        "</div>"
      ]
    },
    {
      "cell_type": "markdown",
      "metadata": {
        "id": "qSJCyHlv5lr4"
      },
      "source": [
        "### <a id='toc1_1_2_'></a>[Example `2`](#toc0_)\n",
        "> - Design an algorithm with a `flowchart` to read and assign `first_name` and `last_name` of students into a variable called `full_name` and display the full name.\n",
        "\n",
        "><div>\n",
        "    <img src=\"https://drive.google.com/uc?export=view&id=1Y_umfBCAYW-Ho_ASzomYM0Yd9IsAT20A\" width=\"40%\" />\n",
        "</div>"
      ]
    },
    {
      "cell_type": "markdown",
      "metadata": {
        "id": "KHWSj5Y05lr5"
      },
      "source": [
        "### <a id='toc1_1_3_'></a>[Example `3`](#toc0_)\n",
        "> - Design an algorithm with a flowchart to calculate an estimated arrival time for a drive from Geelong to Melbourne. You must obtain the distance between the two destinations, average speed driven and display the estimated journey time.\n",
        "\n",
        "<div>\n",
        "    <img src=\"https://drive.google.com/uc?export=view&id=1zjfKymLMJJJfBKQ_JEqgSdV_2F6gHnTE\" width=\"40%\" />\n",
        "</div>"
      ]
    },
    {
      "cell_type": "markdown",
      "metadata": {
        "id": "CcrcOXbw5lr5"
      },
      "source": [
        "<hr>"
      ]
    },
    {
      "cell_type": "markdown",
      "metadata": {
        "id": "etP8-cYz5lr5"
      },
      "source": [
        "### <a id='toc1_1_4_'></a>[Exercise `1`](#toc0_)\n",
        "> - Design an algorithm with a `flowchart` to show the process of `preparing a jam sandwich`.\n"
      ]
    },
    {
      "cell_type": "markdown",
      "metadata": {
        "id": "l5Tj85ab5lr5"
      },
      "source": [
        "### <a id='toc1_1_5_'></a>[Exercise `2`](#toc0_)\n",
        "> - Design an algorithm with a `flowchart` to assign address of students into the variable called `address` and display.\n"
      ]
    },
    {
      "cell_type": "code",
      "source": [
        "# code your solution here\n"
      ],
      "metadata": {
        "id": "Kh13wtJfaCHH"
      },
      "execution_count": null,
      "outputs": []
    },
    {
      "cell_type": "markdown",
      "metadata": {
        "id": "P7QpuOOE5lr5"
      },
      "source": [
        "### <a id='toc1_1_6_'></a>[Exercise `3`](#toc0_)\n",
        "> - Design an algorithm with a `flowchart` to calculate `average score` of `five` students who completed quiz 1.\n"
      ]
    },
    {
      "cell_type": "code",
      "source": [
        "# code your solution here\n"
      ],
      "metadata": {
        "id": "whUQnEaaaEyw"
      },
      "execution_count": null,
      "outputs": []
    },
    {
      "cell_type": "markdown",
      "source": [
        "## `Recap` exercise\n",
        "Sally is employed part-time at a pharmacy, earning an hourly wage of $25. As a casual employee, her work hours vary according to the weekly roster. She aspires to purchase a new laptop and has begun saving money by setting aside 15% of her weekly earnings. Consequently, she wishes to calculate her weekly savings once she receives the roster.\n",
        "\n",
        "Develop an algorithm using a flowchart to determine and print her savings each week.<br>\n",
        "Then, code your solution.\n"
      ],
      "metadata": {
        "id": "9D4qIf2PnsNE"
      }
    },
    {
      "cell_type": "markdown",
      "source": [
        "#### Recap exercise | Sample solution\n",
        "<div>\n",
        "    <img src=\"https://drive.google.com/uc?export=view&id=1qK1B-FKEMrbzNcMzlO16y8CbEIlc0fr5\" width=\"25%\" />\n",
        "</div>"
      ],
      "metadata": {
        "id": "F4wbV9VDo3Kk"
      }
    },
    {
      "cell_type": "code",
      "source": [
        "# code your solution here\n",
        "# GET hourly_wage\n",
        "HOURLY_WAGE = 25\n",
        "\n",
        "# GET hours_worked\n",
        "hours_worked = int(input('How many hours did you work this week: '))\n",
        "\n",
        "# CALCULATE weekly_income\n",
        "weekly_income = HOURLY_WAGE * hours_worked\n",
        "\n",
        "# CALCULATE weekly_savings (15% of my weekly income)\n",
        "weekly_savings = weekly_income * 0.15\n",
        "\n",
        "# DISPLAY weekly_savings\n",
        "print(f'You save {weekly_savings} this week.')"
      ],
      "metadata": {
        "id": "qLeDBoL2pikF",
        "colab": {
          "base_uri": "https://localhost:8080/"
        },
        "outputId": "26a7a713-65d2-47a4-d108-63a82f329d81"
      },
      "execution_count": null,
      "outputs": [
        {
          "output_type": "stream",
          "name": "stdout",
          "text": [
            "Enter your hourly wage: 25\n",
            "How many hours did you work this week: 30\n",
            "You save 112.5 this week.\n"
          ]
        }
      ]
    },
    {
      "cell_type": "markdown",
      "metadata": {
        "id": "BxGM2fcF5lr5"
      },
      "source": [
        "---\n",
        "## <a id='toc1_2_'></a>[Session `2`](#toc0_)"
      ]
    },
    {
      "cell_type": "markdown",
      "metadata": {
        "id": "8AZ6--Mm5lr5"
      },
      "source": [
        "### <a id='toc1_2_1_'></a>[More on `Pseudocode`](#toc0_)\n",
        "\n",
        "> `Pseudocode` is structured English made up of a sequence of statements describing the steps of an algorithm.  It uses a set of reserved terms. Using Pseudocode,  we can design a solution to a problem by documenting the steps that a program performs to solve a problem and achieve the desired outcome.\n",
        "\n",
        "- Here are some commonly-used words in pseudocodes:\n",
        "\n",
        "><div>\n",
        "    <img src=\"https://drive.google.com/uc?export=view&id=1AWsgzINBXupDif6Nv5tXx_htFELw0ySF\" width=\"75%\" />\n",
        "</div>\n",
        "\n",
        "<!--![pseudocode keywords](https://drive.google.com/uc?export=view&id=1AWsgzINBXupDif6Nv5tXx_htFELw0ySF)-->\n"
      ]
    },
    {
      "cell_type": "markdown",
      "metadata": {
        "id": "_qfbJqw25lr5"
      },
      "source": [
        "<hr>"
      ]
    },
    {
      "cell_type": "markdown",
      "metadata": {
        "id": "sbRN4xWP5lr5"
      },
      "source": [
        "### <a id='toc1_2_2_'></a>[Example `1`](#toc0_)\n",
        "> Design an algorithm `pseudocode` to show the process of `preparing a cup of detox tea`.\n",
        "\n",
        "`START`\n",
        "    \n",
        "      FILL a kettle with water\n",
        "      SET it to boil\n",
        "\n",
        "      GET a mug\n",
        "      GET a detox tea bag\n",
        "\n",
        "      PUT tea bag in the mug\n",
        "      FILL boiled water in mug\n",
        "\n",
        "      LET it cool and SERVE\n",
        "`STOP`\n",
        "\n"
      ]
    },
    {
      "cell_type": "markdown",
      "metadata": {
        "id": "zbTOqbfI5lr6"
      },
      "source": [
        "### <a id='toc1_2_3_'></a>[Example `2`](#toc0_)\n",
        "> Design an algorithm with a `pseudocode` to assign `first name` and `last name` of students into the variable called `full name` and display it.\n",
        "\n",
        "`START`\n",
        "\n",
        "      // Input: Get first_name, last_name\n",
        "      PROMPT user for first_name\n",
        "      READ first_name\n",
        "      PROMPT user for the last_name\n",
        "      READ last_name\n",
        "\n",
        "      // Process: concatenate first_name and last_name\n",
        "      full_name = first_name + last_name\n",
        "\n",
        "      // Output: Display full_name\n",
        "      PRINT full_name\n",
        "`STOP`"
      ]
    },
    {
      "cell_type": "markdown",
      "metadata": {
        "id": "RamqotVj5lr6"
      },
      "source": [
        "### <a id='toc1_2_4_'></a>[Example `3`](#toc0_)\n",
        "> Design an algorithm with a `pseudocode` to calculate an `estimated arrival time` for a drive from Geelong to Melbourne. You must obtain the distance between the two destinations, average speed you supposed to drive and display the estimated time travelled.\n",
        "\n",
        "`START`\n",
        "    \n",
        "      // GET distance and speed\n",
        "      PROMPT user for distance  (km)\n",
        "      READ distance\n",
        "      PROMPT user for speed (km/h)\n",
        "      READ speed\n",
        "\n",
        "      // calculate distance travelled\n",
        "      time_travelled = distance / speed\n",
        "\n",
        "      // DISPLAY time travelled\n",
        "      PRINT time_travelled\n",
        "`STOP`"
      ]
    },
    {
      "cell_type": "markdown",
      "metadata": {
        "id": "Lqn-3-VZ5lr6"
      },
      "source": [
        "<hr>"
      ]
    },
    {
      "cell_type": "markdown",
      "metadata": {
        "id": "Ak6aMG7h5lr6"
      },
      "source": [
        "### <a id='toc1_2_5_'></a>[Exercise `1`](#toc0_)\n",
        "> Write the algorithm in `pseudocode` to show the process of preparing a jam sandwich.\n",
        "\n",
        "\n",
        "`START`\n",
        "    \n",
        "    // insert your pseudocode here\n",
        "`STOP`"
      ]
    },
    {
      "cell_type": "markdown",
      "metadata": {
        "id": "-DXBas5O5lr6"
      },
      "source": [
        "### <a id='toc1_2_6_'></a>[Exercise `2`](#toc0_)\n",
        "> Develop in `pseudocode` an algorithm to assign `house address` of students (house_number, street_address, suburb, postcode)  into the variable called `address` and display it.\n"
      ]
    },
    {
      "cell_type": "markdown",
      "metadata": {
        "id": "RLcpsye-5lr6"
      },
      "source": [
        "### <a id='toc1_2_7_'></a>[Exercise `3`](#toc0_)\n",
        "> Develop in `pseudocode` an algorithm to calculate `average score` of `five` students who completed the quiz 1.\n",
        "\n",
        "\n",
        "`START`\n",
        "    \n",
        "    // insert your pseudocode here\n",
        "`STOP`\n"
      ]
    },
    {
      "cell_type": "markdown",
      "source": [
        "---\n",
        "### <mark>Hurdle Task</mark> `1`\n",
        "* Go to the Assessments section in Moodle.\n",
        "* Accept and complete your first hurdle task in the assigned GitHub codespace.\n",
        "---"
      ],
      "metadata": {
        "id": "7iYOLV994t1u"
      }
    },
    {
      "cell_type": "markdown",
      "metadata": {
        "id": "GiQT948U5lr6"
      },
      "source": [
        "# <a id='toc2_'></a>[Week `4`](#toc0_)\n",
        "* Class activities\n",
        "* Work on your `hurdle task 2`\n",
        "* We will be using [anvil.works](https://anvil.works) for creating our web apps in the second session"
      ]
    },
    {
      "cell_type": "markdown",
      "metadata": {
        "id": "9DLFNqzI5lr6"
      },
      "source": [
        "### <a id='toc2_1_1_'></a>[Activity 1](#toc0_)\n",
        "> Design an algorithm with a `flowchart` to input the `length` and `width` of a rectangle and calculate the `area` and the `perimeter` of the rectangle. Display all results.\n",
        "\n",
        "><div>\n",
        "    <img src=\"https://drive.google.com/uc?export=view&id=13sxVrrx8kYIPqBkBEnY2a_M_7VdThBlG\" width=\"30%\" />\n",
        "</div>"
      ]
    },
    {
      "cell_type": "markdown",
      "metadata": {
        "id": "9wNHqMRO5lr6"
      },
      "source": [
        "## <a id='toc2_2_'></a>[Exercise 1](#toc0_)\n",
        "> Design an algorithm in a `pseudocode` to input the `length` and `width` of a rectangle and calculate the `area` and the `perimeter` of the rectangle. Display the area and perimeter of the rectangle.\n",
        "\n",
        "\n",
        "`START`\n",
        "    \n",
        "    // insert your pseudocode here\n",
        "`STOP`"
      ]
    },
    {
      "cell_type": "markdown",
      "metadata": {
        "id": "kfOS9xfw5lr6"
      },
      "source": [
        "### <a id='toc2_2_1_'></a>[Exercise 2](#toc0_)\n",
        "> Code in `python` the algorithm you develop earlier to calculate the `area` and the `perimeter` of a rectangle. Display all results.\n"
      ]
    },
    {
      "cell_type": "code",
      "execution_count": null,
      "metadata": {
        "id": "bOpw69Vx5lr6"
      },
      "outputs": [],
      "source": [
        "# place your code here\n",
        "# start by outlining the program with your pseudocode"
      ]
    },
    {
      "cell_type": "markdown",
      "metadata": {
        "id": "WvN3wrL_5lr6"
      },
      "source": [
        "## <a id='toc2_3_'></a>[Activity 2](#toc0_)\n",
        "> Design an algorithm with a `flowchart` based on the IPO outline to read the distance in `kilometers` and `meters`; calculate the `sum of distance in meters`; and then display the `total distance in meter`.\n",
        "\n",
        "\n",
        "><div>\n",
        "    <img src=\"https://drive.google.com/uc?export=view&id=13z_A4zUdjJDNDJYwYKwUJN_zDuAYfY0P\" width=\"35%\" />\n",
        "</div>"
      ]
    },
    {
      "cell_type": "markdown",
      "metadata": {
        "id": "QXIzziqH5lr6"
      },
      "source": [
        "### <a id='toc2_3_1_'></a>[Exercise 3](#toc0_)\n",
        ">Design an algorithm with `pseudocode` based on the IPO outline to read the distance in `kilometers` and `meters`; calculate the `sum of distance in meters`; and then display the `total distance in meter`.\n",
        "\n",
        "`START`\n",
        "    \n",
        "    // insert your pseudocode here\n",
        "`STOP`"
      ]
    },
    {
      "cell_type": "markdown",
      "metadata": {
        "id": "YiKz9xqw5lr6"
      },
      "source": [
        "### <a id='toc2_3_2_'></a>[Exercise 4](#toc0_)\n",
        "> Code in `python` the algorithm of converting and calculating the `total distance in meters`.\n"
      ]
    },
    {
      "cell_type": "code",
      "source": [
        "# place your code here\n",
        "# start by outlining the program with your pseudocode"
      ],
      "metadata": {
        "id": "k-AnxPRRvClS"
      },
      "execution_count": null,
      "outputs": []
    },
    {
      "cell_type": "code",
      "execution_count": null,
      "metadata": {
        "id": "-v_QP6SP5lr7"
      },
      "outputs": [],
      "source": [
        "# An input validation example\n",
        "\n",
        "# PROMPT and READ distance_km\n",
        "distance_km_str = input('Enter your distance in km: ')\n",
        "\n",
        "# attempt a float conversion\n",
        "try:\n",
        "    # convert distance in km into a float\n",
        "    distance_km = float(distance_km_str)\n",
        "\n",
        "except ValueError:\n",
        "    # in the event of a ValueError, we print an error message\n",
        "    print('Error: enter distance in km with a number only')\n",
        "\n",
        "else:\n",
        "    # otherwise, we can proceed to process the converted value\n",
        "    print(f'{distance_km = }')\n"
      ]
    },
    {
      "cell_type": "markdown",
      "metadata": {
        "id": "Jv42hxb05lr7"
      },
      "source": [
        "## <a id='toc2_4_'></a>[Activity 3](#toc0_)\n",
        "> Create a `flowchart` to outline the algorithm that reads a student to input `first name`, `last name`, `country`, `age`, and the `name of the enrolled program`. Then display the `student’s biodata`.\n",
        "\n",
        "\n",
        "\n",
        "<div>\n",
        "    <img src=\"https://drive.google.com/uc?export=view&id=1BLT5Fj1193WAtDnc_wwPFPJDUSMJYPdh\" width=\"35%\" />\n",
        "</div>"
      ]
    },
    {
      "cell_type": "markdown",
      "metadata": {
        "id": "GQeVzham5lr7"
      },
      "source": [
        "### <a id='toc2_4_1_'></a>[Exercise 5](#toc0_)\n",
        ">Create a `flowchart` to outline the algorithm that reads a student to input `first name`, `last name`, `country`, `age`, and the `name of the enrolled program`. Then display the `student’s biodata`.\n",
        "\n",
        "\n",
        "`START`\n",
        "    \n",
        "    // insert your pseudocode here\n",
        "`STOP`"
      ]
    },
    {
      "cell_type": "markdown",
      "metadata": {
        "id": "RvWoYIaZ5lr7"
      },
      "source": [
        "### <a id='toc2_4_2_'></a>[Exercise 6](#toc0_)\n",
        "> Code in `python` the algorithm you just wrote to collect and display a list of `student-related data`\n"
      ]
    },
    {
      "cell_type": "code",
      "execution_count": null,
      "metadata": {
        "id": "mbhtoLkf6cQB"
      },
      "outputs": [],
      "source": [
        "# place your code here\n",
        "# start by outlining the program with your pseudocode"
      ]
    },
    {
      "cell_type": "markdown",
      "source": [
        "\n",
        "\n",
        "---\n",
        "\n",
        "\n",
        "## Anvil web apps\n",
        ">* Go to `Anvil.works`\n",
        ">* Create a `free account`\n",
        ">* Log in and work on your `two tutorial exercises` outlined in the slides.\n",
        "\n",
        "> Here is the image you need you complete the first exercise. `Right-click` to `save a copy` of the image:\n",
        "><div>\n",
        "    <img src=\"https://drive.google.com/uc?export=view&id=1CcshmYSlmL9RMwjAHQBvgD0R1Cc6Hkml\" width=\"25%\" />\n",
        "</div>\n",
        "\n",
        "### `Coding` Challenge\n",
        "Redesign the Australian PM's Quiz to use `radio buttons` instead.\n",
        "\n",
        "`Extension`: Include three other PM.  `Download` their pictures [here](https://drive.google.com/drive/folders/1s9eHeA6PPNhmgc0LeCSkrZ2215X_3Byu?usp=sharing)."
      ],
      "metadata": {
        "id": "0zcIeS0Bn-28"
      }
    },
    {
      "cell_type": "markdown",
      "source": [
        "### Exercise `7`\n",
        "\n",
        "Re-`code` the earlier exercises (Ex.3 & 6) as `web apps` in `Anvil.works`"
      ],
      "metadata": {
        "id": "XQMrTcqiapvo"
      }
    }
  ],
  "metadata": {
    "colab": {
      "provenance": [],
      "collapsed_sections": [
        "9D4qIf2PnsNE"
      ],
      "include_colab_link": true
    },
    "kernelspec": {
      "display_name": "Python 3 (ipykernel)",
      "language": "python",
      "name": "python3"
    },
    "language_info": {
      "codemirror_mode": {
        "name": "ipython",
        "version": 3
      },
      "file_extension": ".py",
      "mimetype": "text/x-python",
      "name": "python",
      "nbconvert_exporter": "python",
      "pygments_lexer": "ipython3",
      "version": "3.11.7"
    }
  },
  "nbformat": 4,
  "nbformat_minor": 0
}