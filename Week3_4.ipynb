{
  "cells": [
    {
      "cell_type": "markdown",
      "metadata": {
        "id": "view-in-github",
        "colab_type": "text"
      },
      "source": [
        "<a href=\"https://colab.research.google.com/github/likeeyong51/MyNotebooks/blob/main/Week3_4.ipynb\" target=\"_parent\"><img src=\"https://colab.research.google.com/assets/colab-badge.svg\" alt=\"Open In Colab\"/></a>"
      ]
    },
    {
      "cell_type": "markdown",
      "metadata": {
        "id": "hnBdt3aO5lr2"
      },
      "source": [
        "# <a id='toc1_'></a>[Week `3`](#toc0_)\n",
        ">\n",
        "- Class activities\n",
        "> - Try out each class example/exercise\n",
        "> * We will look at each more closely in class\n",
        "> * More on algorithm design and coding\n",
        "> * We will be using [draw.io](https://app.diagrams.net) for creating our `flowcharts`"
      ]
    },
    {
      "cell_type": "markdown",
      "metadata": {
        "id": "oWrwWFIAipUM"
      },
      "source": [
        "You can use this notebook to `design your algorithm` and `translate them into Python`.\n",
        "\n",
        "`Caveat:` Please ensure you `save a copy` of this notebook into `your own google drive space`"
      ]
    },
    {
      "cell_type": "markdown",
      "metadata": {
        "id": "hR9kxyttjrew"
      },
      "source": [
        "* We will be discussing how to use this practical notebook for our class activities and cataloging your work\n",
        "\n",
        "* This is `an example` of a `text` region of your notebook where you could insert your notes and it supports rich text\n",
        "\n",
        "\n"
      ]
    },
    {
      "cell_type": "code",
      "execution_count": null,
      "metadata": {
        "id": "A1hCQoS-i3vT"
      },
      "outputs": [],
      "source": [
        "# this is a code area where you can insert your python code\n",
        "# You can also insert your pseudocode as comments in the code section"
      ]
    },
    {
      "cell_type": "markdown",
      "metadata": {
        "id": "Vz_hpQuk5lr4"
      },
      "source": [
        "<hr>"
      ]
    },
    {
      "cell_type": "markdown",
      "metadata": {
        "id": "qSJCyHlv5lr4"
      },
      "source": [
        "### <a id='toc1_1_1_'></a>[Example `1`](#toc0_)\n",
        "> - Design an algorithm with a `flowchart` to read and assign `first_name` and `last_name` of students into a variable called `full_name` and display the full name.\n",
        "\n",
        "><div>\n",
        "    <img src=\"https://drive.google.com/uc?export=view&id=1Y_umfBCAYW-Ho_ASzomYM0Yd9IsAT20A\" width=\"40%\" />\n",
        "</div>"
      ]
    },
    {
      "cell_type": "markdown",
      "metadata": {
        "id": "KHWSj5Y05lr5"
      },
      "source": [
        "### <a id='toc1_1_3_'></a>[Example `3`](#toc0_)\n",
        "> - Design an algorithm with a flowchart to calculate an estimated arrival time for a drive from Geelong to Melbourne. You must obtain the distance between the two destinations, average speed driven and display the estimated journey time.\n",
        "\n",
        "<div>\n",
        "    <img src=\"https://drive.google.com/uc?export=view&id=1zjfKymLMJJJfBKQ_JEqgSdV_2F6gHnTE\" width=\"40%\" />\n",
        "</div>"
      ]
    },
    {
      "cell_type": "markdown",
      "metadata": {
        "id": "CcrcOXbw5lr5"
      },
      "source": [
        "<hr>"
      ]
    },
    {
      "cell_type": "markdown",
      "metadata": {
        "id": "l5Tj85ab5lr5"
      },
      "source": [
        "### <a id='toc1_1_5_'></a>[Exercise `1`](#toc0_)\n",
        "> - Design an algorithm with a `flowchart` to assign address of students into the variable called `address` and display.\n"
      ]
    },
    {
      "cell_type": "markdown",
      "source": [
        "## Design your solution here:\n",
        "\n",
        "### <mark>IPO Chart</mark>\n",
        "`INPUT`\n",
        "\n",
        "    *list your input variables here*\n",
        "\n",
        "`PROCESS`\n",
        "\n",
        "    *outline your input process here*\n",
        "\n",
        "    *outline your data-manpulation process here*\n",
        "\n",
        "    *outline your output process here*\n",
        "\n",
        "`OUTPUT`\n",
        "\n",
        "    *list your output variables here*\n",
        "\n",
        "\n",
        "### <mark>Pseudocode</mark>\n",
        "`START`\n",
        "    # expand and list your input steps here\n",
        "    #\n",
        "\n",
        "    # expand and list your data-manipulation steps here\n",
        "    #\n",
        "\n",
        "    # expand and list your output steps here\n",
        "    #\n",
        "    \n",
        "`STOP`"
      ],
      "metadata": {
        "id": "oKXhy476bfo-"
      }
    },
    {
      "cell_type": "code",
      "source": [
        "# Exercise 1 | code your solution here\n"
      ],
      "metadata": {
        "id": "Kh13wtJfaCHH"
      },
      "execution_count": null,
      "outputs": []
    },
    {
      "cell_type": "markdown",
      "metadata": {
        "id": "P7QpuOOE5lr5"
      },
      "source": [
        "### <a id='toc1_1_6_'></a>[Exercise `2`](#toc0_)\n",
        "> - Design an algorithm with a `flowchart` to calculate `average score` of `five` students who completed quiz 1.\n"
      ]
    },
    {
      "cell_type": "markdown",
      "source": [
        "## Design your solution here:\n",
        "\n",
        "### <mark>IPO Chart</mark>\n",
        "`INPUT`\n",
        "\n",
        "    *list your input variables here*\n",
        "\n",
        "`PROCESS`\n",
        "\n",
        "    *outline your input process here*\n",
        "\n",
        "    *outline your data-manpulation process here*\n",
        "\n",
        "    *outline your output process here*\n",
        "\n",
        "`OUTPUT`\n",
        "\n",
        "    *list your output variables here*\n",
        "\n",
        "\n",
        "### <mark>Pseudocode</mark>\n",
        "`START`\n",
        "    # expand and list your input steps here\n",
        "    #\n",
        "\n",
        "    # expand and list your data-manipulation steps here\n",
        "    #\n",
        "\n",
        "    # expand and list your output steps here\n",
        "    #\n",
        "    \n",
        "`STOP`"
      ],
      "metadata": {
        "id": "Rc3b58HseZbM"
      }
    },
    {
      "cell_type": "code",
      "source": [
        "# Exercise 2 | code your solution here\n"
      ],
      "metadata": {
        "id": "whUQnEaaaEyw"
      },
      "execution_count": null,
      "outputs": []
    },
    {
      "cell_type": "markdown",
      "source": [
        "## `Recap` exercise\n",
        "Sally is employed part-time at a pharmacy, earning an hourly wage of $25. As a casual employee, her work hours vary according to the weekly roster. She aspires to purchase a new laptop and has begun saving money by setting aside 15% of her weekly earnings. Consequently, she wishes to calculate her weekly savings once she receives the roster.\n",
        "\n",
        "Develop an algorithm using a flowchart to determine and print her savings each week.<br>\n",
        "Then, code your solution.\n"
      ],
      "metadata": {
        "id": "9D4qIf2PnsNE"
      }
    },
    {
      "cell_type": "markdown",
      "source": [],
      "metadata": {
        "id": "TaO0lEz9bDvt"
      }
    },
    {
      "cell_type": "markdown",
      "source": [
        "#### Recap exercise | <mark>Sample flowchart</mark>\n",
        "<div>\n",
        "    <img src=\"https://drive.google.com/uc?export=view&id=1qK1B-FKEMrbzNcMzlO16y8CbEIlc0fr5\" width=\"25%\" />\n",
        "</div>"
      ],
      "metadata": {
        "id": "F4wbV9VDo3Kk"
      }
    },
    {
      "cell_type": "markdown",
      "source": [
        "## Design your solution here:\n",
        "\n",
        "### <mark>IPO Chart</mark>\n",
        "`INPUT`\n",
        "\n",
        "    *list your input variables here*\n",
        "\n",
        "`PROCESS`\n",
        "\n",
        "    *outline your input process here*\n",
        "\n",
        "    *outline your data-manpulation process here*\n",
        "\n",
        "    *outline your output process here*\n",
        "\n",
        "`OUTPUT`\n",
        "\n",
        "    *list your output variables here*\n",
        "\n",
        "\n",
        "### <mark>Pseudocode</mark>\n",
        "\n",
        "`START`\n",
        "    # expand and list your input steps here\n",
        "    #\n",
        "\n",
        "    # expand and list your data-manipulation steps here\n",
        "    #\n",
        "\n",
        "    # expand and list your output steps here\n",
        "    #\n",
        "    \n",
        "`STOP`"
      ],
      "metadata": {
        "id": "j_UPn5IOedZR"
      }
    },
    {
      "cell_type": "code",
      "source": [
        "# Recap exercise | code your solution here\n"
      ],
      "metadata": {
        "id": "jyFErWFQhguI"
      },
      "execution_count": null,
      "outputs": []
    },
    {
      "cell_type": "code",
      "source": [
        "# @title Re-Cap Solution sample solution {display-mode: \"form\"}\n",
        "# code your solution here\n",
        "# GET hourly_wage\n",
        "HOURLY_WAGE = 25\n",
        "\n",
        "# GET hours_worked\n",
        "hours_worked = int(input('How many hours did you work this week: '))\n",
        "\n",
        "# CALCULATE weekly_income\n",
        "weekly_income = HOURLY_WAGE * hours_worked\n",
        "\n",
        "# CALCULATE weekly_savings (15% of my weekly income)\n",
        "weekly_savings = weekly_income * 0.15\n",
        "\n",
        "# DISPLAY weekly_savings\n",
        "print(f'You save {weekly_savings} this week.')"
      ],
      "metadata": {
        "id": "qLeDBoL2pikF"
      },
      "execution_count": null,
      "outputs": []
    },
    {
      "cell_type": "markdown",
      "metadata": {
        "id": "8AZ6--Mm5lr5"
      },
      "source": [
        "### <a id='toc1_2_1_'></a>[More on `Pseudocode`](#toc0_)\n",
        "\n",
        "> `Pseudocode` is structured English made up of a sequence of statements describing the steps of an algorithm.  It uses a set of reserved terms. Using Pseudocode,  we can design a solution to a problem by documenting the steps that a program performs to solve a problem and achieve the desired outcome.\n",
        "\n",
        "- Here are some commonly-used words in pseudocodes:\n",
        "\n",
        "><div>\n",
        "    <img src=\"https://drive.google.com/uc?export=view&id=1AWsgzINBXupDif6Nv5tXx_htFELw0ySF\" width=\"75%\" />\n",
        "</div>\n",
        "\n",
        "<!--![pseudocode keywords](https://drive.google.com/uc?export=view&id=1AWsgzINBXupDif6Nv5tXx_htFELw0ySF)-->\n"
      ]
    },
    {
      "cell_type": "markdown",
      "metadata": {
        "id": "_qfbJqw25lr5"
      },
      "source": [
        "<hr>"
      ]
    },
    {
      "cell_type": "markdown",
      "metadata": {
        "id": "zbTOqbfI5lr6"
      },
      "source": [
        "### <a id='toc1_2_3_'></a>[Example `1`](#toc0_)\n",
        "> Design an algorithm with a `pseudocode` to assign `first name` and `last name` of students into the variable called `full name` and display it.\n",
        "\n",
        "### <mark>IPO Chart</mark>\n",
        "`INPUT`\n",
        "\n",
        "    *list your input variables here*\n",
        "\n",
        "`PROCESS`\n",
        "\n",
        "    *outline your input process here*\n",
        "\n",
        "    *outline your data-manpulation process here*\n",
        "\n",
        "    *outline your output process here*\n",
        "\n",
        "`OUTPUT`\n",
        "\n",
        "    *list your output variables here*\n",
        "\n",
        "\n",
        "### <mark>Pseudocode</mark>\n",
        "`START`\n",
        "\n",
        "      # Input:\n",
        "      \n",
        "\n",
        "      # Process:\n",
        "      \n",
        "\n",
        "      # Output:\n",
        "\n",
        "`STOP`"
      ]
    },
    {
      "cell_type": "code",
      "source": [
        "# Example 1 | code your solution here\n"
      ],
      "metadata": {
        "id": "sb-8-1WXhlHA"
      },
      "execution_count": null,
      "outputs": []
    },
    {
      "cell_type": "markdown",
      "metadata": {
        "id": "RamqotVj5lr6"
      },
      "source": [
        "### <a id='toc1_2_4_'></a>[Example `2`](#toc0_)\n",
        "> Design an algorithm with a `pseudocode` to calculate an `estimated arrival time` for a drive from Geelong to Melbourne. You must obtain the distance between the two destinations, average speed you supposed to drive and display the estimated time travelled.\n",
        "\n",
        "### <mark>IPO Chart</mark>\n",
        "`INPUT`\n",
        "\n",
        "    *list your input variables here*\n",
        "\n",
        "`PROCESS`\n",
        "\n",
        "    *outline your input process here*\n",
        "\n",
        "    *outline your data-manpulation process here*\n",
        "\n",
        "    *outline your output process here*\n",
        "\n",
        "`OUTPUT`\n",
        "\n",
        "    *list your output variables here*\n",
        "\n",
        "\n",
        "\n",
        "### <mark>Pseudocode</mark>\n",
        "`START`\n",
        "    \n",
        "      # Input:\n",
        "\n",
        "\n",
        "      # Process:\n",
        "\n",
        "\n",
        "      # Output:\n",
        "      \n",
        "\n",
        "`STOP`"
      ]
    },
    {
      "cell_type": "markdown",
      "metadata": {
        "id": "Lqn-3-VZ5lr6"
      },
      "source": [
        "<hr>"
      ]
    },
    {
      "cell_type": "code",
      "source": [
        "# Example 2 | code your solution here\n"
      ],
      "metadata": {
        "id": "GVPClctshpBl"
      },
      "execution_count": null,
      "outputs": []
    },
    {
      "cell_type": "markdown",
      "metadata": {
        "id": "Ak6aMG7h5lr6"
      },
      "source": [
        "### <a id='toc1_2_5_'></a>[Exercise `1`](#toc0_)\n",
        "> Write the algorithm in `pseudocode` to show the process of preparing a jam sandwich.\n",
        "\n",
        "\n",
        "### <mark>IPO Chart</mark>\n",
        "`INPUT`\n",
        "\n",
        "    *list your input variables here*\n",
        "\n",
        "`PROCESS`\n",
        "\n",
        "    *outline your input process here*\n",
        "\n",
        "    *outline your data-manpulation process here*\n",
        "\n",
        "    *outline your output process here*\n",
        "\n",
        "`OUTPUT`\n",
        "\n",
        "    *list your output variables here*\n",
        "\n",
        "\n",
        "\n",
        "### <mark>Pseudocode</mark>\n",
        "`START`\n",
        "    \n",
        "      # Input:\n",
        "\n",
        "\n",
        "      # Process:\n",
        "\n",
        "\n",
        "      # Output:\n",
        "      \n",
        "\n",
        "`STOP`"
      ]
    },
    {
      "cell_type": "code",
      "source": [
        "# Exercise  1 | code your solution here\n"
      ],
      "metadata": {
        "id": "1QviOe_hhwbH"
      },
      "execution_count": null,
      "outputs": []
    },
    {
      "cell_type": "markdown",
      "metadata": {
        "id": "-DXBas5O5lr6"
      },
      "source": [
        "### <a id='toc1_2_6_'></a>[Exercise `2`](#toc0_)\n",
        "> Develop in `pseudocode` an algorithm to assign `house address` of students (house_number, street_address, suburb, postcode)  into the variable called `address` and display it.\n",
        "\n",
        "### <mark>IPO Chart</mark>\n",
        "`INPUT`\n",
        "\n",
        "    *list your input variables here*\n",
        "\n",
        "`PROCESS`\n",
        "\n",
        "    *outline your input process here*\n",
        "\n",
        "    *outline your data-manpulation process here*\n",
        "\n",
        "    *outline your output process here*\n",
        "\n",
        "`OUTPUT`\n",
        "\n",
        "    *list your output variables here*\n",
        "\n",
        "\n",
        "\n",
        "### <mark>Pseudocode</mark>\n",
        "`START`\n",
        "    \n",
        "      # Input:\n",
        "\n",
        "\n",
        "      # Process:\n",
        "\n",
        "\n",
        "      # Output:\n",
        "      \n",
        "\n",
        "`STOP`"
      ]
    },
    {
      "cell_type": "code",
      "source": [
        "# Exercise  2 | code your solution here"
      ],
      "metadata": {
        "id": "71jqdqK4h1vX"
      },
      "execution_count": null,
      "outputs": []
    },
    {
      "cell_type": "markdown",
      "metadata": {
        "id": "RLcpsye-5lr6"
      },
      "source": [
        "### <a id='toc1_2_7_'></a>[Exercise `3`](#toc0_)\n",
        "> Develop in `pseudocode` an algorithm to calculate `average score` of `five` students who completed the quiz 1.\n",
        "\n",
        "\n",
        "`START`\n",
        "    \n",
        "    // insert your pseudocode here\n",
        "`STOP`\n"
      ]
    },
    {
      "cell_type": "markdown",
      "source": [
        "---\n",
        "## <mark>Hurdle Task</mark> `1`\n",
        "* Go to the Assessments section in Moodle.\n",
        "* Accept and complete your first hurdle task in the assigned GitHub codespace.\n",
        "---"
      ],
      "metadata": {
        "id": "7iYOLV994t1u"
      }
    },
    {
      "cell_type": "markdown",
      "metadata": {
        "id": "GiQT948U5lr6"
      },
      "source": [
        "# <a id='toc2_'></a>[Week `4`](#toc0_)\n",
        "* Class activities\n",
        "* Work on your `hurdle task 2`\n",
        "* We will be using [anvil.works](https://anvil.works) for creating our web apps in the second session"
      ]
    },
    {
      "cell_type": "markdown",
      "metadata": {
        "id": "9DLFNqzI5lr6"
      },
      "source": [
        "### Activity `1`\n",
        "> Design an algorithm with a `flowchart` to input the `length` and `width` of a rectangle and calculate the `area` and the `perimeter` of the rectangle. Display all results.\n",
        "\n",
        "><div>\n",
        "    <img src=\"https://drive.google.com/uc?export=view&id=13sxVrrx8kYIPqBkBEnY2a_M_7VdThBlG\" width=\"30%\" />\n",
        "</div>"
      ]
    },
    {
      "cell_type": "markdown",
      "metadata": {
        "id": "9wNHqMRO5lr6"
      },
      "source": [
        "> Design an algorithm in a `pseudocode` to input the `length` and `width` of a rectangle and calculate the `area` and the `perimeter` of the rectangle. Display the area and perimeter of the rectangle.\n",
        "\n",
        "### <mark>IPO Chart</mark>\n",
        "`INPUT`\n",
        "\n",
        "    *list your input variables here*\n",
        "\n",
        "`PROCESS`\n",
        "\n",
        "    *outline your input process here*\n",
        "\n",
        "    *outline your data-manpulation process here*\n",
        "\n",
        "    *outline your output process here*\n",
        "\n",
        "`OUTPUT`\n",
        "\n",
        "    *list your output variables here*\n",
        "\n",
        "\n",
        "\n",
        "### <mark>Pseudocode</mark>\n",
        "`START`\n",
        "    \n",
        "      # Input:\n",
        "\n",
        "\n",
        "      # Process:\n",
        "\n",
        "\n",
        "      # Output:\n",
        "      \n",
        "\n",
        "`STOP`"
      ]
    },
    {
      "cell_type": "code",
      "source": [
        "# Activity 1 |  code your solution here\n"
      ],
      "metadata": {
        "id": "rLjEAEnriS6u"
      },
      "execution_count": null,
      "outputs": []
    },
    {
      "cell_type": "markdown",
      "metadata": {
        "id": "WvN3wrL_5lr6"
      },
      "source": [
        "## Activity `2`\n",
        "> Design an algorithm with a `flowchart` based on the IPO outline to read the distance in `kilometers` and `meters`; calculate the `sum of distance in meters`; and then display the `total distance in meter`.\n",
        "\n",
        "\n",
        "><div>\n",
        "    <img src=\"https://drive.google.com/uc?export=view&id=13z_A4zUdjJDNDJYwYKwUJN_zDuAYfY0P\" width=\"35%\" />\n",
        "</div>"
      ]
    },
    {
      "cell_type": "markdown",
      "metadata": {
        "id": "QXIzziqH5lr6"
      },
      "source": [
        ">Design an algorithm with `pseudocode` based on the IPO outline to read the distance in `kilometers` and `meters`; calculate the `sum of distance in meters`; and then display the `total distance in meter`.\n",
        "\n",
        "### <mark>IPO Chart</mark>\n",
        "`INPUT`\n",
        "\n",
        "    *list your input variables here*\n",
        "\n",
        "`PROCESS`\n",
        "\n",
        "    *outline your input process here*\n",
        "\n",
        "    *outline your data-manpulation process here*\n",
        "\n",
        "    *outline your output process here*\n",
        "\n",
        "`OUTPUT`\n",
        "\n",
        "    *list your output variables here*\n",
        "\n",
        "\n",
        "\n",
        "### <mark>Pseudocode</mark>\n",
        "`START`\n",
        "    \n",
        "      # Input:\n",
        "\n",
        "\n",
        "      # Process:\n",
        "\n",
        "\n",
        "      # Output:\n",
        "      \n",
        "\n",
        "`STOP`"
      ]
    },
    {
      "cell_type": "code",
      "source": [
        "# Activity 2 | code your solution here\n"
      ],
      "metadata": {
        "id": "VXoGM9qniqao"
      },
      "execution_count": null,
      "outputs": []
    },
    {
      "cell_type": "markdown",
      "source": [
        "## Activity `3`\n",
        "> Design an IPO chart to outline an algorithm that reads a student to input first name, last name, country, age, and the name of the enrolled program. Then display the student’s biodata.\n",
        "\n",
        "\n",
        "### <mark>IPO Chart</mark>\n",
        "`INPUT`\n",
        "\n",
        "    *list your input variables here*\n",
        "\n",
        "`PROCESS`\n",
        "\n",
        "    *outline your input process here*\n",
        "\n",
        "    *outline your data-manpulation process here*\n",
        "\n",
        "    *outline your output process here*\n",
        "\n",
        "`OUTPUT`\n",
        "\n",
        "    *list your output variables here*\n",
        "\n",
        "\n",
        "\n",
        "### <mark>Pseudocode</mark>\n",
        "`START`\n",
        "    \n",
        "      # Input:\n",
        "\n",
        "\n",
        "      # Process:\n",
        "\n",
        "\n",
        "      # Output:\n",
        "      \n",
        "\n",
        "`STOP`"
      ],
      "metadata": {
        "id": "QTDuVADmkEMi"
      }
    },
    {
      "cell_type": "code",
      "execution_count": null,
      "metadata": {
        "id": "mbhtoLkf6cQB"
      },
      "outputs": [],
      "source": [
        "# Activity 3 | code your solution here\n"
      ]
    },
    {
      "cell_type": "markdown",
      "source": [
        "---\n",
        "## Introducing Anvil web apps\n",
        ">* Go to [Anvil.works](https://anvil.works)\n",
        ">* Create a `free account`\n",
        ">* Log in and work on your `two tutorial exercises` outlined in the slides.\n",
        "\n",
        "> Here is the image you need you complete the first exercise. `Right-click` to `save a copy` of the image:\n",
        "><div>\n",
        "    <img src=\"https://drive.google.com/uc?export=view&id=1CcshmYSlmL9RMwjAHQBvgD0R1Cc6Hkml\" width=\"25%\" />\n",
        "</div>\n",
        "\n",
        "### `Coding` Challenge\n",
        "Redesign the Australian PM's Quiz to use `radio buttons` instead.\n",
        "\n",
        "`Extension`: Include three other PM.  `Download` their pictures [here](https://drive.google.com/drive/folders/1s9eHeA6PPNhmgc0LeCSkrZ2215X_3Byu?usp=sharing)."
      ],
      "metadata": {
        "id": "0zcIeS0Bn-28"
      }
    },
    {
      "cell_type": "markdown",
      "source": [
        "### <mark>Homework</mark>\n",
        "\n",
        "Re-`code` activities `1`, `2` and `3` in Anvil.works"
      ],
      "metadata": {
        "id": "XQMrTcqiapvo"
      }
    }
  ],
  "metadata": {
    "colab": {
      "provenance": [],
      "include_colab_link": true
    },
    "kernelspec": {
      "display_name": "Python 3 (ipykernel)",
      "language": "python",
      "name": "python3"
    },
    "language_info": {
      "codemirror_mode": {
        "name": "ipython",
        "version": 3
      },
      "file_extension": ".py",
      "mimetype": "text/x-python",
      "name": "python",
      "nbconvert_exporter": "python",
      "pygments_lexer": "ipython3",
      "version": "3.11.7"
    }
  },
  "nbformat": 4,
  "nbformat_minor": 0
}