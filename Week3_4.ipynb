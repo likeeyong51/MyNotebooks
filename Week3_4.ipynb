{
  "cells": [
    {
      "cell_type": "markdown",
      "metadata": {
        "id": "view-in-github",
        "colab_type": "text"
      },
      "source": [
        "<a href=\"https://colab.research.google.com/github/likeeyong51/MyNotebooks/blob/main/Week3_4.ipynb\" target=\"_parent\"><img src=\"https://colab.research.google.com/assets/colab-badge.svg\" alt=\"Open In Colab\"/></a>"
      ]
    },
    {
      "cell_type": "markdown",
      "metadata": {
        "id": "wWHNhutmJms_"
      },
      "source": [
        "## Week 3\n",
        ">\n",
        "- Class activities\n",
        "> - Try out each class example/exercise\n",
        "> * We will look at each more closely in class\n",
        "> * We will be using [draw.io](https://app.diagrams.net) for creating our `flowcharts`"
      ]
    },
    {
      "cell_type": "markdown",
      "source": [
        "You can use this notebook to `design your algorithm` and `translate them into Python`.\n",
        "\n",
        "`Caveat:` Please ensure you `save a copy` of this notebook to `your own google drive space`"
      ],
      "metadata": {
        "id": "oWrwWFIAipUM"
      }
    },
    {
      "cell_type": "markdown",
      "source": [
        "* We will be discussing how to use this practical notebook for our class activities and cataloging your work\n",
        "\n",
        "* This is an example of a text region of your notebook where you could insert your notes and it supports rich text\n",
        "\n",
        "\n"
      ],
      "metadata": {
        "id": "hR9kxyttjrew"
      }
    },
    {
      "cell_type": "code",
      "source": [
        "# this is a code area where you can insert your python code\n",
        "# You can also insert your pseudocode as comments in the code section"
      ],
      "metadata": {
        "id": "A1hCQoS-i3vT"
      },
      "execution_count": null,
      "outputs": []
    },
    {
      "cell_type": "markdown",
      "source": [
        "<hr>"
      ],
      "metadata": {
        "id": "B8KbexkY3SI1"
      }
    },
    {
      "cell_type": "markdown",
      "source": [
        "### Example `1`\n",
        "> - Design an algorithm with an algorithm with `pseudocode` to show the process of `preparing a cup\n",
        "of detox tea`.\n",
        "\n",
        "<div>\n",
        "    <img src=\"https://drive.google.com/uc?export=view&id=1gIiX4rcHzmVfsHTQ7iyCqYiI0CJuXnRl\" width=\"30%\" />\n",
        "</div>"
      ],
      "metadata": {
        "id": "G9hy4Loxttu-"
      }
    },
    {
      "cell_type": "markdown",
      "source": [
        "### Example `2`\n",
        "> - Design an algorithm with a `flowchart` to assign `first_name` and `last_name` of students into the variable called `full_name` and display.\n",
        "\n",
        "<div>\n",
        "    <img src=\"https://drive.google.com/uc?export=view&id=1Y_umfBCAYW-Ho_ASzomYM0Yd9IsAT20A\" width=\"30%\" />\n",
        "</div>"
      ],
      "metadata": {
        "id": "lkjrK2bHvXmU"
      }
    },
    {
      "cell_type": "markdown",
      "source": [
        "### Example `3`\n",
        "> - Design an algorithm with a flowchart to calculate an estimated arrival time for a drive from Geelong to Melbourne. You must obtain the distance between the two destinations, average speed you supposed to drive and display the estimated drive time.\n",
        "\n",
        "<div>\n",
        "    <img src=\"https://drive.google.com/uc?export=view&id=1zjfKymLMJJJfBKQ_JEqgSdV_2F6gHnTE\" width=\"50%\" />\n",
        "</div>"
      ],
      "metadata": {
        "id": "5smBUsoWxOSV"
      }
    },
    {
      "cell_type": "markdown",
      "source": [
        "<hr>"
      ],
      "metadata": {
        "id": "WZr00slg3Wmj"
      }
    },
    {
      "cell_type": "markdown",
      "source": [
        "### Exercise `1`\n",
        "> - Design an algorithm with a `flowchart` to show the process of `preparing a jam sandwich`.\n"
      ],
      "metadata": {
        "id": "Vz86-0SIyJ4g"
      }
    },
    {
      "cell_type": "markdown",
      "source": [
        "### Exercise `2`\n",
        "> - Design an algorithm with a `flowchart` to assign address of students into the variable called `address` and display.\n"
      ],
      "metadata": {
        "id": "MxL9dtxQyTMJ"
      }
    },
    {
      "cell_type": "markdown",
      "source": [
        "### Exercise `3`\n",
        "> - Design an algorithm with a `flowchart` to calculate `average score` of `five` students who completed quiz 1.\n"
      ],
      "metadata": {
        "id": "SS9Zn0rLzj0n"
      }
    },
    {
      "cell_type": "markdown",
      "source": [
        "<hr>"
      ],
      "metadata": {
        "id": "Kt3FXEOe3ZMc"
      }
    },
    {
      "cell_type": "markdown",
      "source": [
        "## Session `2`"
      ],
      "metadata": {
        "id": "NwLURZay0DTX"
      }
    },
    {
      "cell_type": "markdown",
      "source": [
        "### More on `Pseudo`code\n",
        "\n",
        "> `Pseudocode` is structured English made up of a sequence of statements describing the steps of an algorithm.  It uses a set of reserved terms. Using Pseudocode,  we can design a solution to a problem by documenting the steps that a program performs to solve a problem and achieve the desired outcome.\n",
        "\n",
        "- Here are some commonly-used words in pseudocodes:\n",
        "<div>\n",
        "    <img src=\"https://drive.google.com/uc?export=view&id=1AWsgzINBXupDif6Nv5tXx_htFELw0ySF\" width=\"50%\" />\n",
        "</div>\n",
        "\n",
        "`Note`: We will add more to the list as we make our way through the trimester."
      ],
      "metadata": {
        "id": "vV42m1EN0KQO"
      }
    },
    {
      "cell_type": "markdown",
      "source": [
        "<hr>"
      ],
      "metadata": {
        "id": "Dy-VEk4A3bbD"
      }
    },
    {
      "cell_type": "markdown",
      "source": [
        "### Example `1`\n",
        "> Design an algorithm `pseudocode` to show the process of `preparing a cup of detox tea`.\n",
        "\n",
        "`START`\n",
        "    \n",
        "    FILL kettle with water\n",
        "    SET it to boil\n",
        "\n",
        "    FIND a mug\n",
        "    FIND a detox tea bag\n",
        "\n",
        "    PUT tea bag in the mug\n",
        "    FILL boiled water in mug\n",
        "\n",
        "    LET it cool\n",
        "    DRINK tea\n",
        "`END`\n",
        "\n"
      ],
      "metadata": {
        "id": "nM-RKRmW13yS"
      }
    },
    {
      "cell_type": "markdown",
      "source": [
        "### Example `2`\n",
        "> Design an algorithm with a `pseudocode` to assign `first name` and `last name` of students into the variable called `full name` and display it.\n",
        "\n",
        "`START`\n",
        "   \n",
        "    // Input: Get first_name, last_name\n",
        "    PROMPT user for first name\n",
        "    READ first_name\n",
        "    PROMPT user for the last name\n",
        "    READ last_name\n",
        "\n",
        "    // Process: concatenate first_name and last_name\n",
        "    full_name = first name + “ “ + last name\n",
        "\n",
        "    // Output: Display full_name\n",
        "    PRINT full_name\n",
        "`END`"
      ],
      "metadata": {
        "id": "F2wIS4x32fn8"
      }
    },
    {
      "cell_type": "markdown",
      "source": [
        "### Example `3`\n",
        "> Design an algorithm with a `pseudocode` to calculate an `estimated arrival time` for a drive from Geelong to Melbourne. You must obtain the distance between the two destinations, average speed you supposed to drive and display the estimated drive time.\n",
        "\n",
        "`START`\n",
        "    // initialise input variables\n",
        "    distance = 0\n",
        "    speed     =  0\n",
        "\n",
        "    // GET distance and speed\n",
        "    PROMPT user for distance  (km)\n",
        "    READ distance\n",
        "    PROMPT user for speed (km/h)\n",
        "    READ speed\n",
        "\n",
        "    // calculate distance travelled\n",
        "    time_travelled = distance / speed\n",
        "\n",
        "    // DISPLAY time travelled\n",
        "    PRINT time_travelled\n",
        "`END`"
      ],
      "metadata": {
        "id": "Ay0tIXon4Kn7"
      }
    },
    {
      "cell_type": "markdown",
      "source": [
        "<hr>"
      ],
      "metadata": {
        "id": "Ukqrv2me6GOq"
      }
    },
    {
      "cell_type": "markdown",
      "source": [
        "### Exercise `1`\n",
        "> Write the algorithm in `pseudocode` to show the process of preparing a jam sandwich.\n",
        "\n"
      ],
      "metadata": {
        "id": "BjyLXa836JNg"
      }
    },
    {
      "cell_type": "markdown",
      "source": [
        "### Exercise `2`\n",
        "> Develop in `pseudocode` an algorithm to assign `house address` of students (house_number, street_address, suburb, postcode)  into the variable called `address` and display it.\n"
      ],
      "metadata": {
        "id": "zUG0JdrV6h2w"
      }
    },
    {
      "cell_type": "markdown",
      "source": [
        "### Exercise `3`\n",
        "> Develop in `pseudocode` an algorithm to calculate `average score` of `five` students who completed the quiz 1.\n"
      ],
      "metadata": {
        "id": "kyMYa-rL6XRQ"
      }
    },
    {
      "cell_type": "markdown",
      "source": [
        "### Week 4\n",
        "* Class activities\n",
        "* We will be using [anvil.works](https://anvil.works) for creating our web apps"
      ],
      "metadata": {
        "id": "cjnjilpikj50"
      }
    },
    {
      "cell_type": "code",
      "source": [],
      "metadata": {
        "id": "3Vb6Ec8GlBfC"
      },
      "execution_count": null,
      "outputs": []
    }
  ],
  "metadata": {
    "kernelspec": {
      "display_name": "Python 3 (ipykernel)",
      "language": "python",
      "name": "python3"
    },
    "language_info": {
      "codemirror_mode": {
        "name": "ipython",
        "version": 3
      },
      "file_extension": ".py",
      "mimetype": "text/x-python",
      "name": "python",
      "nbconvert_exporter": "python",
      "pygments_lexer": "ipython3",
      "version": "3.11.7"
    },
    "colab": {
      "provenance": [],
      "include_colab_link": true
    }
  },
  "nbformat": 4,
  "nbformat_minor": 0
}